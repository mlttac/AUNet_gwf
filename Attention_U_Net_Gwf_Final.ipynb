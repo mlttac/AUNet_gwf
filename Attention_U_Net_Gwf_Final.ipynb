{
  "nbformat": 4,
  "nbformat_minor": 0,
  "metadata": {
    "accelerator": "GPU",
    "colab": {
      "name": "Attention U-Net Gwf - Final.ipynb",
      "provenance": [],
      "collapsed_sections": [],
      "include_colab_link": true
    },
    "kernelspec": {
      "display_name": "Python 3",
      "name": "python3"
    }
  },
  "cells": [
    {
      "cell_type": "markdown",
      "metadata": {
        "id": "view-in-github",
        "colab_type": "text"
      },
      "source": [
        "<a href=\"https://colab.research.google.com/github/mlttac/AUNet_gwf/blob/main/Attention_U_Net_Gwf_Final.ipynb\" target=\"_parent\"><img src=\"https://colab.research.google.com/assets/colab-badge.svg\" alt=\"Open In Colab\"/></a>"
      ]
    },
    {
      "cell_type": "markdown",
      "metadata": {
        "id": "J0lzwzqZSX6f"
      },
      "source": [
        "# Physics guided Attention U-Net for steady State Groundwater Flow"
      ]
    },
    {
      "cell_type": "markdown",
      "metadata": {
        "id": "Y0r6-d9NIRuH"
      },
      "source": [
        "The goal of this notebook is to model Steady State Groundwater flow using a Novel Machine Learning approach. We combine a Encoder-Decoder Neural network and a modifed loss function, incorporating physical system knowledge.  \n",
        "\n",
        "We predict simple steady state groundwater flow by training an Attention U-Net using an image to image translation approach. \n",
        "\n",
        "![sample output_gwf](https://drive.google.com/uc?export=view&id=1-3mBj_HAnlP_ZS3stoOjUJe2QNpMEIHT)\n",
        "\n",
        "The input is reduced to a tensor of (height $\\times$ width $\\times$ 3) with height and width of 64. The first dimension gives the head values defined at the boundaries, i.e. the well and boundary locations, the layer give a 0 or 1 whether a cell is a boundary cell. The last dimension is a Gaussian random field in which the hydraulic conductivity field K can have value belonging to one of 5 classes between 0.1 and 1: [0.1,0.28,0.46,0.64,0.82,1.]    \n",
        "The target predictions are the simulation results performed by the  fully-implicit 3D finite difference model MODFLOW. "
      ]
    },
    {
      "cell_type": "markdown",
      "metadata": {
        "id": "EyznKekqOvKn"
      },
      "source": [
        "We import the modules we need. "
      ]
    },
    {
      "cell_type": "code",
      "metadata": {
        "colab": {
          "base_uri": "https://localhost:8080/",
          "height": 34
        },
        "id": "ycnFT7ElqU3u",
        "outputId": "f8f5816e-afef-4ae3-9e56-e604a851220a"
      },
      "source": [
        "import pandas\n",
        "(pandas. __version__)"
      ],
      "execution_count": null,
      "outputs": [
        {
          "output_type": "execute_result",
          "data": {
            "application/vnd.google.colaboratory.intrinsic+json": {
              "type": "string"
            },
            "text/plain": [
              "'1.1.5'"
            ]
          },
          "metadata": {},
          "execution_count": 2
        }
      ]
    },
    {
      "cell_type": "code",
      "metadata": {
        "id": "X8lcMiMwPLsb",
        "colab": {
          "base_uri": "https://localhost:8080/"
        },
        "outputId": "18535fb6-f10f-47b8-d9dc-3afbbf7ab852"
      },
      "source": [
        "import tensorflow as tf\n",
        "print(tf. __version__)\n",
        "import numpy as np\n",
        "import os\n",
        "import time\n",
        "from datetime import datetime\n",
        "import pandas as pd\n",
        "\n",
        "import matplotlib.colors as colors\n",
        "from matplotlib import colors as c\n",
        "import matplotlib.patches as mpatches\n",
        "import matplotlib.cm as cm\n",
        "from matplotlib import colors\n",
        "\n",
        "\n",
        "from matplotlib import pyplot as plt\n",
        "from IPython import display\n",
        "\n",
        "from keras.losses import SparseCategoricalCrossentropy, MeanSquaredError\n",
        "from keras import backend as K\n",
        "\n",
        "from keras.callbacks import Callback, LambdaCallback, LearningRateScheduler\n",
        "\n",
        "\n",
        "# print(sys.version)\n",
        "# print('numpy version: {}'.format(np.__version__))\n",
        "# print('matplotlib version: {}'.format(mpl.__version__))"
      ],
      "execution_count": null,
      "outputs": [
        {
          "output_type": "stream",
          "name": "stdout",
          "text": [
            "2.7.0\n"
          ]
        }
      ]
    },
    {
      "cell_type": "markdown",
      "metadata": {
        "id": "xUO1PieRPbe5"
      },
      "source": [
        "## Physics Loss Function\n",
        "\n",
        "The physics term of the loss function is set as the residual in terms of the partial differential, in this case the fundamental governing equation for steady state groundwater flow, i.e.:\n",
        "\n",
        "\\begin{equation}\n",
        "{\\nabla\\cdot (\\mathbf{K}\\nabla{h}}) = 0\n",
        "\\end{equation}\n",
        "\n",
        "To calculate this a finite difference schema is incorporated into the loss function based on the Control-Volume Finite-Difference Flow Equation, corresponding to MODFLOW implementation:\n",
        "\n",
        "\\begin{equation}\n",
        "\\sum_{j=1}^{4}C_{i,j}(h_{i} - h_{j}) + P_{well}h_{well} = 0\n",
        "\\end{equation}\n",
        "\n",
        "where h are nodes in the schema as shown in the following figure.\n",
        "\n",
        "![Laplace 5 point FD Schema](https://drive.google.com/uc?export=view&id=1dHOIKdpLOlvR3HLQYgs_sMZvZkdqtQ17)\n",
        "\n",
        "In the particular case of cell width =1: \n",
        "\n",
        "\\begin{equation}\n",
        "C_{i,j} = 2 \\frac{k_{i} k_{j}}{k_{i} + k_{j}}\n",
        "\\end{equation}\n",
        "\n",
        "and  the external sink/source term is calculated only for the input wells:\n",
        "\n",
        "\\begin{equation}\n",
        "P_{well} = k_{i,well} ( 4 - \\frac{\\sum_{j=1}^{4}{h_{j}}}{h_{i,well}})\n",
        "\\end{equation}\n",
        "\n"
      ]
    },
    {
      "cell_type": "markdown",
      "metadata": {
        "id": "Hl3Q-ZxATRQA"
      },
      "source": [
        "### Setting up the FD Template\n",
        "\n",
        "As a Finite Difference template is tructurally equivalent to a convolutional kernel, we use a customized convolution kernel following our FD schema."
      ]
    },
    {
      "cell_type": "code",
      "metadata": {
        "id": "gERq1ujDTuVl"
      },
      "source": [
        "def make_kernel(a):\n",
        "    \"\"\"Transform a 2D array into a convolution kernel\"\"\"\n",
        "    a = np.asarray(a)\n",
        "    a = a.reshape(list(a.shape) + [1, 1])\n",
        "    return tf.constant(a, dtype=1)\n",
        "\n",
        "headKernels2D = [ make_kernel([ [0., 1., 0.], [0., -1., 0.], [0., 0., 0.]]),\n",
        "                  make_kernel([ [0., 0., 0.], [0., -1., 1.], [0., 0., 0.]]),\n",
        "                  make_kernel([ [0., 0., 0.], [0., -1., 0.], [0., 1., 0.]]),\n",
        "                  make_kernel([ [0., 0., 0.], [1., -1., 0.], [0., 0., 0.]])]\n",
        "\n",
        "t1Kernels2D = [ make_kernel([[0., 0., 0.], [0., 1., 0.],[0., 0., 0.]]),\n",
        "                make_kernel([[0., 0., 0.], [0., 1., 0.], [0., 0., 0.]]),\n",
        "                make_kernel([[0., 0., 0.], [0., 1., 0.], [0., 0., 0.]]),\n",
        "                make_kernel([[0., 0., 0.], [0., 1., 0.], [0., 0., 0.]])]\n",
        "\n",
        "t2Kernels2D = [ make_kernel([[0., 1., 0.], [0., 0., 0.], [0., 0., 0.]]),\n",
        "                make_kernel([[0., 0., 0.], [0., 0., 1.], [0., 0., 0.]]),    \n",
        "                make_kernel([[0., 0., 0.], [0., 0., 0.], [0., 1., 0.]]),\n",
        "                make_kernel([[0., 0., 0.], [1., 0., 0.], [0., 0., 0.]])]"
      ],
      "execution_count": null,
      "outputs": []
    },
    {
      "cell_type": "markdown",
      "metadata": {
        "id": "eW_VhOZCT5vP"
      },
      "source": [
        "Now that the FD schema is coded into a convolutional kernel ( *'headKernels2D'* ) we must provide a mechanism to use the kernel to evaluate the PDE.\n",
        " "
      ]
    },
    {
      "cell_type": "code",
      "metadata": {
        "id": "I5Q6xSZGTNd9"
      },
      "source": [
        "def simple_conv(x, k):\n",
        "  \"\"\"A simplified 2D convolution operation\"\"\"\n",
        "  x = tf.expand_dims(tf.expand_dims(x, 0), -1)\n",
        "  #y_d = tf.nn.depthwise_conv2d(x, k, [1, 1, 1, 1], padding='VALID')  # SAME\n",
        "  y = tf.nn.conv2d(x, k, [1, 1, 1, 1], padding='VALID')\n",
        "  # print( \"x shape: {} , k shape: {}, y shape: {}\".format(x.shape, k.shape, y.shape))\n",
        "  return y[0, :, :, :,:]\n",
        "\n",
        "def evalKernels(x, kernels):\n",
        "    \"\"\"Compute the 2D laplacian of an array\"\"\"\n",
        "    vals = []\n",
        "    for kernel in kernels:\n",
        "        vals.append(simple_conv(x, kernel))\n",
        "    return tf.concat(vals,-1)"
      ],
      "execution_count": null,
      "outputs": []
    },
    {
      "cell_type": "markdown",
      "metadata": {
        "id": "xjwWjcjtUfaT"
      },
      "source": [
        "By calling *'evalKernels'*, we will now evaluate the partial differential over the provided array. \n",
        "\n",
        "Let's make a small example. We define a random input head and apply the finite difference template on it. "
      ]
    },
    {
      "cell_type": "code",
      "metadata": {
        "id": "Q8NCifCzUe3p"
      },
      "source": [
        "heads = np.random.randint(low=0, high=10, size=[4, 4])\n",
        "heads = tf.convert_to_tensor(heads, dtype=tf.float32)\n",
        "dH_x = evalKernels(tf.expand_dims(heads, 0), headKernels2D)\n",
        "headkernel0 = [[0., 1., 0.],[0., -1., 0.],[0., 0., 0.]]"
      ],
      "execution_count": null,
      "outputs": []
    },
    {
      "cell_type": "code",
      "metadata": {
        "colab": {
          "base_uri": "https://localhost:8080/",
          "height": 236
        },
        "id": "14cDmGXGvTQY",
        "outputId": "7e140c4b-ac4c-4530-c599-69bc514a8973"
      },
      "source": [
        "# params = {\"ytick.color\" : \"w\",\n",
        "#           \"xtick.color\" : \"w\",\n",
        "#           \"axes.labelcolor\" : \"w\",\n",
        "#           \"axes.edgecolor\" : \"w\"}\n",
        "# plt.rcParams.update(params)\n",
        "\n",
        "kerneln = 1 # choose kernel number  \n",
        "fig = plt.figure(figsize=(10, 10))\n",
        "sub=[121, 132 , 133]\n",
        "titles = [\"Input Head\" , r\"$\\ast$ Kernel {}\".format(kerneln) , '= h{0} - h{1}'.format('\\N{LATIN SUBSCRIPT SMALL LETTER M}','\\N{LATIN SUBSCRIPT SMALL LETTER N}') ]\n",
        "headKernel = headKernels2D[kerneln][:,:,0,0].numpy()\n",
        "cmaps=['Greys','Pastel2', 'Pastel2' ]\n",
        "item= [heads, headKernel, dH_x[0,:,:,kerneln]]\n",
        "\n",
        "for i in range(len(titles)):\n",
        "  ax = fig.add_subplot(sub[i])\n",
        "  plt.title(titles[i])\n",
        "  im = plt.imshow(item[i], cmap=cmaps[i],interpolation='nearest')\n",
        "  for (j,i),label in np.ndenumerate(item[i]):\n",
        "          ax.text(i,j, \"{:.1f}\".format(label), color='black', ha='center', va='center',size='xx-large')\n",
        "          ax.set_xticks([])\n",
        "          ax.set_yticks([])\n",
        "\n",
        "plt.subplots_adjust(wspace=1)\n",
        "plt.show()"
      ],
      "execution_count": null,
      "outputs": [
        {
          "output_type": "display_data",
          "data": {
            "image/png": "[encoded data removed]",
            "text/plain": [
              "<Figure size 720x720 with 3 Axes>"
            ]
          },
          "metadata": {}
        }
      ]
    },
    {
      "cell_type": "markdown",
      "metadata": {
        "id": "Kb0FYDFZZNhC"
      },
      "source": [
        "### Loss Function\n",
        "\n",
        "Now we must transform this simple convolution function into a loss function for our encoder-decoder. Typically with a loss function the comparison is between the groundtruth (*'y_true'*) and the prediction (*'y_pred'*) however the physics loss function is solely based on the prediction, as it the loss is based on the partial differential equation.\n",
        "\n",
        "The calling routine is called with both input and prediction: the first gives the values of the hydraulic conductivities while the latter those of the predicted groundwater head. "
      ]
    },
    {
      "cell_type": "code",
      "metadata": {
        "id": "DsWtk3psZWRP"
      },
      "source": [
        "def custom_loss(inp,tar ):\n",
        "  trans = inp[:, :, :, 2] # hydraulic conductivity k\n",
        "  head = tar[:, :, :, 0] # groundwater head h\n",
        "  # Conductivity term\n",
        "  Ti = evalKernels(trans, t1Kernels2D)\n",
        "  Tj = evalKernels(trans, t2Kernels2D)\n",
        "  C = tf.divide(tf.multiply(tf.constant(2.0), tf.multiply(Ti, Tj)), \n",
        "                tf.add(Ti, Tj))\n",
        "\n",
        "  dH_x = evalKernels(head, headKernels2D)\n",
        "  SUM_C_h = tf.expand_dims(tf.reduce_sum(tf.multiply(C, dH_x), 3), axis=-1)\n",
        "\n",
        "  mask_inputhead = evalKernels(inp[:, :, :, 1], t1Kernels2D) # 1 on the well, 0 otherwise\n",
        "  mask_inputhead = tf.add(1.0, -mask_inputhead) # 0 on the well, 1 otherwise\n",
        "  SUM_C_h = tf.multiply(mask_inputhead[0], SUM_C_h)\n",
        "\n",
        "  # tf.print (SUM_C_h.shape)\n",
        "  #  External sink/source term\n",
        "  # headsj = [make_kernel([[0., 1., 0.],[1., 0., 1.], [0., 1., 0.]])] \n",
        "  # hi = evalKernels(head, t1Kernels2D)\n",
        "  # h_around = evalKernels(head, headsj)\n",
        "  # Pm =  tf.multiply(Ti[0],(tf.subtract(tf.multiply(hi[0], 4),h_around[0])))\n",
        "  # # Mask to apply Pm only where there is a pumping well  \n",
        "  # mask_inputhead = evalKernels(inp[:, :, :, 1], t1Kernels2D)\n",
        "  # P_well = tf.multiply(mask_inputhead[0], Pm)\n",
        "  # output = tf.add(SUM_C_h, P_well)\n",
        "\n",
        "  return  SUM_C_h"
      ],
      "execution_count": null,
      "outputs": []
    },
    {
      "cell_type": "markdown",
      "metadata": {
        "id": "D6m31sWMbomW"
      },
      "source": [
        "There are also other ways to implement the PDE into the loss function without considering the FD scheme. \n",
        "The following implementation [(*primal_residual_fc*)](https://github.com/cics-nd/pde-surrogate/blob/b39c8d3caec59fe7253f5cf7171558d83835a8a3/models/darcy.py#L13) takes the equation: \n",
        "\n",
        "\\begin{equation}\n",
        "{\\nabla\\cdot (\\mathbf{K}\\nabla{u}}) = 0\n",
        "\\end{equation}\n",
        "\n",
        "and applies integration by parts ( div(fa)=fdiv(a)+∇f⋅a ). The loss function becomes: \n",
        "\n",
        "\\begin{equation}\n",
        "\\mathbf{K} {\\nabla\\cdot (\\nabla{u}})  + {\\nabla{\\mathbf{K}}} {\\nabla{u}} = 0\n",
        "\\end{equation}"
      ]
    },
    {
      "cell_type": "code",
      "metadata": {
        "id": "nXzDuVxGnOnL"
      },
      "source": [
        "def primal_residual(u, u_source, k, BATCH_SIZE = 1, CHANNELS = 1):\n",
        "\n",
        "    u = tf.reshape(u, shape=(BATCH_SIZE, IMG_H, IMG_W, CHANNELS))\n",
        "    k = tf.reshape(k, shape=(BATCH_SIZE, IMG_H, IMG_W, CHANNELS))\n",
        "    dudx, dudy = tf.image.image_gradients(u)\n",
        "    dkdx, dkdy = tf.image.image_gradients(k)\n",
        "    du2dx = tf.image.image_gradients(dudx)[0]\n",
        "    du2dy = tf.image.image_gradients(dudy)[1]\n",
        "\n",
        "    div1 = dkdx * dudx + k * du2dx \n",
        "    div2 = dkdy * dudy + k * du2dy \n",
        "    div = div1[0,:, :, 0] + div2[0,:, :, 0]\n",
        "    # WHY to the power of 2?!! \n",
        "    loss_pde= (div)**2 \n",
        "    loss_pde_mean = tf.reduce_mean(loss_pde) \n",
        "    return div1[0,:, :, 0], div2[0,:, :, 0]\n"
      ],
      "execution_count": null,
      "outputs": []
    },
    {
      "cell_type": "markdown",
      "metadata": {
        "id": "FTY6K6huedMh"
      },
      "source": [
        "## Load the dataset\n",
        "\n",
        "We load the dataset generated with the 3D finite difference model MODFLOW. "
      ]
    },
    {
      "cell_type": "code",
      "metadata": {
        "colab": {
          "base_uri": "https://localhost:8080/"
        },
        "id": "4vKrfsWjfFw8",
        "outputId": "61c03ceb-6bd4-4ec5-d313-f0cbe6b0b0fd"
      },
      "source": [
        "if 'google.colab' in str(get_ipython()):\n",
        "  print('Running on CoLab')\n",
        "  from google.colab import drive\n",
        "  drive.mount('/content/gdrive/')\n",
        "  path = '/content/gdrive/My Drive/Colaboratory/Datasets'\n",
        "  folder_path = \"/content/gdrive/My Drive/Colaboratory/ED\"\n",
        "else:\n",
        "  print('Not running on CoLab')\n",
        "  path = 'C:/Colab/AUnet'\n",
        "  folder_path = \"C:/Colab/AUnet\"\n",
        "  # path = 'D:/Development/Machine Learning/Neural Networks/MLFlow/Data Generator_Latest/gwf.npz'"
      ],
      "execution_count": null,
      "outputs": [
        {
          "output_type": "stream",
          "name": "stdout",
          "text": [
            "Running on CoLab\n",
            "Mounted at /content/gdrive/\n"
          ]
        }
      ]
    },
    {
      "cell_type": "code",
      "metadata": {
        "id": "CyEaRga5ZHm8"
      },
      "source": [
        "with np.load(os.path.join(path, \"40000_samples.npz\")) as data:\n",
        "  train_examples_loaded = tf.cast(data['x_train'], tf.float32)\n",
        "  train_labels_loaded = tf.cast(data['y_train'], tf.float32)\n",
        "  test_examples = tf.cast(data['x_test'], tf.float32)\n",
        "  test_labels = tf.cast(data['y_test'], tf.float32)\n",
        "  # valid_examples = tf.cast(data['x_validation'], tf.float32)\n",
        "  # valid_labels = tf.cast(data['y_validation'], tf.float32)"
      ],
      "execution_count": null,
      "outputs": []
    },
    {
      "cell_type": "markdown",
      "metadata": {
        "id": "NFvcF5RWnVUS"
      },
      "source": [
        "Split the training dataset into 70% for training and 30% for testing. "
      ]
    },
    {
      "cell_type": "code",
      "metadata": {
        "id": "iVVa9vID3mqf",
        "colab": {
          "base_uri": "https://localhost:8080/"
        },
        "outputId": "ddc9f2e6-6f68-44f6-e569-2cb6257ed1c1"
      },
      "source": [
        "# Function to find the number closest\n",
        "# to n and divisible by m\n",
        "def closestNumber(n, m) :\n",
        "\tq = int(n / m)\n",
        "\tn1 = m * q\n",
        "\tif((n * m) > 0) :\n",
        "\t\tn2 = (m * (q + 1))\n",
        "\telse :\n",
        "\t\tn2 = (m * (q - 1))\n",
        "\tif (abs(n - n1) < abs(n - n2)) :\n",
        "\t\treturn n1\n",
        "\treturn n2\n",
        "\t\n",
        "BATCH_SIZE = 40\n",
        "train_examples_30per = 0.2 * train_examples_loaded.shape[0] \n",
        "# get the closest number to the 80% of sample which is divisible by the batch size\n",
        "N_TRAIN = closestNumber(train_examples_30per, BATCH_SIZE)\n",
        "\n",
        "valid_examples = train_examples_loaded[-N_TRAIN:]\n",
        "valid_labels = train_labels_loaded[-N_TRAIN:]\n",
        "train_examples = train_examples_loaded[:-N_TRAIN]\n",
        "train_labels = train_labels_loaded[:-N_TRAIN]\n",
        "\n",
        "print(\"Shape of training tensor (batch - width - height - features):\", train_examples.shape)\n",
        "print(\"Shape of training labels tensor:\", train_labels.shape)\n",
        "print(\"Shape of test tensor:\", test_examples.shape)\n",
        "print(\"Shape of validation tensor:\", valid_examples.shape)\n",
        "\n",
        "N_TRAIN = train_examples.shape[0] \n",
        "BUFFER_SIZE = N_TRAIN\n",
        "IMG_H = 64\n",
        "IMG_W = 64\n",
        "STEPS_PER_EPOCH = N_TRAIN//BATCH_SIZE\n",
        "\n",
        "train_dataset = tf.data.Dataset.from_tensor_slices((train_examples, train_labels))\n",
        "train_dataset = train_dataset.shuffle(BUFFER_SIZE)\n",
        "train_dataset = train_dataset.batch(BATCH_SIZE)\n",
        "\n",
        "test_dataset_original = tf.data.Dataset.from_tensor_slices((test_examples, test_labels))\n",
        "test_dataset = test_dataset_original.batch(BATCH_SIZE)\n",
        "\n",
        "valid_dataset_original = tf.data.Dataset.from_tensor_slices((valid_examples, valid_labels))\n",
        "valid_dataset = valid_dataset_original.batch(BATCH_SIZE)\n"
      ],
      "execution_count": null,
      "outputs": [
        {
          "output_type": "stream",
          "name": "stdout",
          "text": [
            "Shape of training tensor (batch - width - height - features): (32000, 64, 64, 3)\n",
            "Shape of training labels tensor: (32000, 64, 64, 1)\n",
            "Shape of test tensor: (4000, 64, 64, 3)\n",
            "Shape of validation tensor: (8000, 64, 64, 3)\n"
          ]
        }
      ]
    },
    {
      "cell_type": "markdown",
      "metadata": {
        "id": "PNdhw-xdaRgi"
      },
      "source": [
        "Let's visualize a random sample and the corresponding physics loss. "
      ]
    },
    {
      "cell_type": "code",
      "metadata": {
        "id": "0p1Y_NKWPPmE",
        "colab": {
          "base_uri": "https://localhost:8080/",
          "height": 155
        },
        "outputId": "47e0a22b-b2aa-489a-ece7-245aa3142b2f"
      },
      "source": [
        "import matplotlib as mpl\n",
        "mpl.rcParams.update(mpl.rcParamsDefault)\n",
        "import random \n",
        "\n",
        "def fig_losses(inp, tar):\n",
        "  loss_primal, loss_primal2 = primal_residual( tar[:, :, 0], inp[:, :, 0], inp[:, :, 2])\n",
        "  loss_modflow = custom_loss(tf.expand_dims(inp,axis=0), tf.expand_dims(tar,axis=0) )\n",
        "  plt.figure(figsize=(15,15))\n",
        "  display_list = [inp[:, :, 0], inp[:, :, 2], tar[:, :, 0],loss_modflow[0,:, :, 0], loss_primal ]\n",
        "  title = ['Input Head', 'Input Material', 'Target', \n",
        "           'Loss MODFLOW', 'Primal residual loss']\n",
        "\n",
        "  for i in range(len(display_list)):\n",
        "    plt.subplot(1, 5, i+1)\n",
        "    plt.title(title[i])\n",
        "    im = plt.imshow(display_list[i])\n",
        "    plt.colorbar(im,fraction=0.05, pad=0.03)\n",
        "    #plt.axis('off')\n",
        "\n",
        "  plt.tight_layout()\n",
        "  plt.show()\n",
        "  return loss_modflow, loss_primal\n",
        "\n",
        "n = random.randint(0, N_TRAIN)\n",
        "inp = train_examples[n]\n",
        "tar = train_labels[n]\n",
        "loss_modflow, loss_primal = fig_losses(inp, tar)"
      ],
      "execution_count": null,
      "outputs": [
        {
          "output_type": "display_data",
          "data": {
            "image/png": "[encoded data removed]",
            "text/plain": [
              "<Figure size 1500x1500 with 10 Axes>"
            ]
          },
          "metadata": {}
        }
      ]
    },
    {
      "cell_type": "code",
      "metadata": {
        "id": "8fY2x9j4bN9q",
        "colab": {
          "base_uri": "https://localhost:8080/",
          "height": 205
        },
        "outputId": "a082ba5a-101b-42e6-b5eb-3766c249609e"
      },
      "source": [
        "def plot_boundary(Xboundary, title=None):\n",
        "    cmap = colors.ListedColormap(['white', 'firebrick'])\n",
        "    #norm = colors.BoundaryNorm([0,1,1], cmap.N)\n",
        "    img = plt.spy(Xboundary, markersize=5, precision=0.1, origin=\"lower\", color = 'firebrick')\n",
        "    # img = plt.imshow(Xboundary, origin='lower',cmap=cmap, norm=norm)\n",
        "    cbar = plt.colorbar(plt.imshow(Xboundary,cmap = cmap),fraction=0.05)\n",
        "    cbar.ax.get_yaxis().set_ticks([])\n",
        "    cbar.ax.text(0.8, 0.8, '$fixed$', ha='left', va='center', rotation=270)\n",
        "    if title:\n",
        "      plt.title(title)\n",
        "    plt.axis('off')\n",
        "    return plt\n",
        "\n",
        "\n",
        "def fig_inputs(inp, tar):\n",
        "  plt.figure(figsize=(15,15))\n",
        "  display_list = [inp[:, :, 0], inp[:, :, 1],inp[:, :, 2], tar[:, :, 0]]\n",
        "  title = ['Input Head', 'Input Boundary', 'Input Material', 'Target']\n",
        "\n",
        "  for i in range(len(display_list)):\n",
        "    plt.subplot(1, 5, i+1)\n",
        "    plt.title(title[i])\n",
        "    if i==1:\n",
        "      plot_boundary(display_list[i])\n",
        "    elif i==0 or i==3:\n",
        "      im = plt.imshow(display_list[i], cmap= 'gray')\n",
        "      plt.colorbar(im,fraction=0.05, pad=0.03)\n",
        "    else:\n",
        "      im = plt.imshow(display_list[i])\n",
        "      plt.colorbar(im,fraction=0.05, pad=0.03)\n",
        "\n",
        "  plt.tight_layout()\n",
        "  plt.show()\n",
        "  return \n",
        "\n",
        "n = random.randint(0, N_TRAIN)\n",
        "inp = train_examples[n]\n",
        "tar = train_labels[n]\n",
        "fig_inputs(inp, tar)"
      ],
      "execution_count": null,
      "outputs": [
        {
          "output_type": "display_data",
          "data": {
            "image/png": "[encoded data removed]",
            "text/plain": [
              "<Figure size 1500x1500 with 8 Axes>"
            ]
          },
          "metadata": {}
        }
      ]
    },
    {
      "cell_type": "code",
      "metadata": {
        "id": "Msn329IJxuDf",
        "colab": {
          "base_uri": "https://localhost:8080/",
          "height": 542
        },
        "outputId": "4db6c549-e20e-49bb-d1c1-e9fc3718c7b3"
      },
      "source": [
        "from plotly.subplots import make_subplots\n",
        "import plotly.graph_objects as go\n",
        "import plotly.express as px\n",
        "fig = make_subplots(rows=1, cols=2, subplot_titles=(\"Input\", \"Target\"))\n",
        "\n",
        "img = px.imshow(inp[:, :, 0])\n",
        "fig.add_trace(img.data[0])\n",
        "fig.update_yaxes(autorange=\"reversed\") #y-axis is reversed by default \n",
        "\n",
        "img = px.imshow(tar[:, :, 0])\n",
        "fig.add_trace(img.data[0],row=1, col=2)"
      ],
      "execution_count": null,
      "outputs": [
        {
          "output_type": "display_data",
          "data": {
            "text/html": [
              "<html>\n",
              "<head><meta charset=\"utf-8\" /></head>\n",
              "<body>\n",
              "    <div>\n",
              "            <script src=\"https://cdnjs.cloudflare.com/ajax/libs/mathjax/2.7.5/MathJax.js?config=TeX-AMS-MML_SVG\"></script><script type=\"text/javascript\">if (window.MathJax) {MathJax.Hub.Config({SVG: {font: \"STIX-Web\"}});}</script>\n",
              "                <script type=\"text/javascript\">window.PlotlyConfig = {MathJaxConfig: 'local'};</script>\n",
              "        <script src=\"https://cdn.plot.ly/plotly-latest.min.js\"></script>    \n",
              "            <div id=\"68e8e869-28f3-4300-8edc-71152977ca25\" class=\"plotly-graph-div\" style=\"height:525px; width:100%;\"></div>\n",
              "            <script type=\"text/javascript\">\n",
              "                \n",
              "                    window.PLOTLYENV=window.PLOTLYENV || {};\n",
              "                    \n",
              "                if (document.getElementById(\"68e8e869-28f3-4300-8edc-71152977ca25\")) {\n",
              "                    Plotly.newPlot(\n",
              "                        '68e8e869-28f3-4300-8edc-71152977ca25',\n",
              "                        [{\"coloraxis\": \"coloraxis\", \"type\": \"heatmap\", \"z\": [[1.0, 1.0, 1.0, 1.0, 1.0, 1.0, 1.0, 1.0, 1.0, 1.0, 1.0, 1.0, 1.0, 1.0, 1.0, 1.0, 1.0, 1.0, 1.0, 1.0, 1.0, 1.0, 1.0, 1.0, 1.0, 1.0, 1.0, 1.0, 1.0, 1.0, 1.0, 1.0, 1.0, 1.0, 1.0, 1.0, 1.0, 1.0, 1.0, 1.0, 1.0, 1.0, 1.0, 1.0, 1.0, 1.0, 1.0, 1.0, 1.0, 1.0, 1.0, 1.0, 1.0, 1.0, 1.0, 1.0, 1.0, 1.0, 1.0, 1.0, 1.0, 1.0, 1.0, 1.0], [1.0, 1.0, 1.0, 1.0, 1.0, 1.0, 1.0, 1.0, 1.0, 1.0, 1.0, 1.0, 1.0, 1.0, 1.0, 1.0, 1.0, 1.0, 1.0, 1.0, 1.0, 1.0, 1.0, 1.0, 1.0, 1.0, 1.0, 1.0, 1.0, 1.0, 1.0, 1.0, 1.0, 1.0, 1.0, 1.0, 1.0, 1.0, 1.0, 1.0, 1.0, 1.0, 1.0, 1.0, 1.0, 1.0, 1.0, 1.0, 1.0, 1.0, 1.0, 1.0, 1.0, 1.0, 1.0, 1.0, 1.0, 1.0, 1.0, 1.0, 1.0, 1.0, 1.0, 1.0], [1.0, 1.0, 1.0, 1.0, 1.0, 1.0, 1.0, 1.0, 1.0, 1.0, 1.0, 1.0, 1.0, 1.0, 1.0, 1.0, 1.0, 1.0, 1.0, 1.0, 1.0, 1.0, 1.0, 1.0, 1.0, 1.0, 1.0, 1.0, 1.0, 1.0, 1.0, 1.0, 1.0, 1.0, 1.0, 1.0, 1.0, 1.0, 1.0, 1.0, 1.0, 1.0, 1.0, 1.0, 1.0, 1.0, 1.0, 1.0, 1.0, 1.0, 1.0, 1.0, 1.0, 1.0, 1.0, 1.0, 1.0, 1.0, 1.0, 1.0, 1.0, 1.0, 1.0, 1.0], [1.0, 1.0, 1.0, 1.0, 1.0, 1.0, 1.0, 1.0, 1.0, 1.0, 1.0, 1.0, 1.0, 1.0, 1.0, 1.0, 1.0, 1.0, 1.0, 1.0, 1.0, 1.0, 1.0, 1.0, 1.0, 1.0, 1.0, 1.0, 1.0, 1.0, 1.0, 1.0, 1.0, 1.0, 1.0, 1.0, 1.0, 1.0, 1.0, 1.0, 1.0, 1.0, 1.0, 1.0, 1.0, 1.0, 1.0, 1.0, 1.0, 1.0, 1.0, 1.0, 1.0, 1.0, 1.0, 1.0, 1.0, 1.0, 1.0, 1.0, 1.0, 1.0, 1.0, 1.0], [1.0, 1.0, 1.0, 1.0, 1.0, 1.0, 1.0, 1.0, 1.0, 1.0, 1.0, 1.0, 1.0, 1.0, 1.0, 1.0, 1.0, 1.0, 1.0, 1.0, 1.0, 1.0, 1.0, 1.0, 1.0, 1.0, 1.0, 1.0, 1.0, 1.0, 1.0, 1.0, 1.0, 1.0, 1.0, 1.0, 1.0, 1.0, 1.0, 1.0, 1.0, 1.0, 1.0, 1.0, 1.0, 1.0, 1.0, 1.0, 1.0, 1.0, 1.0, 1.0, 1.0, 1.0, 1.0, 1.0, 1.0, 1.0, 1.0, 1.0, 1.0, 1.0, 1.0, 1.0], [1.0, 1.0, 1.0, 1.0, 1.0, 1.0, 1.0, 1.0, 1.0, 1.0, 1.0, 1.0, 1.0, 1.0, 1.0, 1.0, 1.0, 1.0, 1.0, 1.0, 1.0, 1.0, 1.0, 1.0, 1.0, 1.0, 1.0, 1.0, 1.0, 1.0, 1.0, 1.0, 1.0, 1.0, 1.0, 1.0, 1.0, 1.0, 1.0, 1.0, 1.0, 1.0, 1.0, 1.0, 1.0, 1.0, 1.0, 1.0, 1.0, 1.0, 1.0, 1.0, 1.0, 1.0, 1.0, 1.0, 1.0, 1.0, 1.0, 1.0, 1.0, 1.0, 1.0, 1.0], [1.0, 1.0, 1.0, 1.0, 1.0, 1.0, 1.0, 1.0, 1.0, 1.0, 1.0, 1.0, 1.0, 1.0, 1.0, 1.0, 1.0, 1.0, 1.0, 1.0, 1.0, 1.0, 1.0, 1.0, 1.0, 1.0, 1.0, 1.0, 1.0, 1.0, 1.0, 1.0, 1.0, 1.0, 1.0, 1.0, 1.0, 1.0, 1.0, 1.0, 1.0, 1.0, 1.0, 1.0, 1.0, 1.0, 1.0, 1.0, 1.0, 1.0, 1.0, 1.0, 1.0, 1.0, 1.0, 1.0, 1.0, 1.0, 1.0, 1.0, 1.0, 1.0, 1.0, 1.0], [1.0, 1.0, 1.0, 1.0, 1.0, 1.0, 1.0, 1.0, 1.0, 1.0, 1.0, 1.0, 1.0, 1.0, 1.0, 1.0, 1.0, 1.0, 1.0, 1.0, 1.0, 1.0, 1.0, 1.0, 1.0, 1.0, 1.0, 1.0, 1.0, 1.0, 1.0, 1.0, 1.0, 1.0, 1.0, 1.0, 1.0, 1.0, 1.0, 1.0, 1.0, 1.0, 1.0, 1.0, 1.0, 1.0, 1.0, 1.0, 1.0, 1.0, 1.0, 1.0, 1.0, 1.0, 1.0, 1.0, 1.0, 1.0, 1.0, 1.0, 1.0, 1.0, 1.0, 1.0], [1.0, 1.0, 1.0, 1.0, 1.0, 1.0, 1.0, 1.0, 1.0, 1.0, 1.0, 1.0, 1.0, 1.0, 1.0, 1.0, 1.0, 1.0, 1.0, 1.0, 1.0, 1.0, 1.0, 1.0, 1.0, 1.0, 1.0, 1.0, 1.0, 1.0, 1.0, 1.0, 1.0, 1.0, 1.0, 1.0, 1.0, 1.0, 1.0, 1.0, 1.0, 1.0, 1.0, 1.0, 1.0, 1.0, 1.0, 1.0, 1.0, 1.0, 1.0, 1.0, 1.0, 1.0, 1.0, 1.0, 1.0, 1.0, 1.0, 1.0, 1.0, 1.0, 1.0, 1.0], [1.0, 1.0, 1.0, 1.0, 1.0, 1.0, 1.0, 1.0, 1.0, 1.0, 1.0, 1.0, 1.0, 1.0, 1.0, 1.0, 1.0, 1.0, 1.0, 1.0, 1.0, 1.0, 1.0, 1.0, 1.0, 1.0, 1.0, 1.0, 1.0, 1.0, 1.0, 1.0, 1.0, 1.0, 1.0, 1.0, 1.0, 1.0, 1.0, 1.0, 1.0, 1.0, 1.0, 1.0, 1.0, 1.0, 1.0, 1.0, 1.0, 1.0, 1.0, 1.0, 1.0, 1.0, 1.0, 1.0, 1.0, 1.0, 1.0, 1.0, 1.0, 1.0, 1.0, 1.0], [1.0, 1.0, 1.0, 1.0, 1.0, 1.0, 1.0, 1.0, 1.0, 1.0, 1.0, 1.0, 1.0, 1.0, 1.0, 1.0, 1.0, 1.0, 1.0, 1.0, 1.0, 1.0, 1.0, 1.0, 1.0, 1.0, 1.0, 1.0, 1.0, 1.0, 1.0, 1.0, 1.0, 1.0, 1.0, 1.0, 1.0, 1.0, 1.0, 1.0, 1.0, 1.0, 1.0, 1.0, 1.0, 1.0, 1.0, 1.0, 1.0, 1.0, 1.0, 1.0, 1.0, 1.0, 1.0, 1.0, 1.0, 1.0, 1.0, 1.0, 1.0, 1.0, 1.0, 1.0], [1.0, 1.0, 1.0, 1.0, 1.0, 1.0, 1.0, 1.0, 1.0, 1.0, 1.0, 1.0, 1.0, 1.0, 1.0, 1.0, 1.0, 1.0, 1.0, 1.0, 1.0, 1.0, 1.0, 1.0, 1.0, 1.0, 1.0, 1.0, 1.0, 1.0, 1.0, 1.0, 1.0, 1.0, 1.0, 1.0, 1.0, 1.0, 1.0, 1.0, 1.0, 1.0, 1.0, 1.0, 1.0, 1.0, 1.0, 1.0, 1.0, 1.0, 1.0, 1.0, 1.0, 1.0, 1.0, 1.0, 1.0, 1.0, 1.0, 1.0, 1.0, 1.0, 1.0, 1.0], [1.0, 1.0, 1.0, 1.0, 1.0, 1.0, 1.0, 1.0, 1.0, 1.0, 1.0, 1.0, 1.0, 1.0, 1.0, 1.0, 1.0, 1.0, 1.0, 1.0, 1.0, 1.0, 1.0, 1.0, 1.0, 1.0, 1.0, 1.0, 1.0, 1.0, 1.0, 1.0, 1.0, 1.0, 1.0, 1.0, 1.0, 1.0, 1.0, 1.0, 1.0, 1.0, 1.0, 1.0, 1.0, 1.0, 1.0, 1.0, 1.0, 1.0, 1.0, 1.0, 1.0, 1.0, 1.0, 1.0, 1.0, 1.0, 1.0, 1.0, 1.0, 1.0, 1.0, 1.0], [1.0, 1.0, 1.0, 1.0, 1.0, 1.0, 1.0, 1.0, 1.0, 1.0, 1.0, 1.0, 1.0, 1.0, 1.0, 1.0, 1.0, 1.0, 1.0, 1.0, 1.0, 1.0, 1.0, 1.0, 1.0, 1.0, 1.0, 1.0, 1.0, 1.0, 1.0, 1.0, 1.0, 1.0, 1.0, 1.0, 1.0, 1.0, 1.0, 1.0, 1.0, 1.0, 1.0, 1.0, 1.0, 1.0, 1.0, 1.0, 1.0, 1.0, 1.0, 1.0, 1.0, 1.0, 1.0, 1.0, 1.0, 1.0, 1.0, 1.0, 1.0, 1.0, 1.0, 1.0], [1.0, 1.0, 1.0, 1.0, 1.0, 1.0, 1.0, 1.0, 1.0, 1.0, 1.0, 1.0, 1.0, 1.0, 1.0, 1.0, 1.0, 1.0, 1.0, 1.0, 1.0, 1.0, 1.0, 1.0, 1.0, 1.0, 1.0, 1.0, 1.0, 1.0, 1.0, 1.0, 1.0, 1.0, 1.0, 1.0, 1.0, 1.0, 1.0, 1.0, 1.0, 1.0, 1.0, 1.0, 1.0, 1.0, 1.0, 1.0, 1.0, 1.0, 1.0, 1.0, 1.0, 1.0, 1.0, 1.0, 1.0, 1.0, 1.0, 1.0, 1.0, 1.0, 1.0, 1.0], [1.0, 1.0, 1.0, 1.0, 1.0, 1.0, 1.0, 1.0, 1.0, 1.0, 1.0, 1.0, 1.0, 1.0, 1.0, 1.0, 1.0, 1.0, 1.0, 1.0, 1.0, 1.0, 1.0, 1.0, 1.0, 1.0, 1.0, 1.0, 1.0, 1.0, 1.0, 1.0, 1.0, 1.0, 1.0, 1.0, 1.0, 1.0, 1.0, 1.0, 1.0, 1.0, 1.0, 1.0, 1.0, 1.0, 1.0, 1.0, 1.0, 1.0, 1.0, 1.0, 1.0, 1.0, 1.0, 1.0, 1.0, 1.0, 1.0, 1.0, 1.0, 1.0, 1.0, 1.0], [1.0, 1.0, 1.0, 1.0, 1.0, 1.0, 1.0, 1.0, 1.0, 1.0, 1.0, 1.0, 1.0, 1.0, 1.0, 1.0, 1.0, 1.0, 1.0, 1.0, 1.0, 1.0, 1.0, 1.0, 1.0, 1.0, 1.0, 1.0, 1.0, 1.0, 1.0, 1.0, 1.0, 1.0, 1.0, 1.0, 1.0, 1.0, 1.0, 1.0, 1.0, 1.0, 1.0, 1.0, 1.0, 1.0, 1.0, 1.0, 1.0, 1.0, 1.0, 1.0, 1.0, 1.0, 1.0, 1.0, 1.0, 1.0, 1.0, 1.0, 1.0, 1.0, 1.0, 1.0], [1.0, 1.0, 1.0, 1.0, 1.0, 1.0, 1.0, 1.0, 1.0, 1.0, 1.0, 1.0, 1.0, 1.0, 1.0, 1.0, 1.0, 1.0, 1.0, 1.0, 1.0, 1.0, 1.0, 1.0, 1.0, 1.0, 1.0, 1.0, 1.0, 1.0, 1.0, 1.0, 1.0, 1.0, 1.0, 1.0, 1.0, 1.0, 1.0, 1.0, 1.0, 1.0, 1.0, 1.0, 1.0, 1.0, 1.0, 1.0, 1.0, 1.0, 1.0, 1.0, 1.0, 1.0, 1.0, 1.0, 1.0, 1.0, 1.0, 1.0, 1.0, 1.0, 1.0, 1.0], [1.0, 1.0, 1.0, 1.0, 1.0, 1.0, 1.0, 1.0, 1.0, 1.0, 1.0, 1.0, 1.0, 1.0, 1.0, 1.0, 1.0, 1.0, 1.0, 1.0, 1.0, 1.0, 1.0, 1.0, 1.0, 1.0, 1.0, 1.0, 1.0, 1.0, 1.0, 1.0, 1.0, 1.0, 1.0, 1.0, 1.0, 1.0, 1.0, 1.0, 1.0, 1.0, 1.0, 1.0, 1.0, 1.0, 1.0, 1.0, 1.0, 1.0, 1.0, 1.0, 1.0, 1.0, 1.0, 1.0, 1.0, 1.0, 1.0, 1.0, 1.0, 1.0, 1.0, 1.0], [1.0, 1.0, 1.0, 1.0, 1.0, 1.0, 1.0, 1.0, 1.0, 1.0, 1.0, 1.0, 1.0, 1.0, 1.0, 1.0, 1.0, 1.0, 1.0, 1.0, 1.0, 1.0, 1.0, 1.0, 1.0, 1.0, 1.0, 1.0, 1.0, 1.0, 1.0, 1.0, 1.0, 1.0, 1.0, 1.0, 1.0, 1.0, 1.0, 1.0, 1.0, 1.0, 1.0, 1.0, 1.0, 1.0, 1.0, 1.0, 1.0, 1.0, 1.0, 1.0, 1.0, 1.0, 1.0, 1.0, 1.0, 1.0, 1.0, 1.0, 1.0, 1.0, 1.0, 1.0], [1.0, 1.0, 1.0, 1.0, 1.0, 1.0, 1.0, 1.0, 1.0, 1.0, 1.0, 1.0, 1.0, 1.0, 1.0, 1.0, 1.0, 1.0, 1.0, 1.0, 1.0, 1.0, 1.0, 1.0, 1.0, 1.0, 1.0, 1.0, 1.0, 1.0, 1.0, 1.0, 1.0, 1.0, 1.0, 1.0, 1.0, 1.0, 1.0, 1.0, 1.0, 1.0, 1.0, 1.0, 1.0, 1.0, 1.0, 1.0, 1.0, 1.0, 1.0, 1.0, 1.0, 1.0, 1.0, 1.0, 1.0, 1.0, 1.0, 1.0, 1.0, 1.0, 1.0, 1.0], [1.0, 1.0, 1.0, 1.0, 1.0, 1.0, 1.0, 1.0, 1.0, 1.0, 1.0, 1.0, 1.0, 1.0, 1.0, 1.0, 1.0, 1.0, 1.0, 1.0, 1.0, 1.0, 1.0, 1.0, 1.0, 1.0, 1.0, 1.0, 1.0, 1.0, 1.0, 1.0, 1.0, 1.0, 1.0, 1.0, 1.0, 1.0, 1.0, 1.0, 1.0, 1.0, 1.0, 1.0, 1.0, 1.0, 1.0, 1.0, 1.0, 1.0, 1.0, 1.0, 1.0, 1.0, 1.0, 1.0, 1.0, 1.0, 1.0, 1.0, 1.0, 1.0, 1.0, 1.0], [1.0, 1.0, 1.0, 1.0, 1.0, 1.0, 1.0, 1.0, 1.0, 1.0, 1.0, 1.0, 1.0, 1.0, 1.0, 1.0, 1.0, 1.0, 1.0, 1.0, 1.0, 1.0, 1.0, 1.0, 1.0, 1.0, 1.0, 1.0, 1.0, 1.0, 1.0, 1.0, 1.0, 1.0, 1.0, 1.0, 1.0, 1.0, 1.0, 1.0, 1.0, 1.0, 1.0, 1.0, 1.0, 1.0, 1.0, 1.0, 1.0, 1.0, 1.0, 1.0, 1.0, 1.0, 1.0, 1.0, 1.0, 1.0, 1.0, 1.0, 1.0, 1.0, 1.0, 1.0], [1.0, 1.0, 1.0, 1.0, 1.0, 1.0, 1.0, 1.0, 1.0, 1.0, 1.0, 1.0, 1.0, 1.0, 1.0, 1.0, 1.0, 1.0, 1.0, 1.0, 1.0, 1.0, 1.0, 1.0, 1.0, 1.0, 1.0, 1.0, 1.0, 1.0, 1.0, 1.0, 1.0, 1.0, 1.0, 1.0, 1.0, 1.0, 1.0, 1.0, 1.0, 1.0, 1.0, 1.0, 1.0, 1.0, 1.0, 1.0, 1.0, 1.0, 1.0, 1.0, 1.0, 1.0, 1.0, 1.0, 1.0, 1.0, 1.0, 1.0, 1.0, 1.0, 1.0, 1.0], [1.0, 1.0, 1.0, 1.0, 1.0, 1.0, 1.0, 1.0, 1.0, 1.0, 1.0, 1.0, 1.0, 1.0, 1.0, 1.0, 1.0, 1.0, 1.0, 1.0, 1.0, 1.0, 1.0, 1.0, 1.0, 1.0, 1.0, 1.0, 1.0, 1.0, 1.0, 1.0, 1.0, 1.0, 1.0, 1.0, 1.0, 1.0, 1.0, 1.0, 1.0, 1.0, 1.0, 1.0, 1.0, 1.0, 1.0, 1.0, 1.0, 1.0, 1.0, 1.0, 1.0, 1.0, 1.0, 1.0, 1.0, 1.0, 1.0, 1.0, 1.0, 1.0, 1.0, 1.0], [1.0, 1.0, 1.0, 1.0, 1.0, 1.0, 1.0, 1.0, 1.0, 1.0, 1.0, 1.0, 1.0, 1.0, 1.0, 1.0, 1.0, 1.0, 1.0, 1.0, 1.0, 1.0, 1.0, 1.0, 1.0, 1.0, 1.0, 1.0, 1.0, 1.0, 1.0, 1.0, 1.0, 1.0, 1.0, 1.0, 1.0, 1.0, 1.0, 1.0, 1.0, 1.0, 1.0, 1.0, 1.0, 1.0, 1.0, 1.0, 1.0, 1.0, 1.0, 1.0, 1.0, 1.0, 1.0, 1.0, 1.0, 1.0, 1.0, 1.0, 1.0, 1.0, 1.0, 1.0], [1.0, 1.0, 1.0, 1.0, 1.0, 1.0, 1.0, 1.0, 1.0, 1.0, 1.0, 1.0, 1.0, 1.0, 1.0, 1.0, 1.0, 1.0, 1.0, 1.0, 1.0, 1.0, 1.0, 1.0, 1.0, 1.0, 1.0, 1.0, 1.0, 1.0, 1.0, 1.0, 1.0, 1.0, 1.0, 1.0, 1.0, 1.0, 1.0, 1.0, 1.0, 1.0, 1.0, 1.0, 1.0, 1.0, 1.0, 1.0, 1.0, 1.0, 1.0, 1.0, 1.0, 1.0, 1.0, 1.0, 1.0, 1.0, 1.0, 1.0, 1.0, 1.0, 1.0, 1.0], [1.0, 1.0, 1.0, 1.0, 1.0, 1.0, 1.0, 1.0, 1.0, 1.0, 1.0, 1.0, 1.0, 1.0, 1.0, 1.0, 1.0, 1.0, 1.0, 1.0, 1.0, 1.0, 1.0, 1.0, 1.0, 1.0, 1.0, 1.0, 1.0, 1.0, 1.0, 1.0, 1.0, 1.0, 1.0, 1.0, 1.0, 1.0, 1.0, 1.0, 1.0, 1.0, 1.0, 1.0, 1.0, 1.0, 1.0, 1.0, 1.0, 1.0, 1.0, 1.0, 1.0, 1.0, 1.0, 1.0, 1.0, 1.0, 1.0, 1.0, 1.0, 1.0, 1.0, 1.0], [1.0, 1.0, 1.0, 1.0, 1.0, 1.0, 1.0, 1.0, 1.0, 1.0, 1.0, 1.0, 1.0, 1.0, 1.0, 1.0, 1.0, 1.0, 1.0, 1.0, 1.0, 1.0, 1.0, 1.0, 1.0, 1.0, 1.0, 1.0, 1.0, 1.0, 1.0, 1.0, 1.0, 1.0, 1.0, 1.0, 1.0, 1.0, 1.0, 1.0, 1.0, 1.0, 1.0, 1.0, 1.0, 1.0, 1.0, 1.0, 1.0, 1.0, 1.0, 1.0, 1.0, 1.0, 1.0, 1.0, 1.0, 1.0, 1.0, 1.0, 1.0, 1.0, 1.0, 1.0], [1.0, 1.0, 1.0, 1.0, 1.0, 1.0, 1.0, 1.0, 1.0, 1.0, 1.0, 1.0, 1.0, 1.0, 1.0, 1.0, 1.0, 1.0, 1.0, 1.0, 1.0, 1.0, 1.0, 1.0, 1.0, 1.0, 1.0, 1.0, 1.0, 1.0, 1.0, 1.0, 1.0, 1.0, 1.0, 1.0, 1.0, 1.0, 1.0, 1.0, 1.0, 1.0, 1.0, 1.0, 1.0, 1.0, 1.0, 1.0, 1.0, 1.0, 1.0, 1.0, 1.0, 1.0, 1.0, 1.0, 1.0, 1.0, 1.0, 1.0, 1.0, 1.0, 1.0, 1.0], [1.0, 1.0, 1.0, 1.0, 1.0, 1.0, 1.0, 1.0, 1.0, 1.0, 1.0, 1.0, 1.0, 1.0, 1.0, 1.0, 1.0, 1.0, 1.0, 1.0, 1.0, 1.0, 1.0, 1.0, 1.0, 1.0, 1.0, 1.0, 1.0, 1.0, 1.0, 1.0, 1.0, 1.0, 1.0, 1.0, 1.0, 1.0, 1.0, 1.0, 1.0, 1.0, 1.0, 1.0, 1.0, 1.0, 1.0, 1.0, 1.0, 1.0, 1.0, 1.0, 1.0, 1.0, 1.0, 1.0, 1.0, 1.0, 1.0, 1.0, 1.0, 1.0, 1.0, 1.0], [1.0, 1.0, 1.0, 1.0, 1.0, 1.0, 1.0, 1.0, 1.0, 1.0, 1.0, 1.0, 1.0, 1.0, 1.0, 1.0, 1.0, 1.0, 1.0, 1.0, 1.0, 1.0, 1.0, 1.0, 1.0, 1.0, 1.0, 1.0, 1.0, 1.0, 1.0, 1.0, 1.0, 1.0, 1.0, 1.0, 1.0, 1.0, 1.0, 1.0, 1.0, 1.0, 1.0, 1.0, 1.0, 1.0, 1.0, 1.0, 1.0, 1.0, 1.0, 1.0, 1.0, 1.0, 1.0, 1.0, 1.0, 1.0, 1.0, 1.0, 1.0, 1.0, 1.0, 1.0], [1.0, 1.0, 1.0, 1.0, 1.0, 1.0, 1.0, 1.0, 1.0, 1.0, 1.0, 1.0, 1.0, 1.0, 1.0, 1.0, 1.0, 1.0, 1.0, 1.0, 1.0, 1.0, 1.0, 1.0, 1.0, 1.0, 1.0, 1.0, 1.0, 1.0, 1.0, 1.0, 1.0, 1.0, 1.0, 1.0, 1.0, 1.0, 1.0, 1.0, 1.0, 1.0, 1.0, 1.0, 1.0, 1.0, 1.0, 1.0, 1.0, 1.0, 1.0, 1.0, 1.0, 1.0, 1.0, 1.0, 1.0, 1.0, 1.0, 1.0, 1.0, 1.0, 1.0, 1.0], [1.0, 1.0, 1.0, 1.0, 1.0, 1.0, 1.0, 1.0, 1.0, 1.0, 1.0, 1.0, 1.0, 1.0, 1.0, 1.0, 1.0, 1.0, 1.0, 1.0, 1.0, 1.0, 1.0, 1.0, 1.0, 1.0, 1.0, 1.0, 1.0, 1.0, 1.0, 1.0, 1.0, 1.0, 1.0, 1.0, 1.0, 1.0, 1.0, 1.0, 1.0, 1.0, 1.0, 1.0, 1.0, 1.0, 1.0, 1.0, 1.0, 1.0, 1.0, 1.0, 1.0, 1.0, 1.0, 1.0, 1.0, 1.0, 1.0, 1.0, 1.0, 1.0, 1.0, 1.0], [1.0, 1.0, 1.0, 1.0, 1.0, 1.0, 1.0, 1.0, 1.0, 1.0, 1.0, 1.0, 1.0, 1.0, 1.0, 1.0, 1.0, 1.0, 1.0, 1.0, 1.0, 1.0, 1.0, 1.0, 1.0, 1.0, 1.0, 1.0, 1.0, 1.0, 1.0, 1.0, 1.0, 1.0, 1.0, 1.0, 1.0, 1.0, 1.0, 1.0, 1.0, 1.0, 1.0, 1.0, 1.0, 1.0, 1.0, 1.0, 1.0, 1.0, 1.0, 1.0, 1.0, 1.0, 1.0, 1.0, 1.0, 1.0, 1.0, 1.0, 1.0, 1.0, 1.0, 1.0], [1.0, 1.0, 1.0, 1.0, 1.0, 1.0, 1.0, 1.0, 1.0, 1.0, 1.0, 1.0, 1.0, 1.0, 1.0, 1.0, 1.0, 1.0, 1.0, 1.0, 1.0, 1.0, 1.0, 1.0, 1.0, 1.0, 1.0, 1.0, 1.0, 1.0, 1.0, 1.0, 1.0, 1.0, 1.0, 1.0, 1.0, 1.0, 1.0, 1.0, 1.0, 1.0, 1.0, 1.0, 1.0, 1.0, 1.0, 1.0, 1.0, 1.0, 1.0, 1.0, 1.0, 1.0, 1.0, 1.0, 1.0, 1.0, 1.0, 1.0, 1.0, 1.0, 1.0, 1.0], [1.0, 1.0, 1.0, 1.0, 1.0, 1.0, 1.0, 1.0, 1.0, 1.0, 1.0, 1.0, 1.0, 1.0, 1.0, 1.0, 1.0, 1.0, 1.0, 1.0, 1.0, 1.0, 1.0, 1.0, 1.0, 1.0, 1.0, 1.0, 1.0, 1.0, 1.0, 1.0, 1.0, 1.0, 1.0, 1.0, 1.0, 1.0, 1.0, 1.0, 1.0, 1.0, 1.0, 1.0, 1.0, 1.0, 1.0, 1.0, 1.0, 1.0, 1.0, 1.0, 1.0, 1.0, 1.0, 1.0, 1.0, 1.0, 1.0, 1.0, 1.0, 1.0, 1.0, 1.0], [1.0, 1.0, 1.0, 1.0, 1.0, 1.0, 1.0, 1.0, 1.0, 1.0, 1.0, 1.0, 1.0, 1.0, 1.0, 1.0, 1.0, 1.0, 1.0, 1.0, 1.0, 1.0, 1.0, 1.0, 1.0, 1.0, 1.0, 1.0, 1.0, 1.0, 1.0, 1.0, 1.0, 1.0, 1.0, 1.0, 1.0, 1.0, 1.0, 1.0, 1.0, 1.0, 1.0, 1.0, 1.0, 1.0, 1.0, 1.0, 1.0, 1.0, 1.0, 1.0, 1.0, 1.0, 1.0, 1.0, 1.0, 1.0, 1.0, 1.0, 1.0, 1.0, 1.0, 1.0], [1.0, 1.0, 1.0, 1.0, 1.0, 1.0, 1.0, 1.0, 1.0, 1.0, 1.0, 1.0, 1.0, 1.0, 1.0, 1.0, 1.0, 1.0, 1.0, 1.0, 1.0, 1.0, 1.0, 1.0, 1.0, 1.0, 1.0, 1.0, 1.0, 1.0, 1.0, 1.0, 1.0, 1.0, 1.0, 1.0, 1.0, 1.0, 1.0, 1.0, 1.0, 1.0, 1.0, 1.0, 1.0, 1.0, 1.0, 1.0, 1.0, 1.0, 1.0, 1.0, 1.0, 1.0, 1.0, 1.0, 1.0, 1.0, 1.0, 1.0, 1.0, 1.0, 1.0, 1.0], [1.0, 1.0, 1.0, 1.0, 1.0, 1.0, 1.0, 1.0, 1.0, 1.0, 1.0, 1.0, 1.0, 1.0, 1.0, 1.0, 1.0, 1.0, 1.0, 1.0, 1.0, 1.0, 1.0, 1.0, 1.0, 1.0, 1.0, 1.0, 1.0, 1.0, 1.0, 1.0, 1.0, 1.0, 1.0, 1.0, 1.0, 1.0, 1.0, 1.0, 1.0, 1.0, 1.0, 1.0, 1.0, 1.0, 1.0, 1.0, 1.0, 1.0, 1.0, 1.0, 1.0, 1.0, 1.0, 1.0, 1.0, 1.0, 1.0, 1.0, 1.0, 1.0, 1.0, 1.0], [1.0, 1.0, 1.0, 1.0, 1.0, 1.0, 1.0, 1.0, 1.0, 1.0, 1.0, 1.0, 0.5010950565338135, 1.0, 1.0, 1.0, 1.0, 1.0, 1.0, 1.0, 1.0, 1.0, 1.0, 1.0, 1.0, 1.0, 1.0, 1.0, 1.0, 1.0, 1.0, 1.0, 1.0, 1.0, 1.0, 1.0, 1.0, 1.0, 1.0, 1.0, 1.0, 1.0, 1.0, 1.0, 1.0, 1.0, 1.0, 1.0, 1.0, 1.0, 1.0, 1.0, 1.0, 1.0, 1.0, 1.0, 1.0, 1.0, 1.0, 1.0, 1.0, 1.0, 1.0, 1.0], [1.0, 1.0, 1.0, 1.0, 1.0, 1.0, 1.0, 1.0, 1.0, 1.0, 1.0, 1.0, 1.0, 1.0, 1.0, 1.0, 1.0, 1.0, 1.0, 1.0, 1.0, 1.0, 1.0, 1.0, 1.0, 1.0, 1.0, 1.0, 1.0, 1.0, 1.0, 1.0, 1.0, 1.0, 1.0, 1.0, 1.0, 1.0, 1.0, 1.0, 1.0, 1.0, 1.0, 1.0, 1.0, 1.0, 1.0, 1.0, 1.0, 1.0, 1.0, 1.0, 1.0, 1.0, 1.0, 0.7027391791343689, 1.0, 1.0, 1.0, 1.0, 1.0, 1.0, 1.0, 1.0], [1.0, 1.0, 1.0, 1.0, 1.0, 1.0, 1.0, 1.0, 1.0, 1.0, 1.0, 1.0, 1.0, 1.0, 1.0, 1.0, 1.0, 1.0, 1.0, 1.0, 1.0, 1.0, 1.0, 1.0, 1.0, 1.0, 1.0, 1.0, 1.0, 1.0, 1.0, 1.0, 1.0, 1.0, 1.0, 1.0, 1.0, 1.0, 1.0, 1.0, 1.0, 1.0, 1.0, 1.0, 1.0, 1.0, 1.0, 1.0, 1.0, 1.0, 1.0, 1.0, 1.0, 1.0, 1.0, 1.0, 1.0, 1.0, 1.0, 1.0, 1.0, 1.0, 1.0, 1.0], [1.0, 1.0, 1.0, 1.0, 1.0, 1.0, 1.0, 1.0, 1.0, 1.0, 1.0, 1.0, 1.0, 1.0, 1.0, 1.0, 1.0, 1.0, 1.0, 1.0, 1.0, 1.0, 1.0, 1.0, 1.0, 1.0, 1.0, 1.0, 1.0, 1.0, 1.0, 1.0, 1.0, 1.0, 1.0, 1.0, 1.0, 1.0, 1.0, 1.0, 1.0, 1.0, 1.0, 1.0, 1.0, 1.0, 1.0, 1.0, 1.0, 1.0, 1.0, 1.0, 1.0, 1.0, 1.0, 1.0, 1.0, 1.0, 1.0, 1.0, 1.0, 1.0, 1.0, 1.0], [1.0, 1.0, 1.0, 1.0, 1.0, 1.0, 1.0, 1.0, 1.0, 1.0, 1.0, 1.0, 1.0, 1.0, 1.0, 1.0, 1.0, 1.0, 1.0, 1.0, 1.0, 1.0, 1.0, 1.0, 1.0, 1.0, 1.0, 1.0, 1.0, 1.0, 1.0, 1.0, 1.0, 1.0, 1.0, 1.0, 1.0, 1.0, 1.0, 1.0, 1.0, 1.0, 1.0, 1.0, 1.0, 1.0, 1.0, 1.0, 1.0, 1.0, 1.0, 1.0, 1.0, 1.0, 1.0, 1.0, 1.0, 1.0, 1.0, 1.0, 1.0, 1.0, 1.0, 1.0], [1.0, 1.0, 1.0, 1.0, 1.0, 1.0, 1.0, 1.0, 1.0, 1.0, 1.0, 1.0, 1.0, 1.0, 1.0, 1.0, 1.0, 1.0, 1.0, 1.0, 1.0, 1.0, 1.0, 1.0, 1.0, 1.0, 1.0, 1.0, 1.0, 1.0, 1.0, 1.0, 1.0, 1.0, 1.0, 1.0, 1.0, 1.0, 1.0, 1.0, 1.0, 1.0, 1.0, 1.0, 1.0, 1.0, 1.0, 1.0, 1.0, 1.0, 1.0, 1.0, 1.0, 1.0, 1.0, 1.0, 1.0, 1.0, 1.0, 1.0, 1.0, 1.0, 1.0, 1.0], [1.0, 1.0, 1.0, 1.0, 1.0, 1.0, 1.0, 1.0, 1.0, 1.0, 1.0, 1.0, 1.0, 1.0, 1.0, 1.0, 1.0, 1.0, 1.0, 1.0, 1.0, 1.0, 1.0, 1.0, 1.0, 1.0, 1.0, 1.0, 1.0, 1.0, 1.0, 1.0, 1.0, 1.0, 1.0, 1.0, 1.0, 1.0, 1.0, 1.0, 1.0, 1.0, 1.0, 1.0, 1.0, 1.0, 1.0, 1.0, 1.0, 1.0, 1.0, 1.0, 1.0, 1.0, 1.0, 1.0, 1.0, 1.0, 1.0, 1.0, 1.0, 1.0, 1.0, 1.0], [1.0, 1.0, 1.0, 1.0, 1.0, 1.0, 1.0, 1.0, 1.0, 1.0, 1.0, 1.0, 1.0, 1.0, 1.0, 1.0, 1.0, 1.0, 1.0, 1.0, 1.0, 1.0, 1.0, 1.0, 1.0, 1.0, 1.0, 1.0, 1.0, 1.0, 1.0, 1.0, 1.0, 1.0, 1.0, 1.0, 1.0, 1.0, 1.0, 1.0, 1.0, 1.0, 1.0, 1.0, 1.0, 1.0, 1.0, 1.0, 1.0, 1.0, 1.0, 1.0, 1.0, 1.0, 1.0, 1.0, 1.0, 1.0, 1.0, 1.0, 1.0, 1.0, 1.0, 1.0], [1.0, 1.0, 1.0, 1.0, 1.0, 1.0, 1.0, 1.0, 1.0, 1.0, 1.0, 1.0, 1.0, 1.0, 1.0, 1.0, 1.0, 1.0, 1.0, 1.0, 1.0, 1.0, 1.0, 1.0, 1.0, 1.0, 1.0, 1.0, 1.0, 1.0, 1.0, 1.0, 1.0, 1.0, 1.0, 1.0, 1.0, 1.0, 1.0, 1.0, 1.0, 1.0, 1.0, 1.0, 1.0, 1.0, 1.0, 1.0, 1.0, 1.0, 1.0, 1.0, 1.0, 1.0, 1.0, 1.0, 1.0, 1.0, 1.0, 1.0, 1.0, 1.0, 1.0, 1.0], [1.0, 1.0, 1.0, 1.0, 1.0, 1.0, 1.0, 1.0, 1.0, 1.0, 1.0, 1.0, 1.0, 1.0, 1.0, 1.0, 1.0, 1.0, 1.0, 1.0, 1.0, 1.0, 1.0, 1.0, 1.0, 1.0, 1.0, 1.0, 1.0, 1.0, 1.0, 1.0, 1.0, 1.0, 1.0, 1.0, 1.0, 1.0, 1.0, 1.0, 1.0, 1.0, 1.0, 1.0, 1.0, 1.0, 1.0, 1.0, 1.0, 1.0, 1.0, 1.0, 1.0, 1.0, 1.0, 1.0, 1.0, 1.0, 1.0, 1.0, 1.0, 1.0, 1.0, 1.0], [1.0, 1.0, 1.0, 1.0, 1.0, 1.0, 1.0, 1.0, 1.0, 1.0, 1.0, 1.0, 1.0, 1.0, 1.0, 1.0, 1.0, 1.0, 1.0, 1.0, 1.0, 1.0, 1.0, 1.0, 1.0, 1.0, 1.0, 1.0, 1.0, 1.0, 1.0, 1.0, 1.0, 1.0, 1.0, 1.0, 1.0, 1.0, 1.0, 1.0, 1.0, 1.0, 1.0, 1.0, 1.0, 1.0, 1.0, 1.0, 1.0, 1.0, 1.0, 1.0, 1.0, 1.0, 1.0, 1.0, 1.0, 1.0, 1.0, 1.0, 1.0, 1.0, 1.0, 1.0], [1.0, 1.0, 1.0, 1.0, 1.0, 1.0, 1.0, 1.0, 1.0, 1.0, 1.0, 1.0, 1.0, 1.0, 1.0, 1.0, 1.0, 1.0, 1.0, 1.0, 1.0, 1.0, 1.0, 1.0, 1.0, 1.0, 1.0, 1.0, 1.0, 1.0, 1.0, 1.0, 1.0, 1.0, 1.0, 1.0, 1.0, 1.0, 1.0, 1.0, 1.0, 1.0, 1.0, 1.0, 1.0, 1.0, 1.0, 1.0, 1.0, 1.0, 1.0, 1.0, 1.0, 1.0, 1.0, 1.0, 1.0, 1.0, 1.0, 1.0, 1.0, 1.0, 1.0, 1.0], [1.0, 1.0, 1.0, 1.0, 1.0, 1.0, 1.0, 1.0, 1.0, 1.0, 1.0, 1.0, 1.0, 1.0, 1.0, 1.0, 1.0, 1.0, 1.0, 1.0, 1.0, 1.0, 1.0, 1.0, 1.0, 1.0, 1.0, 1.0, 1.0, 1.0, 1.0, 1.0, 1.0, 1.0, 1.0, 1.0, 1.0, 1.0, 1.0, 1.0, 1.0, 1.0, 1.0, 1.0, 1.0, 1.0, 1.0, 1.0, 1.0, 1.0, 1.0, 1.0, 1.0, 1.0, 1.0, 1.0, 1.0, 1.0, 1.0, 1.0, 1.0, 1.0, 1.0, 1.0], [1.0, 1.0, 1.0, 1.0, 1.0, 1.0, 1.0, 1.0, 1.0, 1.0, 1.0, 1.0, 1.0, 1.0, 1.0, 1.0, 1.0, 1.0, 1.0, 1.0, 1.0, 1.0, 1.0, 1.0, 1.0, 1.0, 1.0, 1.0, 1.0, 1.0, 1.0, 1.0, 1.0, 1.0, 1.0, 1.0, 1.0, 1.0, 1.0, 1.0, 1.0, 1.0, 1.0, 1.0, 1.0, 1.0, 1.0, 1.0, 1.0, 1.0, 1.0, 1.0, 1.0, 1.0, 1.0, 1.0, 1.0, 1.0, 1.0, 1.0, 1.0, 1.0, 1.0, 1.0], [1.0, 1.0, 1.0, 1.0, 1.0, 1.0, 1.0, 1.0, 1.0, 1.0, 1.0, 1.0, 1.0, 1.0, 1.0, 1.0, 1.0, 1.0, 1.0, 1.0, 1.0, 1.0, 1.0, 1.0, 1.0, 1.0, 1.0, 1.0, 1.0, 1.0, 1.0, 1.0, 1.0, 1.0, 1.0, 1.0, 1.0, 1.0, 1.0, 1.0, 1.0, 1.0, 1.0, 1.0, 1.0, 1.0, 1.0, 1.0, 1.0, 1.0, 1.0, 1.0, 1.0, 1.0, 1.0, 1.0, 1.0, 1.0, 1.0, 1.0, 1.0, 1.0, 1.0, 1.0], [1.0, 1.0, 1.0, 1.0, 1.0, 1.0, 1.0, 1.0, 1.0, 1.0, 1.0, 1.0, 1.0, 1.0, 1.0, 1.0, 1.0, 1.0, 1.0, 1.0, 1.0, 1.0, 1.0, 1.0, 1.0, 1.0, 1.0, 1.0, 1.0, 1.0, 1.0, 1.0, 1.0, 1.0, 1.0, 1.0, 1.0, 1.0, 1.0, 1.0, 1.0, 1.0, 1.0, 1.0, 1.0, 1.0, 1.0, 1.0, 1.0, 1.0, 1.0, 1.0, 1.0, 1.0, 1.0, 1.0, 1.0, 1.0, 1.0, 1.0, 1.0, 1.0, 1.0, 1.0], [1.0, 1.0, 1.0, 1.0, 1.0, 1.0, 1.0, 1.0, 1.0, 1.0, 1.0, 1.0, 1.0, 1.0, 1.0, 1.0, 1.0, 1.0, 1.0, 1.0, 1.0, 1.0, 1.0, 1.0, 1.0, 1.0, 1.0, 1.0, 1.0, 1.0, 1.0, 1.0, 1.0, 1.0, 1.0, 1.0, 1.0, 1.0, 1.0, 1.0, 1.0, 1.0, 1.0, 1.0, 1.0, 1.0, 1.0, 1.0, 1.0, 1.0, 1.0, 1.0, 1.0, 1.0, 1.0, 1.0, 1.0, 1.0, 1.0, 1.0, 1.0, 1.0, 1.0, 1.0], [1.0, 1.0, 1.0, 1.0, 1.0, 1.0, 1.0, 1.0, 1.0, 1.0, 1.0, 1.0, 1.0, 1.0, 1.0, 1.0, 1.0, 1.0, 1.0, 1.0, 1.0, 1.0, 1.0, 1.0, 1.0, 1.0, 1.0, 1.0, 1.0, 1.0, 1.0, 1.0, 1.0, 1.0, 1.0, 1.0, 1.0, 1.0, 1.0, 1.0, 1.0, 1.0, 1.0, 1.0, 1.0, 1.0, 1.0, 1.0, 1.0, 1.0, 1.0, 1.0, 1.0, 1.0, 1.0, 1.0, 1.0, 1.0, 1.0, 1.0, 1.0, 1.0, 1.0, 1.0], [1.0, 1.0, 1.0, 1.0, 1.0, 1.0, 1.0, 1.0, 1.0, 1.0, 1.0, 1.0, 1.0, 1.0, 1.0, 1.0, 1.0, 1.0, 1.0, 1.0, 1.0, 1.0, 1.0, 1.0, 1.0, 1.0, 1.0, 1.0, 1.0, 1.0, 1.0, 1.0, 1.0, 1.0, 1.0, 1.0, 1.0, 1.0, 1.0, 1.0, 1.0, 1.0, 1.0, 1.0, 1.0, 1.0, 1.0, 1.0, 1.0, 1.0, 1.0, 1.0, 1.0, 1.0, 1.0, 1.0, 1.0, 1.0, 1.0, 1.0, 1.0, 1.0, 1.0, 1.0], [1.0, 1.0, 1.0, 1.0, 1.0, 1.0, 1.0, 1.0, 1.0, 1.0, 1.0, 1.0, 1.0, 1.0, 1.0, 1.0, 1.0, 1.0, 1.0, 1.0, 1.0, 1.0, 1.0, 1.0, 1.0, 1.0, 1.0, 1.0, 1.0, 1.0, 1.0, 1.0, 1.0, 1.0, 1.0, 1.0, 1.0, 1.0, 1.0, 1.0, 1.0, 1.0, 1.0, 1.0, 1.0, 1.0, 1.0, 1.0, 1.0, 1.0, 1.0, 1.0, 1.0, 1.0, 1.0, 1.0, 1.0, 1.0, 1.0, 1.0, 1.0, 1.0, 1.0, 1.0], [1.0, 1.0, 1.0, 1.0, 1.0, 1.0, 1.0, 1.0, 1.0, 1.0, 1.0, 1.0, 1.0, 1.0, 1.0, 1.0, 1.0, 1.0, 1.0, 1.0, 1.0, 1.0, 1.0, 1.0, 1.0, 1.0, 1.0, 1.0, 1.0, 1.0, 1.0, 1.0, 1.0, 1.0, 1.0, 1.0, 1.0, 1.0, 1.0, 1.0, 1.0, 1.0, 1.0, 1.0, 1.0, 1.0, 1.0, 1.0, 1.0, 1.0, 1.0, 1.0, 1.0, 1.0, 1.0, 1.0, 1.0, 1.0, 1.0, 1.0, 1.0, 1.0, 1.0, 1.0], [1.0, 1.0, 1.0, 1.0, 1.0, 1.0, 1.0, 1.0, 1.0, 1.0, 1.0, 1.0, 1.0, 1.0, 1.0, 1.0, 1.0, 1.0, 1.0, 1.0, 1.0, 1.0, 1.0, 1.0, 1.0, 1.0, 1.0, 1.0, 1.0, 1.0, 1.0, 1.0, 1.0, 1.0, 1.0, 1.0, 1.0, 1.0, 1.0, 1.0, 1.0, 1.0, 1.0, 1.0, 1.0, 1.0, 1.0, 1.0, 1.0, 1.0, 1.0, 1.0, 1.0, 1.0, 1.0, 1.0, 1.0, 1.0, 1.0, 1.0, 1.0, 1.0, 1.0, 1.0], [1.0, 1.0, 1.0, 1.0, 1.0, 1.0, 1.0, 1.0, 1.0, 1.0, 1.0, 1.0, 1.0, 1.0, 1.0, 1.0, 1.0, 1.0, 1.0, 1.0, 1.0, 1.0, 1.0, 1.0, 1.0, 1.0, 1.0, 1.0, 1.0, 1.0, 1.0, 1.0, 1.0, 1.0, 1.0, 1.0, 1.0, 1.0, 1.0, 1.0, 1.0, 1.0, 1.0, 1.0, 1.0, 1.0, 1.0, 1.0, 1.0, 1.0, 1.0, 1.0, 1.0, 1.0, 1.0, 1.0, 1.0, 1.0, 1.0, 1.0, 1.0, 1.0, 1.0, 1.0], [1.0, 1.0, 1.0, 1.0, 1.0, 1.0, 1.0, 1.0, 1.0, 1.0, 1.0, 1.0, 1.0, 1.0, 1.0, 1.0, 1.0, 1.0, 1.0, 1.0, 1.0, 1.0, 1.0, 1.0, 1.0, 1.0, 1.0, 1.0, 1.0, 1.0, 1.0, 1.0, 1.0, 1.0, 1.0, 1.0, 1.0, 1.0, 1.0, 1.0, 1.0, 1.0, 1.0, 1.0, 1.0, 1.0, 1.0, 1.0, 1.0, 1.0, 1.0, 1.0, 1.0, 1.0, 1.0, 1.0, 1.0, 1.0, 1.0, 1.0, 1.0, 1.0, 1.0, 1.0]]}, {\"coloraxis\": \"coloraxis\", \"type\": \"heatmap\", \"xaxis\": \"x2\", \"yaxis\": \"y2\", \"z\": [[1.0, 1.0, 1.0, 1.0, 1.0, 1.0, 1.0, 1.0, 1.0, 1.0, 1.0, 1.0, 1.0, 1.0, 1.0, 1.0, 1.0, 1.0, 1.0, 1.0, 1.0, 1.0, 1.0, 1.0, 1.0, 1.0, 1.0, 1.0, 1.0, 1.0, 1.0, 1.0, 1.0, 1.0, 1.0, 1.0, 1.0, 1.0, 1.0, 1.0, 1.0, 1.0, 1.0, 1.0, 1.0, 1.0, 1.0, 1.0, 1.0, 1.0, 1.0, 1.0, 1.0, 1.0, 1.0, 1.0, 1.0, 1.0, 1.0, 1.0, 1.0, 1.0, 1.0, 1.0], [1.0, 0.9998924136161804, 0.9997782707214355, 0.999657928943634, 0.9995393753051758, 0.9993760585784912, 0.9992542266845703, 0.9991453886032104, 0.9990422129631042, 0.9989412426948547, 0.9988346099853516, 0.9987837672233582, 0.9987406134605408, 0.9987521171569824, 0.9985803961753845, 0.9984704852104187, 0.9983558058738708, 0.9983108043670654, 0.9983320236206055, 0.9983317255973816, 0.9983296990394592, 0.9983381628990173, 0.9983545541763306, 0.9983727335929871, 0.9983788728713989, 0.998393714427948, 0.9984381794929504, 0.9985440969467163, 0.9983842372894287, 0.9982806444168091, 0.9982187151908875, 0.9981605410575867, 0.9981011152267456, 0.9980365633964539, 0.998085618019104, 0.9981156587600708, 0.998143196105957, 0.9981728792190552, 0.998208224773407, 0.9982527494430542, 0.9983037114143372, 0.9983589053153992, 0.9984179139137268, 0.9984816908836365, 0.9985520243644714, 0.9986307621002197, 0.9986971616744995, 0.9987496137619019, 0.9987951517105103, 0.9988570213317871, 0.9989281296730042, 0.9990037679672241, 0.9990806579589844, 0.9991573691368103, 0.9992339015007019, 0.9993132948875427, 0.9993993043899536, 0.9994739294052124, 0.9995541572570801, 0.9995739459991455, 0.9996174573898315, 0.9996705055236816, 0.9998330473899841, 1.0], [1.0, 0.9997913241386414, 0.9995627403259277, 0.9993141293525696, 0.998984694480896, 0.9987105131149292, 0.9984954595565796, 0.9982849955558777, 0.998082160949707, 0.9978878498077393, 0.9977150559425354, 0.9975594282150269, 0.9974262118339539, 0.9973320960998535, 0.997097909450531, 0.9969448447227478, 0.9967838525772095, 0.9967007040977478, 0.996684730052948, 0.9966640472412109, 0.9966479539871216, 0.9966674447059631, 0.9967064261436462, 0.9967581629753113, 0.99675053358078, 0.9967570304870605, 0.996787965297699, 0.9968675971031189, 0.9966720938682556, 0.9965342283248901, 0.9964476823806763, 0.9963213205337524, 0.9962060451507568, 0.9961271286010742, 0.9961842894554138, 0.996232271194458, 0.996282696723938, 0.9963390231132507, 0.996406078338623, 0.9964972734451294, 0.9966013431549072, 0.9967130422592163, 0.9968308210372925, 0.9969556927680969, 0.9970932602882385, 0.9972716569900513, 0.9974079132080078, 0.9975109696388245, 0.9975782632827759, 0.9977025985717773, 0.9978484511375427, 0.9980040788650513, 0.998162031173706, 0.9983174204826355, 0.9984680414199829, 0.9986216425895691, 0.9988099336624146, 0.9989413022994995, 0.9990456700325012, 0.9991288781166077, 0.9992520809173584, 0.999396026134491, 0.999661922454834, 1.0], [1.0, 0.9996829628944397, 0.9993022084236145, 0.9988536834716797, 0.9983749985694885, 0.9980545043945312, 0.9977326393127441, 0.9974176287651062, 0.9971142411231995, 0.9968293905258179, 0.9965790510177612, 0.9962995648384094, 0.9960499405860901, 0.9957334995269775, 0.9955926537513733, 0.9954426288604736, 0.9952921867370605, 0.9951692819595337, 0.9950419068336487, 0.9949924349784851, 0.9949313998222351, 0.9949782490730286, 0.9950465559959412, 0.9952020645141602, 0.9951082468032837, 0.9950970411300659, 0.9950904846191406, 0.9950485825538635, 0.9949033856391907, 0.994759738445282, 0.9947386384010315, 0.9944721460342407, 0.9942824840545654, 0.9942627549171448, 0.9942930340766907, 0.9943469762802124, 0.9944164156913757, 0.9944945573806763, 0.9945806860923767, 0.9947296977043152, 0.9948909282684326, 0.9950599670410156, 0.9952369332313538, 0.9954179525375366, 0.9955939054489136, 0.9958214163780212, 0.9960238933563232, 0.9961937069892883, 0.9963117241859436, 0.9965286254882812, 0.9967610239982605, 0.9970038533210754, 0.9972476959228516, 0.9974839091300964, 0.9977006316184998, 0.9978963136672974, 0.998100996017456, 0.9983021020889282, 0.9984579086303711, 0.9986440539360046, 0.9988659620285034, 0.9991431832313538, 0.99955153465271, 1.0], [1.0, 0.9995622634887695, 0.9990444779396057, 0.9984282851219177, 0.9978793263435364, 0.9974007606506348, 0.9969640374183655, 0.996539831161499, 0.9961290955543518, 0.9957382678985596, 0.9953707456588745, 0.995011568069458, 0.9946627020835876, 0.9942812919616699, 0.994133472442627, 0.9939571619033813, 0.9937888979911804, 0.9936333894729614, 0.9934564828872681, 0.9933350086212158, 0.9932612776756287, 0.9932703375816345, 0.9933019280433655, 0.9934316873550415, 0.9933626651763916, 0.9934350848197937, 0.9934312701225281, 0.9933356642723083, 0.9931359887123108, 0.9928710460662842, 0.9927966594696045, 0.9925479888916016, 0.9923672080039978, 0.992352306842804, 0.9923808574676514, 0.9924485683441162, 0.9925429821014404, 0.9926432371139526, 0.9926938414573669, 0.9929521679878235, 0.9931741952896118, 0.9933989644050598, 0.9936390519142151, 0.9938862323760986, 0.9940651655197144, 0.9942859411239624, 0.9945468306541443, 0.9948097467422485, 0.9950631856918335, 0.995343804359436, 0.9956672787666321, 0.9960057139396667, 0.996343195438385, 0.996671736240387, 0.9969560503959656, 0.9972150325775146, 0.9974378347396851, 0.9977001547813416, 0.9979638457298279, 0.9982276558876038, 0.9985628724098206, 0.9988951086997986, 0.9994007349014282, 1.0], [1.0, 0.9994221329689026, 0.9988136291503906, 0.998073160648346, 0.9973083734512329, 0.9967061281204224, 0.9961841702461243, 0.9956499934196472, 0.9951258897781372, 0.9946260452270508, 0.9941562414169312, 0.9937158226966858, 0.9933103322982788, 0.9929609894752502, 0.992706298828125, 0.9924824833869934, 0.9922915101051331, 0.99212247133255, 0.9919523000717163, 0.991771936416626, 0.9916709065437317, 0.991544783115387, 0.9914948344230652, 0.9914543032646179, 0.9914780855178833, 0.9918532371520996, 0.9918679594993591, 0.9917308688163757, 0.9914377927780151, 0.9907951951026917, 0.9906103610992432, 0.9906370639801025, 0.9904801249504089, 0.990402102470398, 0.9904330372810364, 0.9905275702476501, 0.9906671643257141, 0.9908437728881836, 0.9910203218460083, 0.9912151098251343, 0.9914580583572388, 0.9917242527008057, 0.9920348525047302, 0.9922783374786377, 0.9925174713134766, 0.9927335381507874, 0.9930689930915833, 0.9934138059616089, 0.9937898516654968, 0.9941463470458984, 0.9945632815361023, 0.9950135946273804, 0.9954519271850586, 0.9959076642990112, 0.9962400794029236, 0.9965725541114807, 0.9969028234481812, 0.9972484111785889, 0.9975935220718384, 0.9979273676872253, 0.9983460903167725, 0.9988502264022827, 0.9994059205055237, 1.0], [1.0, 0.9993124008178711, 0.9985117316246033, 0.9975574612617493, 0.9967285990715027, 0.996082603931427, 0.9954180121421814, 0.9947518706321716, 0.9941003918647766, 0.9934859275817871, 0.9929149746894836, 0.9923877716064453, 0.9919050335884094, 0.9915496706962585, 0.9912521243095398, 0.9909964203834534, 0.9907933473587036, 0.9906171560287476, 0.9904627799987793, 0.990276038646698, 0.990098774433136, 0.9898868203163147, 0.9896711707115173, 0.9894061088562012, 0.9892444610595703, 0.989417552947998, 0.9890485405921936, 0.9888366460800171, 0.9887446165084839, 0.9882623553276062, 0.9882099032402039, 0.9883496761322021, 0.988338053226471, 0.9883479475975037, 0.9884265065193176, 0.9885673522949219, 0.9887601137161255, 0.9890046715736389, 0.9893309473991394, 0.9894843101501465, 0.9897234439849854, 0.9900088906288147, 0.9903706312179565, 0.9906768202781677, 0.9909935593605042, 0.9912235140800476, 0.9915851950645447, 0.9919890761375427, 0.9924235939979553, 0.9928925633430481, 0.9934319257736206, 0.9940401315689087, 0.9945502281188965, 0.9950613379478455, 0.9955281019210815, 0.9959356784820557, 0.9963545799255371, 0.9967978000640869, 0.9972344636917114, 0.9976465106010437, 0.9981479048728943, 0.9987533092498779, 0.9993696808815002, 1.0], [1.0, 0.9991152286529541, 0.9981723427772522, 0.9972103834152222, 0.9963183403015137, 0.995478630065918, 0.9946547150611877, 0.9938403964042664, 0.9930395483970642, 0.9923043251037598, 0.9916322231292725, 0.9910176992416382, 0.990502655506134, 0.9900838732719421, 0.9897595643997192, 0.9894800186157227, 0.9892906546592712, 0.9890944361686707, 0.9888647198677063, 0.9886249899864197, 0.9884118437767029, 0.9882152676582336, 0.98781418800354, 0.9871915578842163, 0.986764132976532, 0.9863989353179932, 0.9861271381378174, 0.9858668446540833, 0.985342264175415, 0.9855408668518066, 0.9856229424476624, 0.9856533408164978, 0.9859873652458191, 0.9862307906150818, 0.9863637685775757, 0.9865619540214539, 0.9868094325065613, 0.987091600894928, 0.9873981475830078, 0.9876722693443298, 0.9879486560821533, 0.9882553815841675, 0.9886195063591003, 0.9890345931053162, 0.9894154667854309, 0.9897562265396118, 0.9900980591773987, 0.9905382990837097, 0.99102783203125, 0.9915741086006165, 0.9922381043434143, 0.992882251739502, 0.9935247898101807, 0.9940665364265442, 0.9947622418403625, 0.9952914714813232, 0.9957842230796814, 0.9963546991348267, 0.9968999028205872, 0.9974008798599243, 0.9979700446128845, 0.9986445307731628, 0.9993188381195068, 1.0], [1.0, 0.9989754557609558, 0.9979362487792969, 0.9968798756599426, 0.9958560466766357, 0.9948592782020569, 0.9938825368881226, 0.9929162859916687, 0.9920077323913574, 0.9911646246910095, 0.9904048442840576, 0.9897151589393616, 0.9891419410705566, 0.9886210560798645, 0.9882248044013977, 0.9878936409950256, 0.987667441368103, 0.9874371290206909, 0.9871145486831665, 0.9868011474609375, 0.9865588545799255, 0.9860607981681824, 0.9854270815849304, 0.9846271276473999, 0.9840378165245056, 0.9832401871681213, 0.9834496974945068, 0.9828994870185852, 0.9823542833328247, 0.982839822769165, 0.9830936789512634, 0.9831922650337219, 0.9836289286613464, 0.9840089678764343, 0.9842430949211121, 0.9845142960548401, 0.9848327040672302, 0.9851629734039307, 0.9855031371116638, 0.9858626127243042, 0.9861485958099365, 0.9864833354949951, 0.9868564009666443, 0.9872806072235107, 0.9877064824104309, 0.9881453514099121, 0.9885509610176086, 0.9890459179878235, 0.9895836710929871, 0.9901456832885742, 0.9908977746963501, 0.9916062355041504, 0.9923499226570129, 0.9930128455162048, 0.9937368035316467, 0.9944859743118286, 0.9951379895210266, 0.9957987070083618, 0.996512234210968, 0.9971711039543152, 0.9978277683258057, 0.9985347390174866, 0.999260425567627, 1.0], [1.0, 0.9988600015640259, 0.9977164268493652, 0.9965163469314575, 0.9953662753105164, 0.9942195415496826, 0.993099570274353, 0.9920166730880737, 0.990994393825531, 0.9900450706481934, 0.989219069480896, 0.9884148240089417, 0.9877294898033142, 0.9871311783790588, 0.9865902066230774, 0.9862039685249329, 0.9859030246734619, 0.9857237935066223, 0.985357403755188, 0.9849084615707397, 0.984265148639679, 0.9833800792694092, 0.9826083183288574, 0.9818505644798279, 0.981118381023407, 0.9801986813545227, 0.9802019000053406, 0.9801139235496521, 0.9801026582717896, 0.9803811311721802, 0.9807023406028748, 0.9809881448745728, 0.9813374280929565, 0.9817208647727966, 0.9820719361305237, 0.9824265241622925, 0.9828524589538574, 0.9832345247268677, 0.9835967421531677, 0.9839587211608887, 0.9843042492866516, 0.9847118854522705, 0.9850836396217346, 0.9855294227600098, 0.9859893321990967, 0.9864266514778137, 0.9869219064712524, 0.9875198602676392, 0.9881256818771362, 0.9887250065803528, 0.9894657731056213, 0.9903008937835693, 0.9910950064659119, 0.9919023513793945, 0.9926164150238037, 0.9934166669845581, 0.9942690134048462, 0.9952170252799988, 0.996081531047821, 0.9968846440315247, 0.9976337552070618, 0.9984051585197449, 0.9991872906684875, 1.0], [1.0, 0.9987572431564331, 0.9974479675292969, 0.9961360692977905, 0.9948717951774597, 0.99355149269104, 0.9922780394554138, 0.9910547137260437, 0.9899006485939026, 0.9888868927955627, 0.9878891706466675, 0.9869940876960754, 0.9862289428710938, 0.9855337738990784, 0.984904408454895, 0.9844288229942322, 0.9840167760848999, 0.9836894273757935, 0.9831247329711914, 0.982428789138794, 0.9814772605895996, 0.9805819392204285, 0.9797714948654175, 0.9790450930595398, 0.9783821105957031, 0.9777539968490601, 0.9770904183387756, 0.9772599339485168, 0.977566659450531, 0.9778882265090942, 0.9782841801643372, 0.9786561727523804, 0.979020357131958, 0.9794437289237976, 0.9798750877380371, 0.9802755117416382, 0.9807296395301819, 0.9811447858810425, 0.9815457463264465, 0.9819077849388123, 0.9823716878890991, 0.9828459024429321, 0.9832789897918701, 0.9837716221809387, 0.9843015074729919, 0.9848040342330933, 0.9853411912918091, 0.9859940409660339, 0.9866837859153748, 0.9873572587966919, 0.9881367087364197, 0.9890443086624146, 0.9898335337638855, 0.9906129240989685, 0.9914124608039856, 0.9922971725463867, 0.9930879473686218, 0.9942201972007751, 0.9953402876853943, 0.9964166879653931, 0.9974160194396973, 0.9982636570930481, 0.9991034865379333, 1.0], [1.0, 0.9986003637313843, 0.9971804618835449, 0.9957450032234192, 0.9943156838417053, 0.9928337931632996, 0.9914029240608215, 0.9900197386741638, 0.9887549877166748, 0.9875930547714233, 0.9864529371261597, 0.9855214357376099, 0.9846550822257996, 0.9838677048683167, 0.9831721186637878, 0.9825444221496582, 0.9819620251655579, 0.9812999963760376, 0.9804626107215881, 0.979580283164978, 0.9786272048950195, 0.9776933193206787, 0.9768450260162354, 0.9761711359024048, 0.9756069779396057, 0.9750105738639832, 0.9742408990859985, 0.9742201566696167, 0.9748637676239014, 0.9753276705741882, 0.975806474685669, 0.9762458801269531, 0.9766512513160706, 0.9771290421485901, 0.9776809215545654, 0.9781230092048645, 0.9785033464431763, 0.978888213634491, 0.9793568253517151, 0.9799038171768188, 0.9804380536079407, 0.9809017181396484, 0.981421172618866, 0.9819850325584412, 0.9826045036315918, 0.9832563400268555, 0.9838557243347168, 0.9844983816146851, 0.985265851020813, 0.986085832118988, 0.9868855476379395, 0.9879136085510254, 0.9888373017311096, 0.9895689487457275, 0.9903835654258728, 0.9912733435630798, 0.9921317100524902, 0.9933027625083923, 0.9946264624595642, 0.9956650137901306, 0.9968487620353699, 0.9979182481765747, 0.9989615678787231, 1.0], [1.0, 0.9984598159790039, 0.9969272613525391, 0.9953054189682007, 0.9936783313751221, 0.9920604228973389, 0.990475058555603, 0.988957405090332, 0.9876052141189575, 0.9862573146820068, 0.9850367903709412, 0.9839780926704407, 0.9829968810081482, 0.9821047186851501, 0.9813103079795837, 0.9805527925491333, 0.9798165559768677, 0.9789142608642578, 0.9778385758399963, 0.9767948389053345, 0.9757503271102905, 0.9747116565704346, 0.9737369418144226, 0.9731812477111816, 0.9728585481643677, 0.9724367260932922, 0.9720661640167236, 0.9720359444618225, 0.9723425507545471, 0.9727567434310913, 0.9732674360275269, 0.9737674593925476, 0.9742178916931152, 0.9746987223625183, 0.9753435254096985, 0.9758740067481995, 0.9763169884681702, 0.9767515063285828, 0.9772428274154663, 0.9778704643249512, 0.978446900844574, 0.9789535403251648, 0.9795267581939697, 0.9801511764526367, 0.9808257222175598, 0.9815568923950195, 0.9822487831115723, 0.9829445481300354, 0.9838026165962219, 0.984691321849823, 0.9856122136116028, 0.9866617918014526, 0.9877932667732239, 0.9887058734893799, 0.9895539879798889, 0.9905052185058594, 0.9914481043815613, 0.9925378561019897, 0.9938908815383911, 0.9951410889625549, 0.9963922500610352, 0.9975964426994324, 0.998786985874176, 1.0], [1.0, 0.9983096718788147, 0.9966204762458801, 0.9948266744613647, 0.9930265545845032, 0.9913161396980286, 0.9896109700202942, 0.9879575967788696, 0.986426055431366, 0.9848983883857727, 0.983562707901001, 0.9823497533798218, 0.981242299079895, 0.9802369475364685, 0.9793358445167542, 0.9784637689590454, 0.9776045680046082, 0.9764678478240967, 0.9751743078231812, 0.9740017652511597, 0.9728591442108154, 0.9716576933860779, 0.9709100127220154, 0.9705997109413147, 0.9702041149139404, 0.9698081612586975, 0.9695523977279663, 0.9695190787315369, 0.9697157740592957, 0.9700914621353149, 0.970620334148407, 0.9712211489677429, 0.9717641472816467, 0.9723291397094727, 0.972919762134552, 0.9735212922096252, 0.974111795425415, 0.9747223854064941, 0.9752521514892578, 0.9757736325263977, 0.9763557314872742, 0.976949155330658, 0.9775900840759277, 0.9782752394676208, 0.9789989590644836, 0.9797517657279968, 0.9805018901824951, 0.9812368750572205, 0.9821175932884216, 0.9831451177597046, 0.9842131733894348, 0.9853308200836182, 0.9864820837974548, 0.9876212477684021, 0.9886274933815002, 0.9897456765174866, 0.9907829165458679, 0.9918897151947021, 0.9932538270950317, 0.9946117997169495, 0.9959786534309387, 0.9972848296165466, 0.9985870718955994, 1.0], [1.0, 0.9981398582458496, 0.9962605237960815, 0.9943488836288452, 0.9924346804618835, 0.9905596971511841, 0.9886828660964966, 0.986880898475647, 0.985115647315979, 0.9834625720977783, 0.9819571375846863, 0.9806069135665894, 0.979376494884491, 0.9782560467720032, 0.9772443175315857, 0.976273775100708, 0.9753775000572205, 0.9738842844963074, 0.9723799824714661, 0.9711708426475525, 0.9700193405151367, 0.9689959287643433, 0.968535304069519, 0.9679997563362122, 0.9674497842788696, 0.9670365452766418, 0.9668149948120117, 0.9667738676071167, 0.9669119715690613, 0.9672735929489136, 0.967753529548645, 0.968587338924408, 0.9692461490631104, 0.9699420928955078, 0.9705476760864258, 0.9711904525756836, 0.971844494342804, 0.9725334048271179, 0.9731366634368896, 0.9736747741699219, 0.9742641448974609, 0.974908709526062, 0.9756196141242981, 0.9763691425323486, 0.9771496653556824, 0.9779555201530457, 0.9787763953208923, 0.9796102046966553, 0.9804978370666504, 0.981563150882721, 0.9827669858932495, 0.9839667677879333, 0.9851821064949036, 0.9863970875740051, 0.9875873327255249, 0.9888055920600891, 0.9900453090667725, 0.9912567138671875, 0.992617666721344, 0.994067907333374, 0.9956205487251282, 0.9970353245735168, 0.9983358383178711, 1.0], [1.0, 0.9979698657989502, 0.9959278106689453, 0.9938680529594421, 0.9917970299720764, 0.9897292256355286, 0.9876721501350403, 0.9856608510017395, 0.9837148189544678, 0.9818758964538574, 0.9801864624023438, 0.9787340760231018, 0.9773906469345093, 0.9761564135551453, 0.9750134944915771, 0.9739113450050354, 0.9726935625076294, 0.9709274768829346, 0.9692808985710144, 0.9682754874229431, 0.9673029184341431, 0.9666894674301147, 0.9660995602607727, 0.9653058648109436, 0.964559018611908, 0.9640718698501587, 0.9638956785202026, 0.963848888874054, 0.9638849496841431, 0.9643378257751465, 0.9650118947029114, 0.965923547744751, 0.9667006134986877, 0.9674404263496399, 0.9681488275527954, 0.9688594341278076, 0.969555139541626, 0.9702472686767578, 0.9709087610244751, 0.9715364575386047, 0.9721282720565796, 0.9728123545646667, 0.9736212491989136, 0.974442183971405, 0.9752826690673828, 0.9761496186256409, 0.9770418405532837, 0.9779317378997803, 0.978997528553009, 0.980111300945282, 0.9813250303268433, 0.9825854897499084, 0.9838793873786926, 0.9851936101913452, 0.9865146279335022, 0.9878392815589905, 0.9891462326049805, 0.9904683828353882, 0.991885244846344, 0.9934144616127014, 0.9950404167175293, 0.9966049194335938, 0.9981492161750793, 1.0], [1.0, 0.9978072047233582, 0.9956076145172119, 0.9933927655220032, 0.9911498427391052, 0.9888809323310852, 0.9866080284118652, 0.9843668341636658, 0.9821974039077759, 0.9801386594772339, 0.9783222675323486, 0.9767418503761292, 0.9752851724624634, 0.9739550352096558, 0.9726312756538391, 0.9712488055229187, 0.9695695638656616, 0.9678394198417664, 0.9662815928459167, 0.9653420448303223, 0.9643792510032654, 0.9637880921363831, 0.9631211161613464, 0.9622989892959595, 0.9612253904342651, 0.9607985615730286, 0.9608492851257324, 0.9608423709869385, 0.9611308574676514, 0.9616793990135193, 0.9625502228736877, 0.9633957147598267, 0.9641969799995422, 0.9649787545204163, 0.96575927734375, 0.9665559530258179, 0.9672820568084717, 0.9680067300796509, 0.9687308669090271, 0.9694499969482422, 0.9700986742973328, 0.9707872867584229, 0.9716206192970276, 0.9725054502487183, 0.973397970199585, 0.9743252396583557, 0.9753138422966003, 0.9763457775115967, 0.9773389101028442, 0.978556752204895, 0.9798322319984436, 0.9811658263206482, 0.982550323009491, 0.9839767813682556, 0.985431432723999, 0.986883819103241, 0.9882246851921082, 0.98957759141922, 0.9910324215888977, 0.9926562309265137, 0.9943068623542786, 0.9960442781448364, 0.9979907274246216, 1.0], [1.0, 0.9976463913917542, 0.9952973127365112, 0.9929397702217102, 0.9905225038528442, 0.988029956817627, 0.985504686832428, 0.9829925298690796, 0.9805597066879272, 0.9783143997192383, 0.9763774275779724, 0.9746155142784119, 0.9730426669120789, 0.9715147018432617, 0.96992427110672, 0.9683243632316589, 0.966763973236084, 0.9649567604064941, 0.9635605216026306, 0.9621896147727966, 0.9610791802406311, 0.9602388143539429, 0.9595543742179871, 0.9587928056716919, 0.9580442905426025, 0.9578059911727905, 0.9578719139099121, 0.9581503868103027, 0.9587383270263672, 0.9593709707260132, 0.9601242542266846, 0.960918128490448, 0.9617188572883606, 0.9625260829925537, 0.9633640050888062, 0.9643362760543823, 0.9650237560272217, 0.965779721736908, 0.9665721654891968, 0.9673903584480286, 0.9681673645973206, 0.9688894748687744, 0.9696533679962158, 0.9705677032470703, 0.9714850187301636, 0.9724449515342712, 0.9735458493232727, 0.9746162295341492, 0.9757010340690613, 0.9769390821456909, 0.978273868560791, 0.9796867370605469, 0.9811705350875854, 0.9827226400375366, 0.9843415021896362, 0.9860311150550842, 0.9874709248542786, 0.9887762069702148, 0.9902076125144958, 0.9916912317276001, 0.9934776425361633, 0.9955610036849976, 0.9977638721466064, 1.0], [1.0, 0.9974755644798279, 0.9949899911880493, 0.9925411343574524, 0.9899646639823914, 0.9872049689292908, 0.9843810200691223, 0.9815303087234497, 0.9787253141403198, 0.9763486981391907, 0.9742287397384644, 0.9722899794578552, 0.9706050753593445, 0.9687626361846924, 0.9669654965400696, 0.9653447866439819, 0.9636654257774353, 0.9615457653999329, 0.9598932266235352, 0.9584208726882935, 0.9574986100196838, 0.9565287232398987, 0.9560640454292297, 0.9554634690284729, 0.9553401470184326, 0.9552881121635437, 0.955296516418457, 0.9557643532752991, 0.956317663192749, 0.9569512009620667, 0.9576685428619385, 0.9584417343139648, 0.9592423439025879, 0.9600512385368347, 0.9608439207077026, 0.9617720246315002, 0.9627102017402649, 0.9635313749313354, 0.9644009470939636, 0.965315043926239, 0.9662336111068726, 0.9670327305793762, 0.9677844047546387, 0.9686322212219238, 0.9695326089859009, 0.9704254865646362, 0.9715861678123474, 0.9727070331573486, 0.9739055633544922, 0.9752175807952881, 0.9766281247138977, 0.9781263470649719, 0.97971111536026, 0.9813904762268066, 0.983169674873352, 0.985058069229126, 0.9866734147071838, 0.9880412817001343, 0.9895293712615967, 0.9911031723022461, 0.9927600026130676, 0.9949496984481812, 0.9974972009658813, 1.0], [1.0, 0.9972600936889648, 0.9946406483650208, 0.9922651052474976, 0.9894577860832214, 0.9861811399459839, 0.9829081892967224, 0.9795068502426147, 0.9764521718025208, 0.9741171598434448, 0.9718695282936096, 0.9698757529258728, 0.9678975343704224, 0.9657806754112244, 0.9638110995292664, 0.9619828462600708, 0.9597861766815186, 0.9576442837715149, 0.9560663104057312, 0.9549520611763, 0.9539489150047302, 0.9531493186950684, 0.9527077078819275, 0.9524476528167725, 0.9526087045669556, 0.9527261257171631, 0.9529234766960144, 0.9533199667930603, 0.9538422226905823, 0.9544660449028015, 0.9551747441291809, 0.9559500217437744, 0.9567677974700928, 0.9576032161712646, 0.9584307670593262, 0.9592096209526062, 0.960289478302002, 0.9612510204315186, 0.962199866771698, 0.963164746761322, 0.9641577005386353, 0.9650557041168213, 0.9659042358398438, 0.9667277932167053, 0.9675899147987366, 0.9684282541275024, 0.9694634079933167, 0.970715343952179, 0.9719892144203186, 0.9733885526657104, 0.9748843312263489, 0.9764677882194519, 0.9781448841094971, 0.979945957660675, 0.9818764328956604, 0.9839428663253784, 0.9857111573219299, 0.9871776700019836, 0.9887567162513733, 0.9904242753982544, 0.9922285676002502, 0.9945178627967834, 0.9972671270370483, 1.0], [1.0, 0.9968036413192749, 0.9940422773361206, 0.9917144775390625, 0.9885860681533813, 0.9848890900611877, 0.9811854958534241, 0.9773831963539124, 0.9742122888565063, 0.9717886447906494, 0.9694262146949768, 0.9671894907951355, 0.964883029460907, 0.9626291394233704, 0.9604901671409607, 0.9584124684333801, 0.9561713933944702, 0.954362690448761, 0.9531051516532898, 0.9519692659378052, 0.9508876204490662, 0.9503334760665894, 0.9498322010040283, 0.9498285055160522, 0.9499284625053406, 0.9500965476036072, 0.9503670930862427, 0.9507719278335571, 0.9512952566146851, 0.9519237279891968, 0.9526426792144775, 0.9534381628036499, 0.9542916417121887, 0.9551780223846436, 0.9560791850090027, 0.9569962620735168, 0.9579980373382568, 0.9589968323707581, 0.9599975347518921, 0.9610001444816589, 0.9619980454444885, 0.9629580974578857, 0.9638869166374207, 0.9647916555404663, 0.9656745195388794, 0.9664931893348694, 0.9673779010772705, 0.968694269657135, 0.9699373841285706, 0.9714521169662476, 0.9730413556098938, 0.9747036099433899, 0.9764420986175537, 0.9783589839935303, 0.980434775352478, 0.9826724529266357, 0.984600305557251, 0.986193060874939, 0.9878870248794556, 0.9895999431610107, 0.9916256070137024, 0.9941890835762024, 0.9970443844795227, 1.0], [1.0, 0.9964811205863953, 0.9936959743499756, 0.9909982681274414, 0.9874919652938843, 0.9835924506187439, 0.9795489311218262, 0.9754076600074768, 0.9720065593719482, 0.9693873524665833, 0.9668428897857666, 0.9643099308013916, 0.9617924690246582, 0.9593349099159241, 0.9570767879486084, 0.954973042011261, 0.9529962539672852, 0.9513177871704102, 0.9499896168708801, 0.9489068984985352, 0.9480425119400024, 0.9474443197250366, 0.9471632838249207, 0.9470991492271423, 0.9471796751022339, 0.9473710060119629, 0.9476845264434814, 0.9481208920478821, 0.9486701488494873, 0.9493219256401062, 0.9500686526298523, 0.9509010910987854, 0.9518060684204102, 0.9527552127838135, 0.9537270069122314, 0.9547126889228821, 0.9557193517684937, 0.9567499160766602, 0.9578046202659607, 0.9588534235954285, 0.9598851799964905, 0.9608975648880005, 0.9618976712226868, 0.9628816843032837, 0.9638262987136841, 0.964714765548706, 0.9655391573905945, 0.9667397141456604, 0.9680712819099426, 0.969429612159729, 0.9711138010025024, 0.972851037979126, 0.97454833984375, 0.9766007661819458, 0.978818953037262, 0.9812188148498535, 0.9833343625068665, 0.9850991368293762, 0.9869904518127441, 0.9889609217643738, 0.9909898042678833, 0.993558406829834, 0.9967108964920044, 1.0], [1.0, 0.9961865544319153, 0.9932788014411926, 0.9903838038444519, 0.9867796301841736, 0.9824258089065552, 0.9779942631721497, 0.9735257029533386, 0.9698553681373596, 0.9668957591056824, 0.9642298221588135, 0.9613921642303467, 0.9586146473884583, 0.955809473991394, 0.9534732103347778, 0.9513699412345886, 0.9494877457618713, 0.9478871822357178, 0.946593165397644, 0.9455938935279846, 0.944904088973999, 0.9444832801818848, 0.9442591071128845, 0.9442124366760254, 0.9443114995956421, 0.9445222020149231, 0.9448776841163635, 0.9453622102737427, 0.9459595084190369, 0.9466539025306702, 0.9474440813064575, 0.9483307003974915, 0.9493109583854675, 0.9503346681594849, 0.9513788819313049, 0.9524241089820862, 0.9534286856651306, 0.9544860124588013, 0.9556235671043396, 0.9567333459854126, 0.9578016400337219, 0.958856463432312, 0.9599267840385437, 0.9610117077827454, 0.9620338082313538, 0.962999701499939, 0.9640821814537048, 0.96504145860672, 0.9661699533462524, 0.9674113392829895, 0.9691226482391357, 0.9710278511047363, 0.9727403521537781, 0.9746649265289307, 0.9770102500915527, 0.9795100688934326, 0.9818820357322693, 0.9838711619377136, 0.9860074520111084, 0.9882562756538391, 0.9906072020530701, 0.9930911064147949, 0.9962289929389954, 1.0], [1.0, 0.9960038065910339, 0.9928413033485413, 0.989721417427063, 0.9859004616737366, 0.9813166260719299, 0.9764553308486938, 0.9717413783073425, 0.9672387838363647, 0.9640914797782898, 0.9609442949295044, 0.9573848843574524, 0.9543724060058594, 0.9517821669578552, 0.9495999217033386, 0.9475061893463135, 0.9456611275672913, 0.9441149234771729, 0.9428684711456299, 0.9419399499893188, 0.9415076971054077, 0.9413009285926819, 0.9411383271217346, 0.9411697387695312, 0.9413254261016846, 0.9415287375450134, 0.9419341087341309, 0.9424853920936584, 0.9431518316268921, 0.9439086318016052, 0.9447542428970337, 0.9457048773765564, 0.9468125104904175, 0.9479278326034546, 0.9490529894828796, 0.9501950144767761, 0.9512962698936462, 0.9523476958274841, 0.9534755349159241, 0.9546599388122559, 0.9557387828826904, 0.9568085074424744, 0.9579464793205261, 0.9592069387435913, 0.9602966904640198, 0.9611659646034241, 0.9622997641563416, 0.9634888172149658, 0.9643993377685547, 0.9654148817062378, 0.9669284224510193, 0.9689604043960571, 0.9712183475494385, 0.9731577634811401, 0.9754322171211243, 0.977763831615448, 0.9802115559577942, 0.9824894666671753, 0.9849053025245667, 0.987441897392273, 0.9900828003883362, 0.9928617477416992, 0.9959556460380554, 1.0], [1.0, 0.9959656596183777, 0.9921867847442627, 0.9884808659553528, 0.9848072528839111, 0.9795965552330017, 0.973021924495697, 0.9676837921142578, 0.9633699655532837, 0.9603213667869568, 0.9564288258552551, 0.9529102444648743, 0.950281023979187, 0.9479644298553467, 0.9456058144569397, 0.943355917930603, 0.9415001273155212, 0.9400086998939514, 0.9387955069541931, 0.9381111264228821, 0.9378626942634583, 0.9377613067626953, 0.9378021955490112, 0.9379935264587402, 0.9382942914962769, 0.9386146664619446, 0.939105749130249, 0.9397406578063965, 0.9404854774475098, 0.9413139224052429, 0.9422141313552856, 0.9431883096694946, 0.9443491101264954, 0.9455513954162598, 0.9467388987541199, 0.9479243755340576, 0.949123203754425, 0.9502524733543396, 0.9513824582099915, 0.9526960849761963, 0.9536867737770081, 0.9546957612037659, 0.9558467864990234, 0.9570325016975403, 0.958275556564331, 0.9593501687049866, 0.9602980017662048, 0.9615957140922546, 0.9627354741096497, 0.9637941718101501, 0.9650564193725586, 0.9666678309440613, 0.9688519835472107, 0.9711966514587402, 0.9737709760665894, 0.9763323068618774, 0.978705108165741, 0.9810906648635864, 0.9836756587028503, 0.9865158200263977, 0.9894119501113892, 0.9923088550567627, 0.9957504272460938, 1.0], [1.0, 0.995647132396698, 0.9912776350975037, 0.9868758916854858, 0.9826184511184692, 0.9757170677185059, 0.9687276482582092, 0.964352011680603, 0.9603646993637085, 0.9564239978790283, 0.9523857831954956, 0.9495179653167725, 0.946874737739563, 0.9441624283790588, 0.9414753317832947, 0.9387773275375366, 0.9369405508041382, 0.9355902075767517, 0.9346048831939697, 0.9342078566551208, 0.9340280294418335, 0.9340596199035645, 0.934288740158081, 0.9346874356269836, 0.9352154731750488, 0.9357943534851074, 0.9364225268363953, 0.9371548295021057, 0.9379781484603882, 0.9388786554336548, 0.9398377537727356, 0.9408433437347412, 0.9419881105422974, 0.9432306885719299, 0.9444625377655029, 0.9456618428230286, 0.9468345046043396, 0.9479761719703674, 0.9491140246391296, 0.9505177736282349, 0.9516173005104065, 0.9524403214454651, 0.9533937573432922, 0.9545532464981079, 0.9556478261947632, 0.9570534825325012, 0.958182156085968, 0.9595733880996704, 0.9608655571937561, 0.961968719959259, 0.9633015394210815, 0.964918851852417, 0.9667924642562866, 0.9690488576889038, 0.9716053605079651, 0.9744451642036438, 0.9771113395690918, 0.9796326756477356, 0.9824191927909851, 0.985526442527771, 0.9887340664863586, 0.9920641779899597, 0.995577871799469, 1.0], [1.0, 0.9953251481056213, 0.9903746843338013, 0.9850944876670837, 0.9795786142349243, 0.9731752276420593, 0.9674225449562073, 0.9622618556022644, 0.9572795629501343, 0.9525928497314453, 0.9487683773040771, 0.9456263184547424, 0.942391574382782, 0.9390172958374023, 0.9359373450279236, 0.9333015084266663, 0.9318594336509705, 0.9308599829673767, 0.9302593469619751, 0.9300287961959839, 0.929934024810791, 0.9301408529281616, 0.9305741190910339, 0.931204080581665, 0.9320037364959717, 0.9328888058662415, 0.9336851835250854, 0.9345213770866394, 0.935419499874115, 0.936398446559906, 0.9374282360076904, 0.9384837746620178, 0.9396617412567139, 0.940956175327301, 0.9422591924667358, 0.9434579610824585, 0.9445948600769043, 0.9457127451896667, 0.9469362497329712, 0.9481872916221619, 0.949552595615387, 0.9502947330474854, 0.9509658813476562, 0.9521357417106628, 0.9532948136329651, 0.9544582366943359, 0.9558017253875732, 0.9573256969451904, 0.9588607549667358, 0.9599148631095886, 0.9612637758255005, 0.9629150629043579, 0.9648647904396057, 0.967136025428772, 0.9696943163871765, 0.9724864959716797, 0.9754073023796082, 0.9781588912010193, 0.9810882806777954, 0.9844290614128113, 0.987926721572876, 0.9916243553161621, 0.9956287741661072, 1.0], [1.0, 0.9952670931816101, 0.9897648692131042, 0.9835041165351868, 0.9773716330528259, 0.9712005853652954, 0.9654805064201355, 0.959955632686615, 0.953859269618988, 0.948822557926178, 0.9444352984428406, 0.9400421380996704, 0.9368926882743835, 0.9322401881217957, 0.9291728138923645, 0.9272434115409851, 0.9262949228286743, 0.9257492423057556, 0.925558865070343, 0.9256455898284912, 0.9258461594581604, 0.9263176918029785, 0.9269670248031616, 0.9277880787849426, 0.9288296103477478, 0.9299593567848206, 0.9309481382369995, 0.931885838508606, 0.9328259229660034, 0.9338953495025635, 0.9350131750106812, 0.9361305236816406, 0.9373492002487183, 0.9386988282203674, 0.9401928782463074, 0.9413489699363708, 0.9423972964286804, 0.9433550834655762, 0.9444142580032349, 0.9457162618637085, 0.9471758008003235, 0.9482211470603943, 0.9489375948905945, 0.9497301578521729, 0.950933575630188, 0.9519718289375305, 0.9532385468482971, 0.954681932926178, 0.9563176035881042, 0.9575690031051636, 0.9589279294013977, 0.9606167674064636, 0.9626190066337585, 0.9649378657341003, 0.9675485491752625, 0.9703956842422485, 0.9734638333320618, 0.9765179753303528, 0.9796037077903748, 0.9831637740135193, 0.9869064688682556, 0.990857720375061, 0.9952893257141113, 1.0], [1.0, 0.994589626789093, 0.9884912967681885, 0.9817329049110413, 0.9751477837562561, 0.9687196612358093, 0.9632990956306458, 0.956392765045166, 0.9493306279182434, 0.9443638324737549, 0.9389813542366028, 0.9331603050231934, 0.9287872314453125, 0.9238022565841675, 0.9216870069503784, 0.9206296801567078, 0.920281171798706, 0.9202709197998047, 0.9205747246742249, 0.9210938215255737, 0.9217900633811951, 0.9226319789886475, 0.9235346913337708, 0.9244242906570435, 0.9257648587226868, 0.9270685315132141, 0.9282391667366028, 0.9292845726013184, 0.9301528334617615, 0.9313775300979614, 0.932622492313385, 0.9338122606277466, 0.9350442886352539, 0.9363219738006592, 0.9379238486289978, 0.9393722414970398, 0.9403144717216492, 0.941178023815155, 0.9419156312942505, 0.9430865049362183, 0.9443545341491699, 0.9455427527427673, 0.9463939666748047, 0.9471101760864258, 0.9481461644172668, 0.9492549300193787, 0.9504972100257874, 0.9518459439277649, 0.9532140493392944, 0.954805850982666, 0.9562684893608093, 0.9580093622207642, 0.9600593447685242, 0.9624489545822144, 0.965164840221405, 0.9680774211883545, 0.9712476134300232, 0.9746711254119873, 0.9780534505844116, 0.9816973805427551, 0.9856565594673157, 0.9895833730697632, 0.994425892829895, 1.0], [1.0, 0.9930403828620911, 0.9867392778396606, 0.9801317453384399, 0.9727099537849426, 0.9651766419410706, 0.9590989947319031, 0.9512144923210144, 0.9430318474769592, 0.9361546039581299, 0.9287722706794739, 0.9225322604179382, 0.9174282550811768, 0.9148985147476196, 0.9133520722389221, 0.9135218858718872, 0.913884162902832, 0.914425790309906, 0.9153538942337036, 0.9163548946380615, 0.9175253510475159, 0.918818473815918, 0.9201575517654419, 0.9213977456092834, 0.9226955771446228, 0.9242008328437805, 0.9255803823471069, 0.9268448352813721, 0.9277499914169312, 0.9288700819015503, 0.9303064942359924, 0.9315869212150574, 0.9328381419181824, 0.9340531229972839, 0.9353189468383789, 0.9369525909423828, 0.9383280873298645, 0.9391437768936157, 0.9399084448814392, 0.9406554698944092, 0.9416077733039856, 0.9425257444381714, 0.9433442950248718, 0.9441657066345215, 0.9452826976776123, 0.9464029669761658, 0.9476498365402222, 0.9489932060241699, 0.9502378106117249, 0.9517788887023926, 0.9533380270004272, 0.9550966024398804, 0.9571603536605835, 0.959631621837616, 0.9625794291496277, 0.965490460395813, 0.9687615633010864, 0.9723726511001587, 0.9762217402458191, 0.9802210927009583, 0.9844138622283936, 0.9885798692703247, 0.9937945008277893, 1.0], [1.0, 0.9925289750099182, 0.9853318929672241, 0.9770674109458923, 0.9684571623802185, 0.9601068496704102, 0.9526885747909546, 0.9422662854194641, 0.9321378469467163, 0.9241945743560791, 0.9152601957321167, 0.9111867547035217, 0.9072014689445496, 0.9062009453773499, 0.9052584767341614, 0.9061623811721802, 0.9072761535644531, 0.9085999727249146, 0.9099907875061035, 0.9114878177642822, 0.9131317138671875, 0.9148701429367065, 0.916605532169342, 0.9183951616287231, 0.919827401638031, 0.921425998210907, 0.9229700565338135, 0.9244957566261292, 0.9257873892784119, 0.926856517791748, 0.9281611442565918, 0.9295166730880737, 0.9308052062988281, 0.9320759177207947, 0.9332225322723389, 0.9344908595085144, 0.9359864592552185, 0.937173068523407, 0.9381141066551208, 0.9387000203132629, 0.9394359588623047, 0.9401866793632507, 0.9408970475196838, 0.941569983959198, 0.9424130320549011, 0.9434241056442261, 0.9447090029716492, 0.9459338188171387, 0.9474016427993774, 0.9487426280975342, 0.9502140879631042, 0.9518808126449585, 0.9538501501083374, 0.9563284516334534, 0.959164559841156, 0.9625266194343567, 0.965913712978363, 0.9698118567466736, 0.9740472435951233, 0.978520929813385, 0.9831718802452087, 0.9878172278404236, 0.9934501647949219, 1.0], [1.0, 0.9915077686309814, 0.9827735424041748, 0.9734992384910583, 0.9638494849205017, 0.9540069699287415, 0.943938672542572, 0.9325032830238342, 0.9232915639877319, 0.9130058884620667, 0.9042454957962036, 0.9016741514205933, 0.8990212678909302, 0.8976160287857056, 0.8975407481193542, 0.8986034393310547, 0.9003196954727173, 0.9024896621704102, 0.9044811129570007, 0.9064828157424927, 0.9086769819259644, 0.910795271396637, 0.9129207134246826, 0.914984405040741, 0.9168968200683594, 0.9187544584274292, 0.9203721880912781, 0.922038197517395, 0.9237251877784729, 0.9249805212020874, 0.926310658454895, 0.9276430606842041, 0.9289260506629944, 0.9302459359169006, 0.9315537810325623, 0.9328183531761169, 0.9339790940284729, 0.9351611733436584, 0.9362046122550964, 0.9370844960212708, 0.9377906322479248, 0.938468873500824, 0.9390954375267029, 0.9396615624427795, 0.940152645111084, 0.9408248662948608, 0.9418354630470276, 0.9430065751075745, 0.9443343877792358, 0.9455838203430176, 0.9468984603881836, 0.9483614563941956, 0.9500218629837036, 0.9523693919181824, 0.9552050232887268, 0.9586725234985352, 0.9625293016433716, 0.966884970664978, 0.9716037511825562, 0.9766085147857666, 0.9819059371948242, 0.9874661564826965, 0.9935392737388611, 1.0], [1.0, 0.9904022216796875, 0.9806697964668274, 0.9702072739601135, 0.9593164920806885, 0.9479915499687195, 0.936367392539978, 0.9252153635025024, 0.9146350026130676, 0.9039096832275391, 0.8968247175216675, 0.8921937346458435, 0.8895451426506042, 0.8876315951347351, 0.8886228203773499, 0.8903471827507019, 0.8928852081298828, 0.8957312107086182, 0.8986910581588745, 0.9012011289596558, 0.9039008617401123, 0.9066184759140015, 0.9091426730155945, 0.9116170406341553, 0.9140023589134216, 0.9163329601287842, 0.9182661771774292, 0.9197192192077637, 0.9214082956314087, 0.9228858351707458, 0.9244722127914429, 0.925949215888977, 0.9272927641868591, 0.928601086139679, 0.9299582242965698, 0.9312778115272522, 0.9324732422828674, 0.9335651993751526, 0.9344674348831177, 0.9354228377342224, 0.9361708164215088, 0.9367997050285339, 0.9373530149459839, 0.937829315662384, 0.9382794499397278, 0.9387960433959961, 0.9393873810768127, 0.9403694272041321, 0.9413580298423767, 0.9423662424087524, 0.9434347152709961, 0.9446395635604858, 0.9460809230804443, 0.9479044079780579, 0.9508657455444336, 0.954395592212677, 0.958612859249115, 0.963557779788971, 0.9688379764556885, 0.9743620753288269, 0.9803350567817688, 0.9865745306015015, 0.9931586384773254, 1.0], [1.0, 0.9895550012588501, 0.979190468788147, 0.967220664024353, 0.9550701975822449, 0.9420971870422363, 0.9297789931297302, 0.9187862873077393, 0.9076786637306213, 0.8972474336624146, 0.8888418674468994, 0.8829472661018372, 0.8792485594749451, 0.8770316243171692, 0.8785781264305115, 0.8811460733413696, 0.8850769400596619, 0.8885043263435364, 0.8924514055252075, 0.8958739042282104, 0.8991028666496277, 0.9024140238761902, 0.9053921103477478, 0.9082517027854919, 0.9110749363899231, 0.9137598276138306, 0.9161337614059448, 0.9181686043739319, 0.919603705406189, 0.921127438545227, 0.9227584600448608, 0.9244056344032288, 0.9258618950843811, 0.9272031784057617, 0.9285513162612915, 0.9298873543739319, 0.9310935735702515, 0.9321741461753845, 0.9331185817718506, 0.9339699745178223, 0.9346678256988525, 0.935203492641449, 0.935687243938446, 0.936026930809021, 0.9363483786582947, 0.9367031455039978, 0.9371724724769592, 0.9377411603927612, 0.9383732676506042, 0.9390939474105835, 0.9398314356803894, 0.9406706690788269, 0.9417420029640198, 0.9433938264846802, 0.9459239840507507, 0.9493869543075562, 0.9539161324501038, 0.959838330745697, 0.9657807946205139, 0.971845805644989, 0.9784398078918457, 0.9853775501251221, 0.9924441576004028, 1.0], [1.0, 0.9887638092041016, 0.9771161675453186, 0.9648520946502686, 0.9521864056587219, 0.9391690492630005, 0.9264247417449951, 0.9139208197593689, 0.9016319513320923, 0.8900948762893677, 0.8801980018615723, 0.8727294206619263, 0.8669407367706299, 0.8657514452934265, 0.867358386516571, 0.8704586625099182, 0.8752620816230774, 0.8807204365730286, 0.8858236074447632, 0.8904860615730286, 0.8946489691734314, 0.8985539078712463, 0.9018542766571045, 0.9049800634384155, 0.9082816243171692, 0.9114385843276978, 0.9138256311416626, 0.9162090420722961, 0.9181616306304932, 0.9197711944580078, 0.9214441776275635, 0.9230657815933228, 0.9245670437812805, 0.9259471297264099, 0.9273077249526978, 0.9286518692970276, 0.9298601150512695, 0.9309340119361877, 0.9318702220916748, 0.9326722025871277, 0.9333254098892212, 0.9337865114212036, 0.9341670274734497, 0.9343968033790588, 0.9345577955245972, 0.9346930980682373, 0.9348748326301575, 0.9350625276565552, 0.9353094100952148, 0.9358099102973938, 0.9361228942871094, 0.9364562034606934, 0.9367997646331787, 0.9379753470420837, 0.9400085210800171, 0.9432516694068909, 0.9477440118789673, 0.9547337293624878, 0.961984395980835, 0.9687381982803345, 0.9761109352111816, 0.9839560985565186, 0.9918616414070129, 1.0], [1.0, 0.9882592558860779, 0.9760309457778931, 0.9633143544197083, 0.9501949548721313, 0.9365166425704956, 0.92264723777771, 0.9086490869522095, 0.8946369886398315, 0.8811116814613342, 0.8689166307449341, 0.8591278195381165, 0.8523195385932922, 0.8518340587615967, 0.8545256853103638, 0.8592003583908081, 0.8647188544273376, 0.8719156980514526, 0.8789147734642029, 0.8851395845413208, 0.8903625011444092, 0.895171046257019, 0.8991500735282898, 0.9022537469863892, 0.9056850075721741, 0.9092872738838196, 0.9120774865150452, 0.9142804145812988, 0.9165883660316467, 0.9184226393699646, 0.9201866984367371, 0.9218557476997375, 0.9234105348587036, 0.9248582124710083, 0.9262334108352661, 0.9275780916213989, 0.9287818074226379, 0.9298450946807861, 0.9307627081871033, 0.9315245747566223, 0.9321325421333313, 0.9325717687606812, 0.93281489610672, 0.9329694509506226, 0.932967483997345, 0.9328508377075195, 0.932605504989624, 0.9323366284370422, 0.9319975972175598, 0.9316840171813965, 0.9311414361000061, 0.9307973980903625, 0.930990993976593, 0.9316495656967163, 0.9328215718269348, 0.9357896447181702, 0.9407275915145874, 0.9479092955589294, 0.9567921757698059, 0.9646641612052917, 0.973242998123169, 0.982213020324707, 0.9911099076271057, 1.0], [1.0, 0.9881163835525513, 0.9752674102783203, 0.9621092677116394, 0.9485678672790527, 0.9338544011116028, 0.9187882542610168, 0.9031476974487305, 0.8868639469146729, 0.8704899549484253, 0.8549317717552185, 0.8422272801399231, 0.8347684144973755, 0.8345720171928406, 0.8394767642021179, 0.8469468355178833, 0.855567455291748, 0.8642207980155945, 0.8725532293319702, 0.8801105618476868, 0.8863798379898071, 0.8914647698402405, 0.8961833715438843, 0.9001557230949402, 0.9037626385688782, 0.9072381258010864, 0.9103158712387085, 0.9127798676490784, 0.9150934219360352, 0.9171472191810608, 0.9190302491188049, 0.9207697510719299, 0.9223764538764954, 0.9239010214805603, 0.9253410696983337, 0.9266706705093384, 0.9278648495674133, 0.9289153218269348, 0.9298173785209656, 0.9305327534675598, 0.9310689568519592, 0.9314339756965637, 0.9315655827522278, 0.9315666556358337, 0.9313589334487915, 0.9309579730033875, 0.9303538799285889, 0.9296930432319641, 0.9285852313041687, 0.9266738891601562, 0.924694299697876, 0.9230983257293701, 0.9224836230278015, 0.9224152565002441, 0.9237422347068787, 0.9262498617172241, 0.9306291937828064, 0.9388291239738464, 0.9502996206283569, 0.9598077535629272, 0.9699245691299438, 0.9803392887115479, 0.9903867840766907, 1.0], [1.0, 0.9876379370689392, 0.9747133255004883, 0.9611724019050598, 0.9468225240707397, 0.9315215349197388, 0.9155409932136536, 0.8979721665382385, 0.8787789344787598, 0.8586006760597229, 0.8376572728157043, 0.8196086287498474, 0.8094546794891357, 0.8118135333061218, 0.8214479088783264, 0.8338618278503418, 0.8460733890533447, 0.8574216365814209, 0.8675407767295837, 0.8763920068740845, 0.8836113214492798, 0.8887861371040344, 0.8932347297668457, 0.897854745388031, 0.9019302129745483, 0.9055566191673279, 0.9087091088294983, 0.9114165306091309, 0.9138510823249817, 0.9160420298576355, 0.9180221557617188, 0.9198269248008728, 0.9214993119239807, 0.9231025576591492, 0.9245831370353699, 0.9259230494499207, 0.9271117448806763, 0.9281472563743591, 0.9290657639503479, 0.9297229051589966, 0.9301785826683044, 0.9304300546646118, 0.9304543137550354, 0.9302577972412109, 0.9298124313354492, 0.9291108250617981, 0.9281729459762573, 0.9267817735671997, 0.9244673848152161, 0.921233594417572, 0.9178156852722168, 0.9143452644348145, 0.9112017154693604, 0.9089947938919067, 0.9094088077545166, 0.912282407283783, 0.9182204604148865, 0.9264638423919678, 0.9402021765708923, 0.9541162252426147, 0.9662786722183228, 0.9780123233795166, 0.989065945148468, 1.0], [1.0, 0.9875653982162476, 0.9746406674385071, 0.9608384370803833, 0.9459510445594788, 0.9298110604286194, 0.9122562408447266, 0.892876386642456, 0.8718140721321106, 0.8468554019927979, 0.8184980154037476, 0.79072105884552, 0.7701526284217834, 0.780904233455658, 0.8010556697845459, 0.8206249475479126, 0.8374356031417847, 0.8516104221343994, 0.8636447191238403, 0.8741626143455505, 0.8819384574890137, 0.887287974357605, 0.891636848449707, 0.896081268787384, 0.9005101323127747, 0.9043123126029968, 0.9075242877006531, 0.9103118181228638, 0.9128428101539612, 0.9151425361633301, 0.917190432548523, 0.9191124439239502, 0.9208409190177917, 0.922448456287384, 0.9239902496337891, 0.9253501892089844, 0.9265308976173401, 0.927509069442749, 0.9284220933914185, 0.9291179180145264, 0.9294955134391785, 0.9296582341194153, 0.9295721650123596, 0.9292099475860596, 0.9285364151000977, 0.9275128245353699, 0.9261083006858826, 0.923734724521637, 0.9202361702919006, 0.9159467220306396, 0.9109147787094116, 0.9051485657691956, 0.898837685585022, 0.8927304148674011, 0.8887150883674622, 0.889892578125, 0.9003604650497437, 0.9148327708244324, 0.9297918677330017, 0.9463810920715332, 0.9617804884910583, 0.975482165813446, 0.9877445101737976, 1.0], [1.0, 0.9878247380256653, 0.9752564430236816, 0.961374819278717, 0.946074366569519, 0.9291874766349792, 0.9103774428367615, 0.8894472122192383, 0.8665385246276855, 0.8387146592140198, 0.80182284116745, 0.75321364402771, 0.6993649005889893, 0.7404432892799377, 0.7805342674255371, 0.8095963597297668, 0.8310951590538025, 0.8476995229721069, 0.8611302375793457, 0.8725776076316833, 0.8810724020004272, 0.8867125511169434, 0.8914307355880737, 0.8955504894256592, 0.8996850848197937, 0.9036232829093933, 0.9067394137382507, 0.9094488024711609, 0.9120557904243469, 0.9144876003265381, 0.9166576266288757, 0.9185979962348938, 0.9203653335571289, 0.9220300912857056, 0.9236037731170654, 0.9249798059463501, 0.9261708855628967, 0.9271767735481262, 0.9280040264129639, 0.9286611676216125, 0.9290317296981812, 0.9291409850120544, 0.9289745688438416, 0.9284854531288147, 0.9276254177093506, 0.9263104796409607, 0.9244258999824524, 0.9212233424186707, 0.9167839884757996, 0.9113723039627075, 0.9046682119369507, 0.8963466286659241, 0.8860782980918884, 0.8740390539169312, 0.8621917366981506, 0.8572453260421753, 0.875890851020813, 0.8986798524856567, 0.9199885129928589, 0.9395894408226013, 0.9574146866798401, 0.9729709029197693, 0.9863167405128479, 1.0], [1.0, 0.9882253408432007, 0.9766517877578735, 0.963104784488678, 0.947503387928009, 0.9301154017448425, 0.9101343750953674, 0.8874444961547852, 0.8657169342041016, 0.8391016125679016, 0.7942848205566406, 0.7155121564865112, 0.5010950565338135, 0.6999484300613403, 0.7690157294273376, 0.805464506149292, 0.8292632102966309, 0.8467521667480469, 0.8604933023452759, 0.8717183470726013, 0.8808145523071289, 0.8870046734809875, 0.8918983340263367, 0.8961425423622131, 0.9000524878501892, 0.9037034511566162, 0.9064149856567383, 0.9088253378868103, 0.9114311933517456, 0.9140870571136475, 0.9163525104522705, 0.9183087348937988, 0.920137345790863, 0.9218759536743164, 0.9234390258789062, 0.9248170256614685, 0.9260141849517822, 0.927034318447113, 0.9278673529624939, 0.9284963607788086, 0.9288505911827087, 0.9289257526397705, 0.9287082552909851, 0.9281417727470398, 0.9271823763847351, 0.9254897832870483, 0.9228825569152832, 0.9191405177116394, 0.9142705202102661, 0.908047616481781, 0.8999782204627991, 0.8893315196037292, 0.874821126461029, 0.8546035885810852, 0.8275688290596008, 0.8067546486854553, 0.8474463820457458, 0.8832831978797913, 0.9113553166389465, 0.9341579079627991, 0.9535672664642334, 0.9707852602005005, 0.985605001449585, 1.0], [1.0, 0.9881937503814697, 0.9761273860931396, 0.9632406234741211, 0.9498295187950134, 0.9332383871078491, 0.91209477186203, 0.8894068002700806, 0.8681996464729309, 0.8472858667373657, 0.8149497509002686, 0.7687801122665405, 0.7179038524627686, 0.7503056526184082, 0.7857070565223694, 0.8127958178520203, 0.8332492113113403, 0.8492586016654968, 0.8621881008148193, 0.8728564977645874, 0.8817890882492065, 0.8882360458374023, 0.8929789066314697, 0.8969492316246033, 0.9005736708641052, 0.9037653803825378, 0.906448245048523, 0.9087932109832764, 0.9113879799842834, 0.9140669107437134, 0.9163551926612854, 0.9183208346366882, 0.9201616048812866, 0.9219182133674622, 0.9234830737113953, 0.924856960773468, 0.9260514974594116, 0.9270904660224915, 0.9279416799545288, 0.9285784363746643, 0.9289366006851196, 0.9290093779563904, 0.9287799596786499, 0.9281992316246033, 0.9270162582397461, 0.9249768257141113, 0.9221066236495972, 0.9181803464889526, 0.9130531549453735, 0.9064866304397583, 0.8978156447410583, 0.8860020041465759, 0.8688199520111084, 0.8409275412559509, 0.7975571751594543, 0.7027392387390137, 0.8211526274681091, 0.8742541670799255, 0.9072970151901245, 0.9316543936729431, 0.9515970349311829, 0.9691846370697021, 0.985002338886261, 1.0], [1.0, 0.9882864952087402, 0.976268470287323, 0.9636793732643127, 0.9503448009490967, 0.9357364773750305, 0.9151087403297424, 0.8936426639556885, 0.8752484321594238, 0.8559176921844482, 0.8341953754425049, 0.8100539445877075, 0.7894350290298462, 0.7932306528091431, 0.8090152740478516, 0.8260058164596558, 0.8413310647010803, 0.8545877933502197, 0.8659419417381287, 0.8755840063095093, 0.883558452129364, 0.8899489045143127, 0.894526481628418, 0.8980608582496643, 0.9013642072677612, 0.9043076634407043, 0.9067966341972351, 0.9092544913291931, 0.9118890762329102, 0.9144254326820374, 0.9166783094406128, 0.9186329245567322, 0.920454740524292, 0.9221741557121277, 0.9237416982650757, 0.9250770211219788, 0.9262612462043762, 0.9273449778556824, 0.9282364845275879, 0.9289100170135498, 0.9293127059936523, 0.9294161200523376, 0.9291899800300598, 0.9285715222358704, 0.9273757934570312, 0.9253020882606506, 0.9224032759666443, 0.9184355139732361, 0.9132336974143982, 0.9069067239761353, 0.8987387418746948, 0.8878535032272339, 0.8728910684585571, 0.8518779277801514, 0.8291171193122864, 0.8120884895324707, 0.8483707308769226, 0.8829210996627808, 0.9109572172164917, 0.9329028129577637, 0.9516092538833618, 0.9690685272216797, 0.984925389289856, 1.0], [1.0, 0.9885522723197937, 0.9768375158309937, 0.9646755456924438, 0.9518669247627258, 0.938105583190918, 0.9187488555908203, 0.8986384272575378, 0.8827065825462341, 0.8665043711662292, 0.8502035140991211, 0.8353441953659058, 0.8239811658859253, 0.8232764601707458, 0.8302443027496338, 0.8404144644737244, 0.8512274622917175, 0.8616238236427307, 0.8712446689605713, 0.8798542022705078, 0.886828601360321, 0.8921530246734619, 0.8959358334541321, 0.8993621468544006, 0.9024763703346252, 0.9052743911743164, 0.9077667593955994, 0.9100449085235596, 0.9124687910079956, 0.9150549173355103, 0.9172978401184082, 0.9192523956298828, 0.9209868907928467, 0.9226059913635254, 0.9241346716880798, 0.9254676699638367, 0.926694929599762, 0.9278007745742798, 0.9287539720535278, 0.9295152425765991, 0.9300241470336914, 0.930190920829773, 0.9299963116645813, 0.9294500946998596, 0.9283222556114197, 0.926451563835144, 0.9237553477287292, 0.9199349880218506, 0.9145667552947998, 0.9090369939804077, 0.9022656083106995, 0.8935813307762146, 0.882606565952301, 0.8694850206375122, 0.85896897315979, 0.8579179048538208, 0.8750014901161194, 0.8968505263328552, 0.917992353439331, 0.9368986487388611, 0.9541967511177063, 0.9702489972114563, 0.9853901267051697, 1.0], [1.0, 0.9889605045318604, 0.977726936340332, 0.9661716222763062, 0.9541103839874268, 0.9408916234970093, 0.9229900240898132, 0.9041157960891724, 0.8902194499969482, 0.8767759799957275, 0.8642925024032593, 0.8537983894348145, 0.846966564655304, 0.8448969125747681, 0.8478013277053833, 0.853834867477417, 0.8612985014915466, 0.8692622184753418, 0.8774277567863464, 0.8845011591911316, 0.8896458148956299, 0.8939758539199829, 0.8976652026176453, 0.9009405970573425, 0.9038706421852112, 0.9065152406692505, 0.9089253544807434, 0.9110774397850037, 0.9134694337844849, 0.9160166382789612, 0.9182058572769165, 0.9201030135154724, 0.9217519760131836, 0.9233018755912781, 0.9247475266456604, 0.9260198473930359, 0.9272628426551819, 0.9284162521362305, 0.929466187953949, 0.9303738474845886, 0.9310773611068726, 0.9313242435455322, 0.9313549399375916, 0.9310042262077332, 0.9300328493118286, 0.9284365773200989, 0.9261777400970459, 0.9229145050048828, 0.9177844524383545, 0.9124099016189575, 0.9075899720191956, 0.9013897180557251, 0.894246518611908, 0.8867734670639038, 0.8811489939689636, 0.8837730884552002, 0.8957886099815369, 0.910790741443634, 0.9267804026603699, 0.9425126910209656, 0.9577189087867737, 0.9720683097839355, 0.986163318157196, 1.0], [1.0, 0.9894461631774902, 0.9787970781326294, 0.9680404663085938, 0.9573396444320679, 0.9445046186447144, 0.928101122379303, 0.9104651808738708, 0.8968563079833984, 0.8859677314758301, 0.8760099411010742, 0.868213951587677, 0.8623127937316895, 0.8607273101806641, 0.8619998097419739, 0.8656014800071716, 0.8706741333007812, 0.876552402973175, 0.8828350901603699, 0.8880860209465027, 0.8925244808197021, 0.8963890671730042, 0.8997669816017151, 0.9028295874595642, 0.9055189490318298, 0.9079604148864746, 0.9103131890296936, 0.9124441146850586, 0.9148904085159302, 0.917327344417572, 0.9194092750549316, 0.9212162494659424, 0.9227786660194397, 0.9242691397666931, 0.9255567789077759, 0.9268200993537903, 0.9281526803970337, 0.929379940032959, 0.9306048154830933, 0.9317882657051086, 0.9325849413871765, 0.9331255555152893, 0.9334303736686707, 0.9331755638122559, 0.9323920011520386, 0.9311382174491882, 0.9295877814292908, 0.9270760416984558, 0.9229784607887268, 0.9179540276527405, 0.9142667055130005, 0.9100638031959534, 0.9059489369392395, 0.903227686882019, 0.9010770320892334, 0.9047667980194092, 0.9129661917686462, 0.9232907891273499, 0.9354521632194519, 0.9483540058135986, 0.961845874786377, 0.9739198684692383, 0.9872784614562988, 1.0], [1.0, 0.9899414777755737, 0.9798278212547302, 0.9696778655052185, 0.9593488574028015, 0.9482354521751404, 0.934100866317749, 0.9176783561706543, 0.903911828994751, 0.8939727544784546, 0.8853617310523987, 0.8790911436080933, 0.875415563583374, 0.8734629154205322, 0.8737005591392517, 0.875755250453949, 0.8791171908378601, 0.8833351135253906, 0.8878915905952454, 0.8921384215354919, 0.8959354162216187, 0.8992446064949036, 0.9021419286727905, 0.9050549268722534, 0.9073834419250488, 0.9099655747413635, 0.9124234914779663, 0.9146305322647095, 0.9169124960899353, 0.9189867377281189, 0.920894205570221, 0.9225913286209106, 0.9241608381271362, 0.9255999326705933, 0.9267283082008362, 0.9280908703804016, 0.9293796420097351, 0.9305894374847412, 0.9320659041404724, 0.9337363839149475, 0.9348421692848206, 0.9357406497001648, 0.9360553622245789, 0.9358538389205933, 0.9351965188980103, 0.9341897368431091, 0.9328626990318298, 0.9314116835594177, 0.9286882281303406, 0.9246214628219604, 0.9213604927062988, 0.918472170829773, 0.916214108467102, 0.9156944751739502, 0.9161170721054077, 0.9202380776405334, 0.9256550669670105, 0.9336956739425659, 0.9431226253509521, 0.9550203084945679, 0.9671835899353027, 0.9776476621627808, 0.988898754119873, 1.0], [1.0, 0.9904397130012512, 0.9808223843574524, 0.9713007211685181, 0.9620203375816345, 0.951149582862854, 0.9384351372718811, 0.9252967238426208, 0.9125936031341553, 0.9025625586509705, 0.8944985866546631, 0.8888323307037354, 0.8857078552246094, 0.8838256001472473, 0.8834457993507385, 0.8845090866088867, 0.8866310715675354, 0.8897095322608948, 0.893193244934082, 0.8966462016105652, 0.8998121619224548, 0.9024734497070312, 0.9052343964576721, 0.9078288674354553, 0.9103437662124634, 0.9132009148597717, 0.9152777791023254, 0.9172618389129639, 0.9191265106201172, 0.9209916591644287, 0.922768771648407, 0.9244212508201599, 0.9259667992591858, 0.9272650480270386, 0.9284573793411255, 0.9297906160354614, 0.9306920170783997, 0.9324755668640137, 0.9345846176147461, 0.9362348914146423, 0.9378507733345032, 0.938927173614502, 0.9392008781433105, 0.9389898777008057, 0.9382784366607666, 0.937441349029541, 0.9363124370574951, 0.9348641633987427, 0.932846188545227, 0.9304222464561462, 0.9281438589096069, 0.9261868000030518, 0.9247711896896362, 0.9240835905075073, 0.9259706139564514, 0.9303234219551086, 0.9355125427246094, 0.9425345659255981, 0.9511027336120605, 0.9612498879432678, 0.9710184931755066, 0.9804490804672241, 0.9901355504989624, 1.0], [1.0, 0.9910780191421509, 0.9820306897163391, 0.9729477167129517, 0.9637770056724548, 0.953827977180481, 0.9430146217346191, 0.9321819543838501, 0.9214790463447571, 0.9119387269020081, 0.9041386246681213, 0.8983577489852905, 0.8946616053581238, 0.8925707340240479, 0.8916481137275696, 0.8921366930007935, 0.89378821849823, 0.8962178826332092, 0.8989943265914917, 0.9018535614013672, 0.9044410586357117, 0.9066260457038879, 0.9092594981193542, 0.9115584492683411, 0.914282500743866, 0.9163832664489746, 0.9181911945343018, 0.9199885129928589, 0.9217333793640137, 0.92343670129776, 0.924950361251831, 0.926543653011322, 0.9280421137809753, 0.92935711145401, 0.9307997226715088, 0.9319314956665039, 0.9333437085151672, 0.9358632564544678, 0.9379807710647583, 0.9396163821220398, 0.9413684010505676, 0.9420913457870483, 0.9421014189720154, 0.9419525861740112, 0.9415368437767029, 0.9408944249153137, 0.9400339126586914, 0.938904881477356, 0.9374698400497437, 0.9359316229820251, 0.9345082640647888, 0.9333577752113342, 0.9327220320701599, 0.9326514601707458, 0.9351339936256409, 0.9383615851402283, 0.9433735609054565, 0.9496737122535706, 0.9573459625244141, 0.9661512970924377, 0.9747279286384583, 0.9826796054840088, 0.991093099117279, 1.0], [1.0, 0.9918708205223083, 0.983563244342804, 0.9750787019729614, 0.9666792750358582, 0.9575951099395752, 0.947873055934906, 0.9382566213607788, 0.9289460778236389, 0.9202528595924377, 0.912934422492981, 0.9069728255271912, 0.9026697278022766, 0.9000934958457947, 0.8990505337715149, 0.8993439078330994, 0.9009057283401489, 0.9029104113578796, 0.9051792621612549, 0.9075089693069458, 0.9096540212631226, 0.9117811918258667, 0.9139989018440247, 0.9161627888679504, 0.9182740449905396, 0.919817328453064, 0.9215318560600281, 0.923194944858551, 0.9247660040855408, 0.9260727167129517, 0.9277672171592712, 0.9295189380645752, 0.9310763478279114, 0.9324749112129211, 0.9338268637657166, 0.9345042705535889, 0.9369174242019653, 0.9396320581436157, 0.9418342113494873, 0.9436699748039246, 0.9448344111442566, 0.9449564218521118, 0.9451248645782471, 0.9451276063919067, 0.9450291395187378, 0.944574236869812, 0.9439500570297241, 0.943187952041626, 0.9422702193260193, 0.9413310289382935, 0.9405224323272705, 0.93998783826828, 0.9399889707565308, 0.9407114386558533, 0.9426678419113159, 0.9455159306526184, 0.9498346447944641, 0.9553247094154358, 0.962338387966156, 0.9703863263130188, 0.9778491258621216, 0.9849243760108948, 0.9921452403068542, 1.0], [1.0, 0.9927831292152405, 0.9852346777915955, 0.977168083190918, 0.9694053530693054, 0.9614673852920532, 0.9528734683990479, 0.9442942142486572, 0.9356755614280701, 0.9270828366279602, 0.9202235341072083, 0.9145885705947876, 0.909844160079956, 0.9068021178245544, 0.9056644439697266, 0.9058868885040283, 0.9075136184692383, 0.9092695713043213, 0.9112384915351868, 0.9132868647575378, 0.915294885635376, 0.9172508120536804, 0.9191617965698242, 0.9209892749786377, 0.9225932955741882, 0.9238950610160828, 0.9253935813903809, 0.926912784576416, 0.9280532598495483, 0.9296367168426514, 0.9316664338111877, 0.9334468841552734, 0.9350442290306091, 0.9364293217658997, 0.9375343918800354, 0.9385875463485718, 0.9413741230964661, 0.9438799619674683, 0.946013867855072, 0.9477777481079102, 0.9487175941467285, 0.9487283229827881, 0.9490321278572083, 0.949088454246521, 0.948909342288971, 0.9484969973564148, 0.9480288624763489, 0.9475765824317932, 0.947075366973877, 0.9465925097465515, 0.9462278485298157, 0.9461050033569336, 0.9464597105979919, 0.9474434852600098, 0.9492373466491699, 0.9518430829048157, 0.9553518295288086, 0.960710346698761, 0.9674844145774841, 0.9744341373443604, 0.9808752536773682, 0.9869548082351685, 0.993218719959259, 1.0], [1.0, 0.9934868216514587, 0.9867420196533203, 0.9796149134635925, 0.9724743366241455, 0.9653105139732361, 0.9577699303627014, 0.9501640796661377, 0.9422427415847778, 0.9337747097015381, 0.9262170195579529, 0.9212321639060974, 0.9170329570770264, 0.9139541387557983, 0.9126186370849609, 0.9126796722412109, 0.9139344692230225, 0.9153498411178589, 0.9171513915061951, 0.9190396666526794, 0.9209209680557251, 0.9226981997489929, 0.9243435263633728, 0.9258337616920471, 0.9270204901695251, 0.9282663464546204, 0.9296872019767761, 0.9309872388839722, 0.932357907295227, 0.9340372681617737, 0.9358131885528564, 0.937561571598053, 0.9392282366752625, 0.940665066242218, 0.9418185353279114, 0.9434940218925476, 0.9460790753364563, 0.9484604597091675, 0.9505099654197693, 0.9521689414978027, 0.9530062675476074, 0.9531616568565369, 0.9532081484794617, 0.9531659483909607, 0.9529305100440979, 0.9524539113044739, 0.9521243572235107, 0.952025830745697, 0.9518442749977112, 0.9516745805740356, 0.9516116380691528, 0.9517518877983093, 0.9522757530212402, 0.9533088207244873, 0.954940676689148, 0.9572209715843201, 0.9603408575057983, 0.9659415483474731, 0.9719120264053345, 0.9780949950218201, 0.9839226007461548, 0.9889468550682068, 0.9943956136703491, 1.0], [1.0, 0.9939830303192139, 0.987902045249939, 0.9817280173301697, 0.9754292368888855, 0.9691748023033142, 0.9627044200897217, 0.9562085866928101, 0.9487143754959106, 0.9408894181251526, 0.9332061409950256, 0.9275913834571838, 0.9237857460975647, 0.921085000038147, 0.919854462146759, 0.919606626033783, 0.9198287725448608, 0.920983076095581, 0.9229097962379456, 0.9247289896011353, 0.9265797138214111, 0.9282062649726868, 0.929612934589386, 0.9308120608329773, 0.9317762851715088, 0.9329280257225037, 0.9340691566467285, 0.9353116750717163, 0.9366794228553772, 0.9383325576782227, 0.9399858117103577, 0.9417596459388733, 0.9436420798301697, 0.9451802968978882, 0.9464042782783508, 0.9483006596565247, 0.9509462714195251, 0.9533330798149109, 0.9553577899932861, 0.9568996429443359, 0.9574761390686035, 0.9576403498649597, 0.9575890898704529, 0.9574511051177979, 0.9571189284324646, 0.9561642408370972, 0.9559693336486816, 0.9566025733947754, 0.9566537141799927, 0.9566370844841003, 0.956725001335144, 0.9569994211196899, 0.9575759768486023, 0.9585480690002441, 0.9599552154541016, 0.9617237448692322, 0.9652731418609619, 0.9707361459732056, 0.9760525226593018, 0.9815040230751038, 0.9862714409828186, 0.9906574487686157, 0.995384156703949, 1.0], [1.0, 0.9945707321166992, 0.9890835285186768, 0.9837111234664917, 0.9782114624977112, 0.9725816249847412, 0.9670578837394714, 0.9612904191017151, 0.9551278352737427, 0.9477306008338928, 0.9397569298744202, 0.9336878061294556, 0.9293965697288513, 0.9267014265060425, 0.9260532855987549, 0.9259485006332397, 0.9262978434562683, 0.9273812770843506, 0.9287078380584717, 0.9303117990493774, 0.9323851466178894, 0.9338586926460266, 0.9350206255912781, 0.9359629154205322, 0.9367242455482483, 0.9375590085983276, 0.9383205771446228, 0.9394897818565369, 0.9411501884460449, 0.9430312514305115, 0.9440346360206604, 0.945847749710083, 0.9483942985534668, 0.9500001668930054, 0.951246440410614, 0.9532708525657654, 0.9560169577598572, 0.9585097432136536, 0.9606552124023438, 0.9622862339019775, 0.9620185494422913, 0.9621050953865051, 0.9620983004570007, 0.9620465040206909, 0.9619950652122498, 0.9619479179382324, 0.9618498086929321, 0.961715042591095, 0.9615767002105713, 0.9615176320075989, 0.9616199731826782, 0.9619208574295044, 0.9624741077423096, 0.9633423686027527, 0.9645809531211853, 0.9661828875541687, 0.9697564244270325, 0.9750584363937378, 0.980002760887146, 0.9843608140945435, 0.9882816076278687, 0.9924484491348267, 0.9964612722396851, 1.0], [1.0, 0.9951592087745667, 0.9902650713920593, 0.9854652881622314, 0.9807741045951843, 0.9761006832122803, 0.9716026782989502, 0.9664429426193237, 0.9611400365829468, 0.9550333023071289, 0.9487594962120056, 0.9421506524085999, 0.9373210072517395, 0.9337673783302307, 0.9316685199737549, 0.9317800998687744, 0.9335729479789734, 0.9347183108329773, 0.9355287551879883, 0.9370215535163879, 0.938709557056427, 0.9397439360618591, 0.940578281879425, 0.9412350654602051, 0.9415504336357117, 0.9422253966331482, 0.9434067606925964, 0.9449284076690674, 0.9469132423400879, 0.9485902786254883, 0.950488269329071, 0.952521800994873, 0.9540664553642273, 0.9551634192466736, 0.9563013911247253, 0.9584984183311462, 0.9612834453582764, 0.9639502167701721, 0.9663917422294617, 0.967225193977356, 0.966413676738739, 0.9663263559341431, 0.9664312601089478, 0.966598629951477, 0.9669209718704224, 0.967833399772644, 0.9678217768669128, 0.9668472409248352, 0.966424286365509, 0.9662581086158752, 0.9663088321685791, 0.9665680527687073, 0.9670412540435791, 0.9677605628967285, 0.9688314199447632, 0.970429539680481, 0.97425776720047, 0.9793824553489685, 0.9840590357780457, 0.9876251220703125, 0.9905231595039368, 0.9938170909881592, 0.9971739053726196, 1.0], [1.0, 0.9956977367401123, 0.9914299845695496, 0.9872791767120361, 0.9832722544670105, 0.9793691039085388, 0.975456714630127, 0.9716571569442749, 0.96787428855896, 0.9635844826698303, 0.9593433737754822, 0.9529427886009216, 0.947830855846405, 0.943876326084137, 0.9404677748680115, 0.9399550557136536, 0.9414104223251343, 0.9422909021377563, 0.9432660341262817, 0.9446855187416077, 0.9451854825019836, 0.9457502365112305, 0.9462461471557617, 0.9467913508415222, 0.947441816329956, 0.9481141567230225, 0.9496797323226929, 0.9512283802032471, 0.9529513120651245, 0.9548503160476685, 0.9574739336967468, 0.9589958190917969, 0.9593902230262756, 0.9602643847465515, 0.9613693356513977, 0.9642074108123779, 0.9666264653205872, 0.9695453643798828, 0.9709371328353882, 0.9708584547042847, 0.9704867601394653, 0.9704003930091858, 0.9705551862716675, 0.9708448052406311, 0.971226155757904, 0.9716897010803223, 0.9717468023300171, 0.9713774919509888, 0.9709864258766174, 0.9707823395729065, 0.9707893133163452, 0.9709886908531189, 0.9713441133499146, 0.9718183279037476, 0.972550630569458, 0.9743398427963257, 0.9793378710746765, 0.9841110706329346, 0.987647294998169, 0.9897582530975342, 0.9923550486564636, 0.9951095581054688, 0.9977386593818665, 1.0], [1.0, 0.9961081147193909, 0.9924445748329163, 0.9889481663703918, 0.9856467247009277, 0.9825994372367859, 0.9791293740272522, 0.9758540987968445, 0.972886860370636, 0.9706384539604187, 0.9677716493606567, 0.9623153805732727, 0.9570640325546265, 0.9533199667930603, 0.9506565928459167, 0.9494097232818604, 0.949006974697113, 0.949664294719696, 0.9504566788673401, 0.9513735175132751, 0.9513916969299316, 0.9517511129379272, 0.9518023133277893, 0.952349841594696, 0.9534004926681519, 0.9545319676399231, 0.9559234976768494, 0.9573131799697876, 0.9587787389755249, 0.9603509306907654, 0.962040364742279, 0.9633408188819885, 0.9642190933227539, 0.9651111364364624, 0.9660875201225281, 0.9692137837409973, 0.9714296460151672, 0.9738176465034485, 0.9739405512809753, 0.9741895794868469, 0.9742327928543091, 0.9743066430091858, 0.9745311737060547, 0.9749119281768799, 0.9753947854042053, 0.9759360551834106, 0.976105272769928, 0.9759043455123901, 0.9753323793411255, 0.9750820398330688, 0.9750736951828003, 0.9752492904663086, 0.9755178689956665, 0.9756118655204773, 0.9778710007667542, 0.9806878566741943, 0.9845156073570251, 0.9868938326835632, 0.9890878200531006, 0.9914010763168335, 0.9936884641647339, 0.9957120418548584, 0.997867226600647, 1.0], [1.0, 0.9962664246559143, 0.9932771325111389, 0.9904159903526306, 0.9877554774284363, 0.9853575825691223, 0.9826436042785645, 0.9797376990318298, 0.97714763879776, 0.9747540950775146, 0.9718076586723328, 0.9686737656593323, 0.9646941423416138, 0.9615802764892578, 0.9593138694763184, 0.9581015706062317, 0.9556610584259033, 0.9568005800247192, 0.9571995735168457, 0.9569910764694214, 0.9571797251701355, 0.9579911828041077, 0.9584660530090332, 0.9590201377868652, 0.9595674872398376, 0.9609200358390808, 0.9621241688728333, 0.9632837772369385, 0.9644662141799927, 0.9657060503959656, 0.9669764637947083, 0.9680935144424438, 0.9690202474594116, 0.9698571562767029, 0.9711503982543945, 0.9736945033073425, 0.9759123921394348, 0.9770389199256897, 0.9772567749023438, 0.9775641560554504, 0.9778059124946594, 0.978035569190979, 0.978355884552002, 0.978840708732605, 0.9794561266899109, 0.9795998334884644, 0.9798764586448669, 0.9798091650009155, 0.9793351292610168, 0.9791240692138672, 0.97916579246521, 0.9794141054153442, 0.9798606634140015, 0.9811022877693176, 0.9835631251335144, 0.9850705862045288, 0.9866233468055725, 0.9884667992591858, 0.9904051423072815, 0.9924941658973694, 0.9943767189979553, 0.9960289001464844, 0.9980632066726685, 1.0], [1.0, 0.9967396855354309, 0.9939745664596558, 0.9916737079620361, 0.9895903468132019, 0.9877314567565918, 0.9856496453285217, 0.9833033680915833, 0.9811990261077881, 0.979400098323822, 0.9770845770835876, 0.9742683172225952, 0.9713876843452454, 0.9689056277275085, 0.9668197631835938, 0.9654598832130432, 0.9640769958496094, 0.9645867347717285, 0.9645090103149414, 0.9639264941215515, 0.9639764428138733, 0.9646220207214355, 0.9651049375534058, 0.9656465649604797, 0.9664145112037659, 0.9674056172370911, 0.9683252573013306, 0.9691950678825378, 0.9700654149055481, 0.9710034728050232, 0.9720420837402344, 0.9730128049850464, 0.9738935828208923, 0.9747874736785889, 0.9768587946891785, 0.9783030152320862, 0.979863703250885, 0.980279803276062, 0.9806872606277466, 0.981029748916626, 0.9813194870948792, 0.9816118478775024, 0.9819926619529724, 0.9826123118400574, 0.9830252528190613, 0.9829994440078735, 0.9830305576324463, 0.9830124378204346, 0.9829392433166504, 0.9829001426696777, 0.9830415844917297, 0.9833763241767883, 0.9840264320373535, 0.9853684902191162, 0.9861172437667847, 0.9872115254402161, 0.9884433746337891, 0.9899487495422363, 0.9915705919265747, 0.993321418762207, 0.9949715733528137, 0.9966169595718384, 0.9984272122383118, 1.0], [1.0, 0.9975414872169495, 0.9951967597007751, 0.9930434226989746, 0.9911941289901733, 0.9897972345352173, 0.9883780479431152, 0.9866186380386353, 0.984939455986023, 0.9833895564079285, 0.9819129109382629, 0.9798924922943115, 0.9776285886764526, 0.9757628440856934, 0.974195659160614, 0.9727268218994141, 0.9737235903739929, 0.9726202487945557, 0.9722309708595276, 0.9718739986419678, 0.9716352820396423, 0.9711959362030029, 0.971592903137207, 0.9721596240997314, 0.9731723666191101, 0.9739132523536682, 0.9745324850082397, 0.975067675113678, 0.9755641222000122, 0.9761723875999451, 0.9771503210067749, 0.9779924750328064, 0.9787209033966064, 0.9795563220977783, 0.9812960028648376, 0.9821096062660217, 0.9829527735710144, 0.9832265377044678, 0.984158456325531, 0.9845651984214783, 0.9848105311393738, 0.9850502610206604, 0.9853543043136597, 0.9856939911842346, 0.9860104322433472, 0.9863115549087524, 0.9862014055252075, 0.986235499382019, 0.9864740967750549, 0.9864819049835205, 0.9867112040519714, 0.9870129227638245, 0.9874903559684753, 0.9880877137184143, 0.9883288145065308, 0.9892156720161438, 0.9899908900260925, 0.9913172721862793, 0.9926081299781799, 0.9942489862442017, 0.9957191348075867, 0.997185468673706, 0.998633861541748, 1.0], [1.0, 0.9982283115386963, 0.9965147376060486, 0.9948923587799072, 0.9933348298072815, 0.9921084642410278, 0.9910830855369568, 0.9898454546928406, 0.9885489344596863, 0.9872972965240479, 0.9857837557792664, 0.9847199320793152, 0.9834234714508057, 0.9822596907615662, 0.9813923835754395, 0.9810707569122314, 0.981857419013977, 0.9804073572158813, 0.9798387885093689, 0.9796228408813477, 0.9795251488685608, 0.9790391325950623, 0.979561984539032, 0.9797936081886292, 0.9801461696624756, 0.9804935455322266, 0.9807807207107544, 0.9809408783912659, 0.9809178113937378, 0.9809447526931763, 0.9823725819587708, 0.9830654263496399, 0.9834092259407043, 0.9833865165710449, 0.984441876411438, 0.985969603061676, 0.9868090152740479, 0.9875916838645935, 0.9880714416503906, 0.9882219433784485, 0.988287627696991, 0.9883928894996643, 0.9885565042495728, 0.9886589050292969, 0.9889870882034302, 0.9891858696937561, 0.9892000555992126, 0.9892913103103638, 0.9895190000534058, 0.989825963973999, 0.9902927279472351, 0.990460216999054, 0.9908251762390137, 0.9911593198776245, 0.9914621710777283, 0.9913322329521179, 0.9919854998588562, 0.9927218556404114, 0.9939860701560974, 0.9953467845916748, 0.9964702725410461, 0.9977714419364929, 0.9989218711853027, 1.0], [1.0, 0.9988490343093872, 0.9977269768714905, 0.9966587424278259, 0.9956631064414978, 0.9947959780693054, 0.9939987063407898, 0.9931260347366333, 0.9921115040779114, 0.9907089471817017, 0.9903761744499207, 0.9897550940513611, 0.9890458583831787, 0.9884097576141357, 0.9879821538925171, 0.987842857837677, 0.9877175092697144, 0.9872386455535889, 0.987023651599884, 0.9871812462806702, 0.9877251982688904, 0.9877562522888184, 0.9877499938011169, 0.987243115901947, 0.9870705008506775, 0.9870848655700684, 0.9871120452880859, 0.9869586229324341, 0.9861895442008972, 0.9876185655593872, 0.9882978200912476, 0.9884685277938843, 0.9884423613548279, 0.9887762665748596, 0.9895632266998291, 0.9904029965400696, 0.9912129640579224, 0.9922701716423035, 0.992043673992157, 0.9919164180755615, 0.9916921257972717, 0.9916511178016663, 0.9917888641357422, 0.9920202493667603, 0.9919826984405518, 0.9922205805778503, 0.9920980334281921, 0.9921876192092896, 0.992538571357727, 0.9930713176727295, 0.9933871030807495, 0.9936972260475159, 0.9941808581352234, 0.9944055676460266, 0.9950277209281921, 0.9947783946990967, 0.9948537945747375, 0.9950020909309387, 0.9959099888801575, 0.9966556429862976, 0.9976174831390381, 0.9985079169273376, 0.9992820620536804, 1.0], [1.0, 0.9994329810142517, 0.998878002166748, 0.9983484745025635, 0.9978564977645874, 0.9974114298820496, 0.9969892501831055, 0.9965436458587646, 0.9960540533065796, 0.9950467944145203, 0.9950743317604065, 0.9948533773422241, 0.994559645652771, 0.9943095445632935, 0.9942342638969421, 0.9946072101593018, 0.99394690990448, 0.9937517046928406, 0.9937776327133179, 0.9942904710769653, 0.9946445226669312, 0.9947068095207214, 0.9946520328521729, 0.9943015575408936, 0.9937574863433838, 0.9936156868934631, 0.9935795664787292, 0.9935503005981445, 0.9936935901641846, 0.995012104511261, 0.994350016117096, 0.9940458536148071, 0.9933045506477356, 0.994030773639679, 0.9943815469741821, 0.9943411350250244, 0.995369553565979, 0.9958909153938293, 0.9959067106246948, 0.9956813454627991, 0.994885265827179, 0.9947033524513245, 0.9949004650115967, 0.9956322908401489, 0.9955836534500122, 0.995590090751648, 0.9956488609313965, 0.9957877397537231, 0.996195375919342, 0.9964385628700256, 0.9964731335639954, 0.9968265295028687, 0.9970656633377075, 0.997245728969574, 0.9975501894950867, 0.9979223012924194, 0.9976451396942139, 0.9976614117622375, 0.9979944229125977, 0.9984042644500732, 0.9989654421806335, 0.9993225336074829, 0.9996981620788574, 1.0], [1.0, 1.0, 1.0, 1.0, 1.0, 1.0, 1.0, 1.0, 1.0, 1.0, 1.0, 1.0, 1.0, 1.0, 1.0, 1.0, 1.0, 1.0, 1.0, 1.0, 1.0, 1.0, 1.0, 1.0, 1.0, 1.0, 1.0, 1.0, 1.0, 1.0, 1.0, 1.0, 1.0, 1.0, 1.0, 1.0, 1.0, 1.0, 1.0, 1.0, 1.0, 1.0, 1.0, 1.0, 1.0, 1.0, 1.0, 1.0, 1.0, 1.0, 1.0, 1.0, 1.0, 1.0, 1.0, 1.0, 1.0, 1.0, 1.0, 1.0, 1.0, 1.0, 1.0, 1.0]]}],\n",
              "                        {\"annotations\": [{\"font\": {\"size\": 16}, \"showarrow\": false, \"text\": \"Input\", \"x\": 0.225, \"xanchor\": \"center\", \"xref\": \"paper\", \"y\": 1.0, \"yanchor\": \"bottom\", \"yref\": \"paper\"}, {\"font\": {\"size\": 16}, \"showarrow\": false, \"text\": \"Target\", \"x\": 0.775, \"xanchor\": \"center\", \"xref\": \"paper\", \"y\": 1.0, \"yanchor\": \"bottom\", \"yref\": \"paper\"}], \"template\": {\"data\": {\"bar\": [{\"error_x\": {\"color\": \"#2a3f5f\"}, \"error_y\": {\"color\": \"#2a3f5f\"}, \"marker\": {\"line\": {\"color\": \"#E5ECF6\", \"width\": 0.5}}, \"type\": \"bar\"}], \"barpolar\": [{\"marker\": {\"line\": {\"color\": \"#E5ECF6\", \"width\": 0.5}}, \"type\": \"barpolar\"}], \"carpet\": [{\"aaxis\": {\"endlinecolor\": \"#2a3f5f\", \"gridcolor\": \"white\", \"linecolor\": \"white\", \"minorgridcolor\": \"white\", \"startlinecolor\": \"#2a3f5f\"}, \"baxis\": {\"endlinecolor\": \"#2a3f5f\", \"gridcolor\": \"white\", \"linecolor\": \"white\", \"minorgridcolor\": \"white\", \"startlinecolor\": \"#2a3f5f\"}, \"type\": \"carpet\"}], \"choropleth\": [{\"colorbar\": {\"outlinewidth\": 0, \"ticks\": \"\"}, \"type\": \"choropleth\"}], \"contour\": [{\"colorbar\": {\"outlinewidth\": 0, \"ticks\": \"\"}, \"colorscale\": [[0.0, \"#0d0887\"], [0.1111111111111111, \"#46039f\"], [0.2222222222222222, \"#7201a8\"], [0.3333333333333333, \"#9c179e\"], [0.4444444444444444, \"#bd3786\"], [0.5555555555555556, \"#d8576b\"], [0.6666666666666666, \"#ed7953\"], [0.7777777777777778, \"#fb9f3a\"], [0.8888888888888888, \"#fdca26\"], [1.0, \"#f0f921\"]], \"type\": \"contour\"}], \"contourcarpet\": [{\"colorbar\": {\"outlinewidth\": 0, \"ticks\": \"\"}, \"type\": \"contourcarpet\"}], \"heatmap\": [{\"colorbar\": {\"outlinewidth\": 0, \"ticks\": \"\"}, \"colorscale\": [[0.0, \"#0d0887\"], [0.1111111111111111, \"#46039f\"], [0.2222222222222222, \"#7201a8\"], [0.3333333333333333, \"#9c179e\"], [0.4444444444444444, \"#bd3786\"], [0.5555555555555556, \"#d8576b\"], [0.6666666666666666, \"#ed7953\"], [0.7777777777777778, \"#fb9f3a\"], [0.8888888888888888, \"#fdca26\"], [1.0, \"#f0f921\"]], \"type\": \"heatmap\"}], \"heatmapgl\": [{\"colorbar\": {\"outlinewidth\": 0, \"ticks\": \"\"}, \"colorscale\": [[0.0, \"#0d0887\"], [0.1111111111111111, \"#46039f\"], [0.2222222222222222, \"#7201a8\"], [0.3333333333333333, \"#9c179e\"], [0.4444444444444444, \"#bd3786\"], [0.5555555555555556, \"#d8576b\"], [0.6666666666666666, \"#ed7953\"], [0.7777777777777778, \"#fb9f3a\"], [0.8888888888888888, \"#fdca26\"], [1.0, \"#f0f921\"]], \"type\": \"heatmapgl\"}], \"histogram\": [{\"marker\": {\"colorbar\": {\"outlinewidth\": 0, \"ticks\": \"\"}}, \"type\": \"histogram\"}], \"histogram2d\": [{\"colorbar\": {\"outlinewidth\": 0, \"ticks\": \"\"}, \"colorscale\": [[0.0, \"#0d0887\"], [0.1111111111111111, \"#46039f\"], [0.2222222222222222, \"#7201a8\"], [0.3333333333333333, \"#9c179e\"], [0.4444444444444444, \"#bd3786\"], [0.5555555555555556, \"#d8576b\"], [0.6666666666666666, \"#ed7953\"], [0.7777777777777778, \"#fb9f3a\"], [0.8888888888888888, \"#fdca26\"], [1.0, \"#f0f921\"]], \"type\": \"histogram2d\"}], \"histogram2dcontour\": [{\"colorbar\": {\"outlinewidth\": 0, \"ticks\": \"\"}, \"colorscale\": [[0.0, \"#0d0887\"], [0.1111111111111111, \"#46039f\"], [0.2222222222222222, \"#7201a8\"], [0.3333333333333333, \"#9c179e\"], [0.4444444444444444, \"#bd3786\"], [0.5555555555555556, \"#d8576b\"], [0.6666666666666666, \"#ed7953\"], [0.7777777777777778, \"#fb9f3a\"], [0.8888888888888888, \"#fdca26\"], [1.0, \"#f0f921\"]], \"type\": \"histogram2dcontour\"}], \"mesh3d\": [{\"colorbar\": {\"outlinewidth\": 0, \"ticks\": \"\"}, \"type\": \"mesh3d\"}], \"parcoords\": [{\"line\": {\"colorbar\": {\"outlinewidth\": 0, \"ticks\": \"\"}}, \"type\": \"parcoords\"}], \"pie\": [{\"automargin\": true, \"type\": \"pie\"}], \"scatter\": [{\"marker\": {\"colorbar\": {\"outlinewidth\": 0, \"ticks\": \"\"}}, \"type\": \"scatter\"}], \"scatter3d\": [{\"line\": {\"colorbar\": {\"outlinewidth\": 0, \"ticks\": \"\"}}, \"marker\": {\"colorbar\": {\"outlinewidth\": 0, \"ticks\": \"\"}}, \"type\": \"scatter3d\"}], \"scattercarpet\": [{\"marker\": {\"colorbar\": {\"outlinewidth\": 0, \"ticks\": \"\"}}, \"type\": \"scattercarpet\"}], \"scattergeo\": [{\"marker\": {\"colorbar\": {\"outlinewidth\": 0, \"ticks\": \"\"}}, \"type\": \"scattergeo\"}], \"scattergl\": [{\"marker\": {\"colorbar\": {\"outlinewidth\": 0, \"ticks\": \"\"}}, \"type\": \"scattergl\"}], \"scattermapbox\": [{\"marker\": {\"colorbar\": {\"outlinewidth\": 0, \"ticks\": \"\"}}, \"type\": \"scattermapbox\"}], \"scatterpolar\": [{\"marker\": {\"colorbar\": {\"outlinewidth\": 0, \"ticks\": \"\"}}, \"type\": \"scatterpolar\"}], \"scatterpolargl\": [{\"marker\": {\"colorbar\": {\"outlinewidth\": 0, \"ticks\": \"\"}}, \"type\": \"scatterpolargl\"}], \"scatterternary\": [{\"marker\": {\"colorbar\": {\"outlinewidth\": 0, \"ticks\": \"\"}}, \"type\": \"scatterternary\"}], \"surface\": [{\"colorbar\": {\"outlinewidth\": 0, \"ticks\": \"\"}, \"colorscale\": [[0.0, \"#0d0887\"], [0.1111111111111111, \"#46039f\"], [0.2222222222222222, \"#7201a8\"], [0.3333333333333333, \"#9c179e\"], [0.4444444444444444, \"#bd3786\"], [0.5555555555555556, \"#d8576b\"], [0.6666666666666666, \"#ed7953\"], [0.7777777777777778, \"#fb9f3a\"], [0.8888888888888888, \"#fdca26\"], [1.0, \"#f0f921\"]], \"type\": \"surface\"}], \"table\": [{\"cells\": {\"fill\": {\"color\": \"#EBF0F8\"}, \"line\": {\"color\": \"white\"}}, \"header\": {\"fill\": {\"color\": \"#C8D4E3\"}, \"line\": {\"color\": \"white\"}}, \"type\": \"table\"}]}, \"layout\": {\"annotationdefaults\": {\"arrowcolor\": \"#2a3f5f\", \"arrowhead\": 0, \"arrowwidth\": 1}, \"coloraxis\": {\"colorbar\": {\"outlinewidth\": 0, \"ticks\": \"\"}}, \"colorscale\": {\"diverging\": [[0, \"#8e0152\"], [0.1, \"#c51b7d\"], [0.2, \"#de77ae\"], [0.3, \"#f1b6da\"], [0.4, \"#fde0ef\"], [0.5, \"#f7f7f7\"], [0.6, \"#e6f5d0\"], [0.7, \"#b8e186\"], [0.8, \"#7fbc41\"], [0.9, \"#4d9221\"], [1, \"#276419\"]], \"sequential\": [[0.0, \"#0d0887\"], [0.1111111111111111, \"#46039f\"], [0.2222222222222222, \"#7201a8\"], [0.3333333333333333, \"#9c179e\"], [0.4444444444444444, \"#bd3786\"], [0.5555555555555556, \"#d8576b\"], [0.6666666666666666, \"#ed7953\"], [0.7777777777777778, \"#fb9f3a\"], [0.8888888888888888, \"#fdca26\"], [1.0, \"#f0f921\"]], \"sequentialminus\": [[0.0, \"#0d0887\"], [0.1111111111111111, \"#46039f\"], [0.2222222222222222, \"#7201a8\"], [0.3333333333333333, \"#9c179e\"], [0.4444444444444444, \"#bd3786\"], [0.5555555555555556, \"#d8576b\"], [0.6666666666666666, \"#ed7953\"], [0.7777777777777778, \"#fb9f3a\"], [0.8888888888888888, \"#fdca26\"], [1.0, \"#f0f921\"]]}, \"colorway\": [\"#636efa\", \"#EF553B\", \"#00cc96\", \"#ab63fa\", \"#FFA15A\", \"#19d3f3\", \"#FF6692\", \"#B6E880\", \"#FF97FF\", \"#FECB52\"], \"font\": {\"color\": \"#2a3f5f\"}, \"geo\": {\"bgcolor\": \"white\", \"lakecolor\": \"white\", \"landcolor\": \"#E5ECF6\", \"showlakes\": true, \"showland\": true, \"subunitcolor\": \"white\"}, \"hoverlabel\": {\"align\": \"left\"}, \"hovermode\": \"closest\", \"mapbox\": {\"style\": \"light\"}, \"paper_bgcolor\": \"white\", \"plot_bgcolor\": \"#E5ECF6\", \"polar\": {\"angularaxis\": {\"gridcolor\": \"white\", \"linecolor\": \"white\", \"ticks\": \"\"}, \"bgcolor\": \"#E5ECF6\", \"radialaxis\": {\"gridcolor\": \"white\", \"linecolor\": \"white\", \"ticks\": \"\"}}, \"scene\": {\"xaxis\": {\"backgroundcolor\": \"#E5ECF6\", \"gridcolor\": \"white\", \"gridwidth\": 2, \"linecolor\": \"white\", \"showbackground\": true, \"ticks\": \"\", \"zerolinecolor\": \"white\"}, \"yaxis\": {\"backgroundcolor\": \"#E5ECF6\", \"gridcolor\": \"white\", \"gridwidth\": 2, \"linecolor\": \"white\", \"showbackground\": true, \"ticks\": \"\", \"zerolinecolor\": \"white\"}, \"zaxis\": {\"backgroundcolor\": \"#E5ECF6\", \"gridcolor\": \"white\", \"gridwidth\": 2, \"linecolor\": \"white\", \"showbackground\": true, \"ticks\": \"\", \"zerolinecolor\": \"white\"}}, \"shapedefaults\": {\"line\": {\"color\": \"#2a3f5f\"}}, \"ternary\": {\"aaxis\": {\"gridcolor\": \"white\", \"linecolor\": \"white\", \"ticks\": \"\"}, \"baxis\": {\"gridcolor\": \"white\", \"linecolor\": \"white\", \"ticks\": \"\"}, \"bgcolor\": \"#E5ECF6\", \"caxis\": {\"gridcolor\": \"white\", \"linecolor\": \"white\", \"ticks\": \"\"}}, \"title\": {\"x\": 0.05}, \"xaxis\": {\"automargin\": true, \"gridcolor\": \"white\", \"linecolor\": \"white\", \"ticks\": \"\", \"title\": {\"standoff\": 15}, \"zerolinecolor\": \"white\", \"zerolinewidth\": 2}, \"yaxis\": {\"automargin\": true, \"gridcolor\": \"white\", \"linecolor\": \"white\", \"ticks\": \"\", \"title\": {\"standoff\": 15}, \"zerolinecolor\": \"white\", \"zerolinewidth\": 2}}}, \"xaxis\": {\"anchor\": \"y\", \"domain\": [0.0, 0.45]}, \"xaxis2\": {\"anchor\": \"y2\", \"domain\": [0.55, 1.0]}, \"yaxis\": {\"anchor\": \"x\", \"autorange\": \"reversed\", \"domain\": [0.0, 1.0]}, \"yaxis2\": {\"anchor\": \"x2\", \"autorange\": \"reversed\", \"domain\": [0.0, 1.0]}},\n",
              "                        {\"responsive\": true}\n",
              "                    ).then(function(){\n",
              "                            \n",
              "var gd = document.getElementById('68e8e869-28f3-4300-8edc-71152977ca25');\n",
              "var x = new MutationObserver(function (mutations, observer) {{\n",
              "        var display = window.getComputedStyle(gd).display;\n",
              "        if (!display || display === 'none') {{\n",
              "            console.log([gd, 'removed!']);\n",
              "            Plotly.purge(gd);\n",
              "            observer.disconnect();\n",
              "        }}\n",
              "}});\n",
              "\n",
              "// Listen for the removal of the full notebook cells\n",
              "var notebookContainer = gd.closest('#notebook-container');\n",
              "if (notebookContainer) {{\n",
              "    x.observe(notebookContainer, {childList: true});\n",
              "}}\n",
              "\n",
              "// Listen for the clearing of the current output cell\n",
              "var outputEl = gd.closest('.output');\n",
              "if (outputEl) {{\n",
              "    x.observe(outputEl, {childList: true});\n",
              "}}\n",
              "\n",
              "                        })\n",
              "                };\n",
              "                \n",
              "            </script>\n",
              "        </div>\n",
              "</body>\n",
              "</html>"
            ]
          },
          "metadata": {}
        }
      ]
    },
    {
      "cell_type": "markdown",
      "metadata": {
        "id": "D33lmBjDtGii"
      },
      "source": [
        "## Network Architecture"
      ]
    },
    {
      "cell_type": "markdown",
      "metadata": {
        "id": "1lPCrjvPdjR0"
      },
      "source": [
        "\n",
        "Now that we have our loss function, now lets create the encoder-decoder to produce an estimate of our steady state groundwater flow.\n",
        "\n",
        "The architecture of is an Attention U-Net from [Attention U-Net: Learning Where to Look for the Pancreas](https://arxiv.org/abs/1804.03999)  written by Oktay et. al. \n",
        "\n",
        "  * Each block in the encoder is (Conv -> Batchnorm -> Leaky ReLU)\n",
        "  * Each block in the decoder is (: Upsampling + Conv2D -> Batchnorm -> Dropout(applied to the first 3 blocks) -> ReLU)\n",
        "  * There are skip connections between the encoder and decoder (as in U-Net).\n",
        "  * Soft attention implemented at the skip connections\n",
        "  * We are able to fix know boundary values in the results and output values in the fixed target range [0.5,1].\n",
        "\n",
        "It looks like: \n",
        "\n",
        "![attention gate](https://drive.google.com/uc?export=view&id=1nmpZSdvhxD7x87CixR9QnLhmQyx70a0x)\n",
        "\n"
      ]
    },
    {
      "cell_type": "code",
      "metadata": {
        "id": "Fa-zF49QtFpi"
      },
      "source": [
        "OUTPUT_CHANNELS = 1"
      ],
      "execution_count": null,
      "outputs": []
    },
    {
      "cell_type": "code",
      "metadata": {
        "id": "iM7Y03zRvxI2"
      },
      "source": [
        "def crop(dimension, start, end):\n",
        "    # Crops (or slices) a Tensor on a given dimension from start to end\n",
        "    # example : to crop tensor x[:, :, 5:10]\n",
        "    # call slice(2, 5, 10) as you want to crop on the second dimension\n",
        "    def func(x):\n",
        "        if dimension == 0:\n",
        "            return x[start: end]\n",
        "        if dimension == 1:\n",
        "            return x[:, start: end]\n",
        "        if dimension == 2:\n",
        "            return x[:, :, start: end]\n",
        "        if dimension == 3:\n",
        "            return x[:, :, :, start: end]\n",
        "        if dimension == 4:\n",
        "            return x[:, :, :, :, start: end]\n",
        "\n",
        "    return tf.keras.layers.Lambda(func)"
      ],
      "execution_count": null,
      "outputs": []
    },
    {
      "cell_type": "markdown",
      "metadata": {
        "id": "al3ACiBPdLem"
      },
      "source": [
        "### Encoder and Decoder\n",
        "Define the downsampler (encoder):"
      ]
    },
    {
      "cell_type": "code",
      "metadata": {
        "id": "5ahneQnOtU1n"
      },
      "source": [
        "def downsample(filters, size, apply_batchnorm=True):\n",
        "  initializer = tf.random_normal_initializer(0., 0.02)\n",
        "\n",
        "  result = tf.keras.Sequential()\n",
        "  result.add(\n",
        "      tf.keras.layers.Conv2D(filters, size, strides=2, padding='same',\n",
        "                             kernel_initializer=initializer, use_bias=False))\n",
        "\n",
        "  if apply_batchnorm:\n",
        "    result.add(tf.keras.layers.BatchNormalization())\n",
        "\n",
        "  result.add(tf.keras.layers.LeakyReLU())\n",
        "\n",
        "  return result"
      ],
      "execution_count": null,
      "outputs": []
    },
    {
      "cell_type": "code",
      "metadata": {
        "id": "yArNPKfYtXBf"
      },
      "source": [
        "inp_tensor = tf.random.uniform(shape=[32, 32, 64])\n",
        "down_model = downsample(128, 4)\n",
        "down_result = down_model(tf.expand_dims(inp_tensor, 0))\n",
        "print (down_result.shape)"
      ],
      "execution_count": null,
      "outputs": []
    },
    {
      "cell_type": "code",
      "metadata": {
        "id": "hSZsnNHXiCl3"
      },
      "source": [
        "down_model.summary()"
      ],
      "execution_count": null,
      "outputs": []
    },
    {
      "cell_type": "code",
      "metadata": {
        "id": "6-aylEs7Jhb_"
      },
      "source": [
        "# table=pd.DataFrame(columns=[\"Input Shape\"])\n",
        "# for layer in model.layers:\n",
        "#     table = table.append({\"Input Shape\":layer.input_shape}, ignore_index=True)\n",
        "# table"
      ],
      "execution_count": null,
      "outputs": []
    },
    {
      "cell_type": "markdown",
      "metadata": {
        "id": "HBLiwnIjNGQN"
      },
      "source": [
        "Define the upsampler (decoder):"
      ]
    },
    {
      "cell_type": "code",
      "metadata": {
        "id": "pPSQ5eJ0tY_a"
      },
      "source": [
        "def upsample(filters, size, apply_dropout=False):\n",
        "  initializer = tf.random_normal_initializer(0., 0.02)\n",
        "\n",
        "  result = tf.keras.Sequential()\n",
        "  # result.add(\n",
        "  #   tf.keras.layers.Conv2DTranspose(filters, size, strides=2,\n",
        "  #                                   padding='same',\n",
        "  #                                   kernel_initializer=initializer,\n",
        "  #                                   use_bias=False))\n",
        "\n",
        "  result.add(tf.keras.layers.UpSampling2D(size, interpolation='bilinear' ))\n",
        "  result.add(\n",
        "      tf.keras.layers.Conv2D(filters, size, strides=2, padding='same',\n",
        "                            kernel_initializer=initializer, use_bias=False)) #changed padding\n",
        "\n",
        "\n",
        "  result.add(tf.keras.layers.BatchNormalization())\n",
        "\n",
        "  if apply_dropout:\n",
        "      result.add(tf.keras.layers.Dropout(0.5))\n",
        "\n",
        "  result.add(tf.keras.layers.ReLU())\n",
        "  \n",
        "  return result"
      ],
      "execution_count": null,
      "outputs": []
    },
    {
      "cell_type": "code",
      "metadata": {
        "id": "ujIBP8kYteq6"
      },
      "source": [
        "inp_tensor = tf.random.uniform(shape=[16, 16, 256])\n",
        "up_model = upsample(64,4)\n",
        "up_result = up_model(tf.expand_dims(inp_tensor, 0)) \n",
        "print (up_result.shape)"
      ],
      "execution_count": null,
      "outputs": []
    },
    {
      "cell_type": "code",
      "metadata": {
        "id": "evnPkTlMdK7J"
      },
      "source": [
        "up_model.summary()"
      ],
      "execution_count": null,
      "outputs": []
    },
    {
      "cell_type": "markdown",
      "metadata": {
        "id": "YfPPbCbGc567"
      },
      "source": [
        "### Attention block"
      ]
    },
    {
      "cell_type": "markdown",
      "metadata": {
        "id": "-3YrwzoEh4Dq"
      },
      "source": [
        "We implement the attention gates as defined by Oktay et. al. The attention gate takes the vectors x and g as inputs. The vector g is taken from the next lowest layer of the network in the upsampling path, while x is the corresponding vector from the encoder going through the skip connection. Vector x goes through a strided convolution and vector g goes through a 1x1 convolution such that their dimensions become the same and the two vectors are summed element-wise. The resulting weights are larger if aligned while unaligned weights become relatively smaller. The resultant vector goes through a ReLU activation layer, a 1x1 convolution and a sigmoid layer which scales the vector between the range [0,1. The attention coefficients are upsampled to the original dimensions of the x vector and are multiplied element-wise to the original x vector, scaling the vector according to relevance. The resulting vector is then passed along in the skip connection as normal. \n",
        "\n",
        "![attention gate](https://drive.google.com/uc?export=view&id=11_1q9yyl9ZFOTG6sNNFgpMKBvBkbhwoT)"
      ]
    },
    {
      "cell_type": "code",
      "metadata": {
        "id": "96WvtXIHZV_k"
      },
      "source": [
        "from tensorflow.keras import backend as K\n",
        "\n",
        "def repeat_elem(tensor, rep):\n",
        "    # lambda function to repeat Repeats the elements of a tensor along an axis\n",
        "    #by a factor of rep.\n",
        "    # If tensor has shape (None, 256,256,3), lambda will return a tensor of shape \n",
        "    #(None, 256,256,6), if specified axis=3 and rep=2.\n",
        "\n",
        "     return tf.keras.layers.Lambda(lambda x, repnum: K.repeat_elements(x, repnum, axis=3),\n",
        "                          arguments={'repnum': rep})(tensor)\n",
        "\n",
        "def gating_signal(input, out_size, batch_norm=False):\n",
        "    \"\"\"\n",
        "    resize the down layer feature map into the same dimension as the up layer feature map\n",
        "    using 1x1 conv\n",
        "    :return: the gating feature map with the same dimension of the up layer feature map\n",
        "    \"\"\"\n",
        "    x = tf.keras.layers.Conv2D(out_size, (1, 1), padding='same')(input)\n",
        "    if batch_norm:\n",
        "        x = tf.keras.layers.BatchNormalization()(x)\n",
        "    x = tf.keras.layers.Activation('relu')(x)\n",
        "    return x\n",
        "\n",
        "\n",
        "def attention_block(x, gating, inter_shape):\n",
        "    shape_x = K.int_shape(x)\n",
        "    shape_g = K.int_shape(gating)\n",
        "\n",
        "# Getting the x signal to the same shape as the gating signal\n",
        "    theta_x = tf.keras.layers.Conv2D(inter_shape, (2, 2), strides=(2, 2), padding='same')(x)  # 16\n",
        "    shape_theta_x = K.int_shape(theta_x)\n",
        "\n",
        "# Getting the gating signal to the same number of filters as the inter_shape\n",
        "    phi_g = tf.keras.layers.Conv2D(inter_shape, (1, 1), padding='same')(gating)\n",
        "    upsample_g = tf.keras.layers.Conv2DTranspose(inter_shape, (3, 3),\n",
        "                                 strides=(shape_theta_x[1] // shape_g[1], shape_theta_x[2] // shape_g[2]),\n",
        "                                 padding='same')(phi_g)  # 16\n",
        "    concat_xg = tf.keras.layers.add([upsample_g, theta_x])\n",
        "    act_xg = tf.keras.layers.Activation('relu')(concat_xg)\n",
        "    \n",
        "    psi = tf.keras.layers.Conv2D(1, (1, 1), padding='same')(act_xg)\n",
        "    sigmoid_xg = tf.keras.layers.Activation('sigmoid')(psi)\n",
        "    shape_sigmoid = K.int_shape(sigmoid_xg)\n",
        "    upsample_psi = tf.keras.layers.UpSampling2D(size=(shape_x[1] // shape_sigmoid[1], shape_x[2] // shape_sigmoid[2]))(sigmoid_xg)  # 32\n",
        "\n",
        "    upsample_psi = repeat_elem(upsample_psi, shape_x[3])\n",
        "    y = tf.keras.layers.multiply([upsample_psi, x])\n",
        "    result = tf.keras.layers.Conv2D(shape_x[3], (1, 1), padding='same')(y)\n",
        "    result_bn = tf.keras.layers.BatchNormalization()(result)\n",
        "    return result_bn"
      ],
      "execution_count": null,
      "outputs": []
    },
    {
      "cell_type": "code",
      "metadata": {
        "id": "drFyhl2W8NLP"
      },
      "source": [
        "inp_tensor = tf.random.uniform(shape=[16, 16, 256])\n",
        "gating_model_result = gating_signal(input= tf.expand_dims(inp_tensor, 0), out_size=64, batch_norm=True)\n",
        "print (gating_model_result.shape)"
      ],
      "execution_count": null,
      "outputs": []
    },
    {
      "cell_type": "code",
      "metadata": {
        "id": "eeg920_u98S0"
      },
      "source": [
        "inp_tensor_skip = tf.random.uniform(shape=[ 32, 32, 64])\n",
        "attention_block_result = attention_block(x = tf.expand_dims(inp_tensor_skip, 0), gating=gating_model_result, inter_shape=64)\n",
        "print (attention_block_result.shape)"
      ],
      "execution_count": null,
      "outputs": []
    },
    {
      "cell_type": "markdown",
      "metadata": {
        "id": "OA93C4yqc9TZ"
      },
      "source": [
        "### Attention U-net\n",
        "Define the network with the downsampler and upsampler and the attention gates:"
      ]
    },
    {
      "cell_type": "code",
      "metadata": {
        "id": "DwS8WLujtidk"
      },
      "source": [
        "def fixBoundary(args):\n",
        "  x, B, H = args\n",
        "  return tf.where(B > 0.5, H, x)\n",
        "\n",
        "def get_range(input, target_max, target_min):\n",
        "  return input * (target_max - target_min) + target_min"
      ],
      "execution_count": null,
      "outputs": []
    },
    {
      "cell_type": "code",
      "metadata": {
        "id": "yaRhg58ccxQV"
      },
      "source": [
        "def Encoder_Decoder_attention():\n",
        "  inputs = tf.keras.layers.Input(shape=[IMG_H,IMG_W,3])\n",
        "  # H = crop(3, 0, 1)(inputs)\n",
        "  # B = crop(3, 1, 2)(inputs)\n",
        "\n",
        "  filter_size = 4\n",
        "  down_stack = [\n",
        "    downsample(64, filter_size, apply_batchnorm=False), \n",
        "    downsample(128, filter_size),\n",
        "    downsample(256, filter_size), \n",
        "    downsample(512, filter_size), \n",
        "    # downsample(512, filter_size), \n",
        "    # downsample(512, 2), \n",
        "  ]\n",
        "\n",
        "  up_stack = [\n",
        "    # upsample(512, filter_size, apply_dropout=True), \n",
        "    # upsample(512, filter_size, apply_dropout=True), \n",
        "    upsample(256, filter_size, apply_dropout=True), \n",
        "    upsample(128, filter_size, apply_dropout=True), \n",
        "    upsample(64, filter_size), # (bs, 32, 32, 128)\n",
        "  ]\n",
        "\n",
        "\n",
        "  initializer = tf.random_normal_initializer(0., 0.02)\n",
        "  last = tf.keras.layers.Conv2DTranspose(OUTPUT_CHANNELS, filter_size,\n",
        "                                         strides=2,\n",
        "                                         padding='same',\n",
        "                                         kernel_initializer=initializer,\n",
        "                                         activation='sigmoid')\n",
        "\n",
        "  x = inputs\n",
        "\n",
        "  # Downsampling through the model\n",
        "  skips = []\n",
        "  for down in down_stack:\n",
        "    x = down(x)\n",
        "    skips.append(x)\n",
        "  \n",
        "  skips = reversed(skips[:-1])\n",
        "\n",
        "  FILTER_NUM = [512, 512, 256, 128, 64]\n",
        "  # Upsampling and establishing the skip connections\n",
        "  for i, (up, skip) in enumerate(zip(up_stack, skips)):\n",
        "    gating_i = gating_signal(x, FILTER_NUM[i], batch_norm= True)\n",
        "    att = attention_block(skip, gating_i, FILTER_NUM[i])\n",
        "    x = up(x)\n",
        "    x = tf.keras.layers.Concatenate()([x, att])\n",
        "    \n",
        "  x = last(x)\n",
        "  \n",
        "  x = tf.keras.layers.Lambda(get_range, arguments={'target_max': 1, 'target_min': 0.5})(x)\n",
        "\n",
        "  # x = tf.keras.layers.Lambda(fixBoundary)([x,B,H])\n",
        "  \n",
        "  return tf.keras.Model(inputs=inputs, outputs=x) "
      ],
      "execution_count": null,
      "outputs": []
    },
    {
      "cell_type": "code",
      "metadata": {
        "id": "7-8m4wkJvZPa"
      },
      "source": [
        "model = Encoder_Decoder_attention()\n",
        "# tf.keras.utils.plot_model(model, show_shapes=True, dpi=64)"
      ],
      "execution_count": null,
      "outputs": []
    },
    {
      "cell_type": "code",
      "metadata": {
        "id": "0ZSghzkEkil6"
      },
      "source": [
        "import pandas as pd\n",
        "table=pd.DataFrame(columns=[\"Name\", \"Parameters\"])\n",
        "for layer in model.layers:\n",
        "    table = table.append({\"Name\":layer.name, \"Parameters\":layer.count_params()}, ignore_index=True)\n",
        "table\n",
        "#     name = layer.name\n",
        "#     input_shape = layer.input_shape\n",
        "#     output_shape = layer.output_shape\n",
        "#     count_params = layer.count_params()\n",
        "from google.colab import files\n",
        "table.to_csv('data.csv')\n",
        "# files.download(\"data.csv\")"
      ],
      "execution_count": null,
      "outputs": []
    },
    {
      "cell_type": "markdown",
      "metadata": {
        "id": "i9kE5j9-w6R4"
      },
      "source": [
        "## Callbacks\n",
        "\n"
      ]
    },
    {
      "cell_type": "markdown",
      "metadata": {
        "id": "ZoQYxrJKOjjD"
      },
      "source": [
        "### Plot Images\n",
        "\n",
        "Write some function to plot images during training."
      ]
    },
    {
      "cell_type": "code",
      "metadata": {
        "id": "2HZ3ow0YxGMI"
      },
      "source": [
        "params = {\"ytick.color\" : \"k\",\n",
        "          \"xtick.color\" : \"k\",\n",
        "          \"axes.labelcolor\" : \"k\",\n",
        "          \"axes.edgecolor\" : \"k\"}\n",
        "plt.rcParams.update(params)\n",
        "\n",
        "def generate_images(model, test_input, target):\n",
        "  prediction = model(test_input, training=True)\n",
        "  plt.figure(figsize=(15,15))\n",
        "\n",
        "  display_list = [test_input[0, :, :, 0], test_input[0, :, :, 1], \n",
        "                  test_input[0, :, :, 2], target[0, :, :, 0], \n",
        "                  prediction[0, :, :, 0], \n",
        "                  abs(target[0, :, :, 0]-prediction[0,:,:,0])]\n",
        "  title = ['Input Head', 'Input Boundaries', 'Input Field', 'Target', \n",
        "           'Predicted Image', 'Abs Error']\n",
        "\n",
        "  for i in range(len(display_list)):\n",
        "    plt.subplot(1, 7, i+1)\n",
        "    plt.title(title[i])\n",
        "    # getting the pixel values between [0, 1] to plot it.\n",
        "    im = plt.imshow(display_list[i])\n",
        "    plt.colorbar(im, fraction=0.05, pad=0.03)\n",
        "    plt.axis('off')\n",
        "\n",
        "mpl.rcParams.update(mpl.rcParamsDefault)"
      ],
      "execution_count": null,
      "outputs": []
    },
    {
      "cell_type": "code",
      "metadata": {
        "id": "a7Jd3UwWOYWa"
      },
      "source": [
        "def fig_training_error(model, test_input, target):\n",
        "  prediction = model(test_input, training=True)\n",
        "  #loss_primal, loss_primal2 = primal_residual( tar[:, :, 0], inp[:, :, 0], inp[:, :, 2])\n",
        "  loss_modflow = custom_loss(test_input[0,:,:,:], prediction[0,:,:,:])\n",
        "\n",
        "\n",
        "  reserr = target[0, :, :, 0]-prediction[0,:,:,0]\n",
        "  # mean absolute error \n",
        "  abs_reserr = tf.math.abs(reserr)\n",
        "  # mean absolute percentage error \n",
        "  ape = 100 * tf.math.abs(reserr / target[0, :, :, 0])\n",
        "  plt.figure(figsize=(15,15))\n",
        "\n",
        "  display_list = [target[0, :, :, 0], \n",
        "                  prediction[0, :, :, 0], \n",
        "                  test_input[0, :, :, 2],\n",
        "                  reserr, loss_modflow]\n",
        "  title = ['y', r'$\\hat{y}$', 'Input Field', r'$ y - \\hat{y}$', 'Loss Modflow']\n",
        "  bounds = np.linspace(0.5, 1, 26)\n",
        "  norm = colors.BoundaryNorm(boundaries=bounds, ncolors=256)\n",
        "  divnorm=c.TwoSlopeNorm(vcenter=0.)\n",
        "  norm_list= [norm, norm, None, divnorm, None]\n",
        "  cmap_list =['viridis', 'viridis', None, 'RdBu', 'RdBu']\n",
        "\n",
        "  for i in range(len(display_list)):\n",
        "    plt.subplot(1, 5, i+1)\n",
        "    plt.title(title[i])\n",
        "    im = plt.imshow(display_list[i], norm=norm_list[i], cmap=cmap_list[i])\n",
        "    plt.colorbar(im, fraction=0.05, pad=0.03)\n",
        "    plt.axis('off')\n",
        "    \n",
        "  return loss_modflow\n"
      ],
      "execution_count": null,
      "outputs": []
    },
    {
      "cell_type": "code",
      "metadata": {
        "id": "etm8hjm_fAkV"
      },
      "source": [
        "!pip install livelossplot --quiet\n",
        "from livelossplot import PlotLossesKeras"
      ],
      "execution_count": null,
      "outputs": []
    },
    {
      "cell_type": "code",
      "metadata": {
        "id": "gogH364e9YMH"
      },
      "source": [
        "# Two ways to display the target and prediction images during training \n",
        "# first way\n",
        "class GenerateImages(Callback):\n",
        "    def on_epoch_end(self, epoch, logs):\n",
        "        for example_input, example_target in test_dataset_original.shuffle(100).batch(1).take(1):\n",
        "          generate_images(model, example_input[:,:,:,:], example_target)\n",
        "          fig_training_error(model, example_input[:,:,:,:], example_target)\n",
        "generateimages = GenerateImages()\n",
        "\n",
        "#second way\n",
        "def testmodel(epoch, logs):\n",
        "    for example_input, example_target in test_dataset.take(1):\n",
        "        generate_images(model, example_input[:,:,:,:], example_target)\n",
        "# Callback to display the target and prediciton\n",
        "testmodelcb = LambdaCallback(on_epoch_end=testmodel)"
      ],
      "execution_count": null,
      "outputs": []
    },
    {
      "cell_type": "markdown",
      "metadata": {
        "id": "cqJdm-YNO1Fu"
      },
      "source": [
        "### Checkpoint \n",
        "We define a checkoint to save the model every 10 epochs. \n",
        "We also define an early stopping callback (we won't be using it though). "
      ]
    },
    {
      "cell_type": "code",
      "metadata": {
        "id": "YRw0eSYDO1ca"
      },
      "source": [
        "def dir_checkpoints(folder_path, model_name = '', app=True):\n",
        "    folder_path = os.path.dirname(folder_path)\n",
        "    early_stopping_callback = tf.keras.callbacks.EarlyStopping(monitor='val_loss', patience=5, mode='min') \n",
        "    checkpoint_path = os.path.join(folder_path, 'cp-{epoch:04d}.h5') #ckpt\n",
        "    checkpoint_dir = os.path.dirname(checkpoint_path)\n",
        "    # model_checkpoint_callback = tf.keras.callbacks.ModelCheckpoint(\n",
        "        # filepath=checkpoint_path, save_freq=10*BATCH_SIZE) #save every 10 epochs\n",
        "    model_checkpoint_callback = tf.keras.callbacks.ModelCheckpoint(\n",
        "        filepath=checkpoint_path, save_best_only=True, monitor=\"val_loss\",\n",
        "        verbose=1)\n",
        "\n",
        "    hystory_filename = os.path.join(folder_path, 'model_history_callback.csv')\n",
        "    history_logger=tf.keras.callbacks.CSVLogger(hystory_filename, separator=\",\", append=app)\n",
        "    return early_stopping_callback, model_checkpoint_callback, history_logger\n"
      ],
      "execution_count": null,
      "outputs": []
    },
    {
      "cell_type": "markdown",
      "metadata": {
        "id": "zQtizV7dc2rx"
      },
      "source": [
        "### Tensorboard - Not Used\n"
      ]
    },
    {
      "cell_type": "code",
      "metadata": {
        "id": "HvkIpfnjc3h3"
      },
      "source": [
        "# !pip install -q -U tensorboard\n",
        "# # Load the TensorBoard notebook extension.\n",
        "# %load_ext tensorboard\n",
        "# import tensorboard\n",
        "# tensorboard.__version__\n",
        "# # Define the Keras TensorBoard callback.\n",
        "# logdir=\"logs/fit/\" + datetime.now().strftime(\"%Y%m%d-%H%M%S\")\n",
        "# tensorboard_callback = keras.callbacks.TensorBoard(log_dir=logdir)"
      ],
      "execution_count": null,
      "outputs": []
    },
    {
      "cell_type": "markdown",
      "metadata": {
        "id": "uk-nbAkUOqPq"
      },
      "source": [
        "### Learning Schedule - Not Used\n",
        "\n",
        "Define and visualize a learning schedule. "
      ]
    },
    {
      "cell_type": "code",
      "metadata": {
        "id": "QCugrbcoW3NF"
      },
      "source": [
        "lr_schedule = tf.keras.optimizers.schedules.InverseTimeDecay(\n",
        "  8e-4,\n",
        "  decay_steps=STEPS_PER_EPOCH*5,\n",
        "  decay_rate=1)\n",
        "\n",
        "lr_schedule_SGD = tf.keras.optimizers.schedules.InverseTimeDecay(\n",
        "  1.0,\n",
        "  decay_steps=STEPS_PER_EPOCH*5,\n",
        "  decay_rate=1)\n",
        "\n",
        "step = np.linspace(0,10000)\n",
        "lr = lr_schedule(step)\n",
        "lr_SGD = lr_schedule_SGD(step)\n",
        "\n",
        "plt.figure(figsize = (8,6))\n",
        "# plt.plot(step/STEPS_PER_EPOCH, lr, label =\"learning rate decay\")\n",
        "plt.plot(step/STEPS_PER_EPOCH, lr_SGD, label =\"learning rate decay sgd\")\n",
        "#plt.ylim([0,max(plt.ylim())])\n",
        "plt.legend(loc=\"upper right\")\n",
        "plt.xlabel('Epoch')\n",
        "_ = plt.ylabel('Learning Rate')\n"
      ],
      "execution_count": null,
      "outputs": []
    },
    {
      "cell_type": "code",
      "metadata": {
        "id": "QVmyDmV0JCln"
      },
      "source": [
        "# # print(step/STEPS_PER_EPOCH, lr)\n",
        "# for item_a, item_b in zip(step/STEPS_PER_EPOCH, lr):\n",
        "#     print(\"{:.0f}\".format(item_a), 10*\" \", \"{:.0e}\".format(item_b.numpy()))"
      ],
      "execution_count": null,
      "outputs": []
    },
    {
      "cell_type": "markdown",
      "metadata": {
        "id": "r28k3nK7KR4d"
      },
      "source": [
        "## Training\n",
        "\n",
        "We define a custom loss for the FD scheme and a custom metrics for the coefficient of determination. "
      ]
    },
    {
      "cell_type": "code",
      "metadata": {
        "id": "ktAFZ9yKwLh0"
      },
      "source": [
        "alpha = 1\n",
        "def FD_loss(gen_output, input_data):\n",
        "    return alpha * tf.reduce_mean(tf.pow(custom_loss(input_data, gen_output), tf.constant(2.0)))\n",
        "\n",
        "def custom_max(y_true, y_pred):\n",
        "    return tf.math.reduce_max(tf.math.abs(y_true[:,:,:,0] - y_pred[:,:,:,0]))\n",
        "\n",
        "beta = 0\n",
        "def custom_mse(y_true, y_pred):\n",
        "    return beta * tf.math.reduce_sum(tf.square(y_true[:,:,:,0] - y_pred[:,:,:,0]))\n",
        "\n",
        "def coeff_determination(y_true, y_pred):\n",
        "    SS_res =  K.sum(K.square( y_true-y_pred )) \n",
        "    SS_tot = K.sum(K.square( y_true - K.mean(y_true) ) ) \n",
        "    return ( 1 - SS_res/(SS_tot + K.epsilon()) )"
      ],
      "execution_count": null,
      "outputs": []
    },
    {
      "cell_type": "code",
      "metadata": {
        "id": "GHD-oule3ANl"
      },
      "source": [
        "import csv\n",
        "class StoreModelHistory(Callback):\n",
        "\n",
        "  def on_epoch_end(self,batch,logs=None):\n",
        "    if ('lr' not in logs.keys()):\n",
        "      logs.setdefault('lr',0)\n",
        "      logs['lr'] = K.get_value(self.model.optimizer.lr)\n",
        "\n",
        "    if not ('model_history.csv' in os.listdir(folder_path)):\n",
        "      with open(folder_path+'model_history.csv','a') as f:\n",
        "        y=csv.DictWriter(f,logs.keys())\n",
        "        y.writeheader()\n",
        "\n",
        "    with open(folder_path+'model_history.csv','a') as f:\n",
        "      y=csv.DictWriter(f,logs.keys())\n",
        "      y.writerow(logs)\n",
        "\n"
      ],
      "execution_count": null,
      "outputs": []
    },
    {
      "cell_type": "code",
      "metadata": {
        "id": "Z6ri4tf-paA5"
      },
      "source": [
        "# Prepare a directory to store all the checkpoints.\n",
        "import logging, os\n",
        "logging.disable(logging.WARNING)\n",
        "os.environ[\"TF_CPP_MIN_LOG_LEVEL\"] = \"3\"\n",
        "\n",
        "folder_path = \"/content/gdrive/My Drive/Colaboratory/ED/DS_dropout50/\"\n",
        "if not os.path.exists(folder_path):\n",
        "    os.makedirs(folder_path)\n",
        "\n",
        "def get_compiled_model():\n",
        "    model = Encoder_Decoder_attention()\n",
        "    # FD = FD_loss(gen_output = model.output , input_data=model.input)\n",
        "    #model.add_loss( FD)\n",
        "    # model.add_metric(FD, name='Physics loss')\n",
        "    model.compile(loss = tf.keras.losses.MeanSquaredError(), #custom_mse, #custom_L1, #tf.keras.losses.MeanAbsoluteError(), # tf.keras.losses.MeanSquaredError() \n",
        "                  # optimizer = tf.keras.optimizers.Adam(lr_schedule), \n",
        "                  # optimizer= tf.keras.optimizers.SGD(learning_rate= 0.01, momentum=0.9999), #, momentum=0.9999\n",
        "                  optimizer=tf.keras.optimizers.Adam(8e-4), \n",
        "                  metrics =[tf.keras.metrics.RootMeanSquaredError(name = 'RMSE'), coeff_determination, tf.keras.metrics.MeanSquaredError(name='MSE Loss'),\n",
        "                            custom_max])\n",
        "    return model\n",
        "\n",
        "dependencies = {\n",
        "    'coeff_determination': coeff_determination, \n",
        "    'custom_max': custom_max\n",
        "}\n",
        "\n",
        "def make_or_restore_model():\n",
        "    # Either restore the latest model, or create a fresh one\n",
        "    # if there is no checkpoint available.\n",
        "    checkpoints = [folder_path + \"/\" + name for name in os.listdir(folder_path)]\n",
        "    csv_logger = [x for x in checkpoints if x.endswith(('.csv'))]\n",
        "    checkpoints = [x for x in checkpoints if x.endswith((\".h5\", \".hdf5\", '.ckpt'))]\n",
        "    # checkpoints = filter(lambda x:x.endswith((\".h5\", \".hdf5\", '.ckpt')), checkpoints)\n",
        "    if checkpoints:\n",
        "        latest_checkpoint = max(checkpoints, key=os.path.getctime)\n",
        "        model = tf.keras.models.load_model(latest_checkpoint, custom_objects=dependencies)\n",
        "        with open(csv_logger[0]) as f:      # you use your training log to get the right epoch number\n",
        "          i_epoch = sum(1 for line in f) - 2\n",
        "        app=True                            # you want to append to the log file\n",
        "        print(\"Restoring from {}, re-starting training at epoch {}\". format(os.path.basename(latest_checkpoint),i_epoch ) )\n",
        "        return i_epoch, model, app\n",
        "\n",
        "    model = get_compiled_model()\n",
        "    i_epoch=-1                          # you need this to start at epoch 0\n",
        "    app=False                           # you want to start logging from scratch\n",
        "    print(\"Creating a new model\")\n",
        "    return i_epoch, model, app\n",
        "\n",
        "i_epoch, model, app = make_or_restore_model()\n",
        "model_name = \"alpha{}_beta{}_{}\".format(alpha, beta, N_TRAIN)\n",
        "early_stopping_callback, model_checkpoint_callback, history_logger = dir_checkpoints(folder_path, model_name = model_name, app=app)\n",
        "\n",
        "\n",
        "print(\"Fit model on training data\")\n",
        "history = model.fit(\n",
        "    train_dataset,\n",
        "    batch_size=40,\n",
        "    validation_data = (valid_examples, valid_labels), \n",
        "    steps_per_epoch = STEPS_PER_EPOCH,\n",
        "    epochs=100,\n",
        "    initial_epoch = i_epoch+1,\n",
        "    callbacks=[PlotLossesKeras(), model_checkpoint_callback, early_stopping_callback, history_logger, StoreModelHistory()], \n",
        "    verbose = 1\n",
        ")\n"
      ],
      "execution_count": null,
      "outputs": []
    },
    {
      "cell_type": "markdown",
      "metadata": {
        "id": "fgRcXB7YPhp5"
      },
      "source": [
        "If instead we want to evaluate a saved model, we run the cell below: "
      ]
    },
    {
      "cell_type": "code",
      "metadata": {
        "id": "gQmTB0PFQqoE"
      },
      "source": [
        "# %tensorboard --logdir logs\n",
        "\n",
        "dependencies = {\n",
        "    'coeff_determination': coeff_determination, \n",
        "    'custom_max': custom_max,\n",
        "    'custom_mse':custom_mse\n",
        "}\n",
        "\n",
        "folder_path = \"/content/gdrive/My Drive/Colaboratory/ED/\"\n",
        "model_noatt  = tf.keras.models.load_model(os.path.join(folder_path, \"DS_BNdropout_UpperLayers_NoATT/cp-0133.h5\")  , \n",
        "                                    custom_objects=dependencies) \n",
        "model_att  = tf.keras.models.load_model(os.path.join(folder_path, \"DS_BNdropout_UpperLayers/cp-0133.h5\")  , \n",
        "                                    custom_objects=dependencies)\n",
        "model = model_att"
      ],
      "execution_count": null,
      "outputs": []
    },
    {
      "cell_type": "code",
      "metadata": {
        "id": "49N9wqlSq4CM",
        "colab": {
          "base_uri": "https://localhost:8080/",
          "height": 345
        },
        "outputId": "905a442c-7ee2-4855-cb50-06d13ed35fcc"
      },
      "source": [
        "model_att_39  = tf.keras.models.load_model(os.path.join(folder_path, \"cp-0039_Att.h5\")  , \n",
        "                                    custom_objects=dependencies)"
      ],
      "execution_count": null,
      "outputs": [
        {
          "output_type": "error",
          "ename": "OSError",
          "evalue": "ignored",
          "traceback": [
            "\u001b[0;31m---------------------------------------------------------------------------\u001b[0m",
            "\u001b[0;31mOSError\u001b[0m                                   Traceback (most recent call last)",
            "\u001b[0;32m<ipython-input-22-55821b7fbfe5>\u001b[0m in \u001b[0;36m<module>\u001b[0;34m()\u001b[0m\n\u001b[1;32m      1\u001b[0m model_att_39  = tf.keras.models.load_model(os.path.join(folder_path, \"cp-0039_Att.h5\")  , \n\u001b[0;32m----> 2\u001b[0;31m                                     custom_objects=dependencies)\n\u001b[0m",
            "\u001b[0;32m/usr/local/lib/python3.7/dist-packages/keras/utils/traceback_utils.py\u001b[0m in \u001b[0;36merror_handler\u001b[0;34m(*args, **kwargs)\u001b[0m\n\u001b[1;32m     65\u001b[0m     \u001b[0;32mexcept\u001b[0m \u001b[0mException\u001b[0m \u001b[0;32mas\u001b[0m \u001b[0me\u001b[0m\u001b[0;34m:\u001b[0m  \u001b[0;31m# pylint: disable=broad-except\u001b[0m\u001b[0;34m\u001b[0m\u001b[0;34m\u001b[0m\u001b[0m\n\u001b[1;32m     66\u001b[0m       \u001b[0mfiltered_tb\u001b[0m \u001b[0;34m=\u001b[0m \u001b[0m_process_traceback_frames\u001b[0m\u001b[0;34m(\u001b[0m\u001b[0me\u001b[0m\u001b[0;34m.\u001b[0m\u001b[0m__traceback__\u001b[0m\u001b[0;34m)\u001b[0m\u001b[0;34m\u001b[0m\u001b[0;34m\u001b[0m\u001b[0m\n\u001b[0;32m---> 67\u001b[0;31m       \u001b[0;32mraise\u001b[0m \u001b[0me\u001b[0m\u001b[0;34m.\u001b[0m\u001b[0mwith_traceback\u001b[0m\u001b[0;34m(\u001b[0m\u001b[0mfiltered_tb\u001b[0m\u001b[0;34m)\u001b[0m \u001b[0;32mfrom\u001b[0m \u001b[0;32mNone\u001b[0m\u001b[0;34m\u001b[0m\u001b[0;34m\u001b[0m\u001b[0m\n\u001b[0m\u001b[1;32m     68\u001b[0m     \u001b[0;32mfinally\u001b[0m\u001b[0;34m:\u001b[0m\u001b[0;34m\u001b[0m\u001b[0;34m\u001b[0m\u001b[0m\n\u001b[1;32m     69\u001b[0m       \u001b[0;32mdel\u001b[0m \u001b[0mfiltered_tb\u001b[0m\u001b[0;34m\u001b[0m\u001b[0;34m\u001b[0m\u001b[0m\n",
            "\u001b[0;32m/usr/local/lib/python3.7/dist-packages/keras/saving/save.py\u001b[0m in \u001b[0;36mload_model\u001b[0;34m(filepath, custom_objects, compile, options)\u001b[0m\n\u001b[1;32m    207\u001b[0m         \u001b[0;32mif\u001b[0m \u001b[0misinstance\u001b[0m\u001b[0;34m(\u001b[0m\u001b[0mfilepath\u001b[0m\u001b[0;34m,\u001b[0m \u001b[0mstr\u001b[0m\u001b[0;34m)\u001b[0m\u001b[0;34m:\u001b[0m\u001b[0;34m\u001b[0m\u001b[0;34m\u001b[0m\u001b[0m\n\u001b[1;32m    208\u001b[0m           \u001b[0;32mif\u001b[0m \u001b[0;32mnot\u001b[0m \u001b[0mtf\u001b[0m\u001b[0;34m.\u001b[0m\u001b[0mio\u001b[0m\u001b[0;34m.\u001b[0m\u001b[0mgfile\u001b[0m\u001b[0;34m.\u001b[0m\u001b[0mexists\u001b[0m\u001b[0;34m(\u001b[0m\u001b[0mfilepath\u001b[0m\u001b[0;34m)\u001b[0m\u001b[0;34m:\u001b[0m\u001b[0;34m\u001b[0m\u001b[0;34m\u001b[0m\u001b[0m\n\u001b[0;32m--> 209\u001b[0;31m             \u001b[0;32mraise\u001b[0m \u001b[0mIOError\u001b[0m\u001b[0;34m(\u001b[0m\u001b[0;34mf'No file or directory found at {filepath}'\u001b[0m\u001b[0;34m)\u001b[0m\u001b[0;34m\u001b[0m\u001b[0;34m\u001b[0m\u001b[0m\n\u001b[0m\u001b[1;32m    210\u001b[0m           \u001b[0;32mif\u001b[0m \u001b[0msaving_utils\u001b[0m\u001b[0;34m.\u001b[0m\u001b[0mis_hdf5_filepath\u001b[0m\u001b[0;34m(\u001b[0m\u001b[0mfilepath\u001b[0m\u001b[0;34m)\u001b[0m \u001b[0;32mand\u001b[0m \u001b[0mh5py\u001b[0m \u001b[0;32mis\u001b[0m \u001b[0;32mNone\u001b[0m\u001b[0;34m:\u001b[0m\u001b[0;34m\u001b[0m\u001b[0;34m\u001b[0m\u001b[0m\n\u001b[1;32m    211\u001b[0m             raise ImportError(\n",
            "\u001b[0;31mOSError\u001b[0m: No file or directory found at /content/gdrive/My Drive/Colaboratory/ED/cp-0039_Att.h5"
          ]
        }
      ]
    },
    {
      "cell_type": "code",
      "metadata": {
        "id": "E4zwekKWa0JS"
      },
      "source": [
        "import pandas as pd\n",
        "folder_path = \"/content/gdrive/My Drive/Colaboratory/ED/40000samples/\"\n",
        "history_dataframe = pd.read_csv(os.path.join(folder_path, 'model_history_MSEonly.csv'), sep=',')\n",
        "history_dataframe_FD = pd.read_csv(os.path.join(folder_path, 'model_history_physics.csv'), sep=',')"
      ],
      "execution_count": null,
      "outputs": []
    },
    {
      "cell_type": "markdown",
      "metadata": {
        "id": "zSgKR-VvKh4m"
      },
      "source": [
        "## Analyze results"
      ]
    },
    {
      "cell_type": "markdown",
      "metadata": {
        "id": "rovpCL2hlKEp"
      },
      "source": [
        "### Predictions on test/train data"
      ]
    },
    {
      "cell_type": "code",
      "metadata": {
        "id": "OcSxaqazk9v4"
      },
      "source": [
        "def show_n_predictions(examples, labels, title, n = 10):\n",
        "    prediction = model(examples, training=True).numpy()\n",
        "    \n",
        "    fig = plt.figure(figsize=(10, 50))\n",
        "    \n",
        "    bounds = np.linspace(0.5, 1, 26)\n",
        "    norm = colors.BoundaryNorm(boundaries=bounds, ncolors=256)\n",
        "    prev = 0 \n",
        "    for i in range(n):\n",
        "      if i%2==1:\n",
        "        # display original\n",
        "        ax = plt.subplot(n, 2, i)\n",
        "        im= plt.imshow(labels[i, :, :, 0], norm =norm, cmap= 'gray')\n",
        "        plt.title(\"target\")\n",
        "        #plt.gray()\n",
        "        ax.get_xaxis().set_visible(False)\n",
        "        ax.get_yaxis().set_visible(False)\n",
        "        plt.colorbar(im)\n",
        "\n",
        "        # display reconstruction\n",
        "        ax = plt.subplot(n, 2, i + 1)\n",
        "        im = plt.imshow(prediction[i, :, :, 0], norm =norm, cmap= 'gray') #, norm =norm\n",
        "        plt.colorbar(im)\n",
        "        plt.title(\"prediction PIS\")\n",
        "        #plt.gray()\n",
        "        ax.get_xaxis().set_visible(False)\n",
        "        ax.get_yaxis().set_visible(False)\n",
        "        fig.suptitle(title, fontsize=20)\n",
        "        fig.subplots_adjust(top=0.965)\n",
        "    plt.show()\n",
        "    return \n",
        "\n",
        "show_n_predictions(test_examples[:20,:,:,:], test_labels[:20,:,:,:], title= \"Prediction on test data\")"
      ],
      "execution_count": null,
      "outputs": []
    },
    {
      "cell_type": "markdown",
      "metadata": {
        "id": "nPnGiT6f_SF0"
      },
      "source": [
        "### Model Evaluation on test data"
      ]
    },
    {
      "cell_type": "code",
      "metadata": {
        "id": "ktirzpyu-_AV"
      },
      "source": [
        "model.evaluate(test_examples, test_labels, verbose=1)\n",
        "# preds  = model(test_examples, training=False)\n",
        "folder_path = \"/content/gdrive/My Drive/Colaboratory/ED/DS_BNdropout_UpperLayers/\"\n",
        "\n",
        "evaluation = [] \n",
        "for filename in os.listdir(folder_path):\n",
        "    if filename.endswith('0.h5') or filename.endswith('7.h5'):\n",
        "        start = filename.find(\"cp-\") + len(\"cp-\")\n",
        "        end = filename.find(\".h5\")\n",
        "        substring = filename[start:end]\n",
        "        model_loop  = tf.keras.models.load_model(os.path.join(folder_path, filename)  , \n",
        "                                            custom_objects=dependencies) \n",
        "        evaluation.append([int(substring)] + model_loop.evaluate(test_examples, test_labels, verbose=1))\n",
        "        del model_loop\n",
        "\n",
        "df = pd.DataFrame(evaluation, columns=['epoch','loss','RMSE','coeff_determination','MSE Loss','custom_max'])\n",
        "print(df)\n",
        "# df.to_csv(folder_path+'model_evaluation.csv')"
      ],
      "execution_count": null,
      "outputs": []
    },
    {
      "cell_type": "code",
      "metadata": {
        "id": "CI1p-aWdEkWR"
      },
      "source": [
        "from matplotlib.ticker import FormatStrFormatter\n",
        "\n",
        "fig, ax1 = plt.subplots()\n",
        "color = 'tab:red'\n",
        "ax1.set_xlabel('No. epoch')\n",
        "ax1.set_ylabel('MSE', color=color)\n",
        "ax1.plot(df['epoch'], df['MSE Loss'],'--',color=color, label='MSE - Attention U-Net')\n",
        "ax1.yaxis.set_minor_formatter(FormatStrFormatter(\"%.3f\"))\n",
        "\n",
        "ax2 = ax1.twinx()  # instantiate a second axes that shares the same x-axis\n",
        "color = 'tab:blue'\n",
        "ax2.set_ylabel('Coefficient of Determination $R^2$',  color=color)  # we already handled the x-label with ax1\n",
        "ax2.set_ylim([0.8,1])\n",
        "ax2.plot(df['epoch'], df['coeff_determination'], '-.',color=color, label= '$R^2$ - Attention U-Net')\n",
        "# ax2.plot(history_dataframe_ref['coeff_determination'].rolling(window=12).mean(), ':', color=color, label= '$R^2$ - Attention U-Net')\n",
        "\n",
        "ax2.tick_params(axis='y', labelcolor=color)\n",
        "\n",
        "# ax2.legend(loc='upper right')\n",
        "\n",
        "h1, l1 = ax1.get_legend_handles_labels()\n",
        "h2, l2 = ax2.get_legend_handles_labels()\n",
        "ax1.legend(h1+h2, l1+l2, loc=7)\n",
        "\n",
        "fig.tight_layout()  # otherwise the right y-label is slightly clipped\n",
        "# fig.suptitle('RMSE and $R^2$ during training', y=1.05)\n",
        "plt.show()\n"
      ],
      "execution_count": null,
      "outputs": []
    },
    {
      "cell_type": "markdown",
      "metadata": {
        "id": "u_IVVCYzlTLB"
      },
      "source": [
        "### Losses"
      ]
    },
    {
      "cell_type": "code",
      "metadata": {
        "id": "lKygxfSti6RH"
      },
      "source": [
        "# history_loaded = history.history\n",
        "history_loaded = history_dataframe\n",
        "history_dataframe_FD.keys()"
      ],
      "execution_count": null,
      "outputs": []
    },
    {
      "cell_type": "code",
      "metadata": {
        "id": "9a5RRP89S5Nk"
      },
      "source": [
        "plt.plot(history_loaded['loss'], label='DS (train set)')\n",
        "plt.plot(history_loaded['val_loss'], '-.',label='DS (validation set)')\n",
        "\n",
        "plt.plot(history_dataframe_FD['MSE Loss'], '--', label='PS (train set)')\n",
        "plt.plot(history_dataframe_FD['val_MSE Loss'], ':',label='PS (validation set)')\n",
        "\n",
        "# plt.plot(history_loaded['Physics loss'], label='Physics Loss')\n",
        "plt.plot(history_loaded['MSE Loss'], label='MSE')\n",
        "\n",
        "# plt.yscale('log')\n",
        "plt.ylim([0, 0.0001])\n",
        "plt.ylabel('Loss value')\n",
        "plt.xlabel('No. epoch')\n",
        "plt.legend(loc=\"upper right\")"
      ],
      "execution_count": null,
      "outputs": []
    },
    {
      "cell_type": "code",
      "metadata": {
        "id": "99zjPCVH4SP-"
      },
      "source": [
        "folder_path = \"/content/gdrive/My Drive/Colaboratory/ED/\"\n",
        "history_dataframe_ref = pd.read_csv(os.path.join(folder_path, 'DS_BNdropout_UpperLayers/model_history_callback.csv'), sep=',')\n",
        "history_dataframe_NoAtt = pd.read_csv(os.path.join(folder_path, 'DS_BNdropout_UpperLayers_NoATT/model_history_callback.csv'), sep=',')"
      ],
      "execution_count": null,
      "outputs": []
    },
    {
      "cell_type": "code",
      "metadata": {
        "id": "WFwWf1M54pBW"
      },
      "source": [
        "plt.plot(history_dataframe_NoAtt['loss'], label='U-Net (train set)')\n",
        "plt.plot(history_dataframe_NoAtt['val_loss'].rolling(window=12).mean(), label='U-Net (validation set)')\n",
        "\n",
        "plt.plot(history_dataframe_ref['loss'],  '-.', label='Attention U-Net (train set)')\n",
        "plt.plot(history_dataframe_ref['val_loss'].rolling(window=12).mean(), '-.',label='Attention U-Net (validation set)')\n",
        "\n",
        "plt.yscale('log')\n",
        "# plt.title('Loss')\n",
        "# plt.ylim([0, 0.00006])\n",
        "plt.ylabel('Loss value')\n",
        "plt.xlabel('No. epoch')\n",
        "plt.legend(loc=\"upper right\")"
      ],
      "execution_count": null,
      "outputs": []
    },
    {
      "cell_type": "code",
      "metadata": {
        "id": "Z7e9RHWQierH"
      },
      "source": [
        "plt.plot(history_loaded['loss'], label='DDS (train set)')\n",
        "plt.plot(history_loaded['val_loss'], '-.',label='DDS (validation set)')\n",
        "\n",
        "# plt.plot(history_dataframe_FD['loss'], '--', label='PIS (train set)')\n",
        "# plt.plot(history_dataframe_FD['val_loss'], ':',label='PIS (validation set'))\n",
        "\n",
        "# plt.plot(history.history['Physics loss'], label='Physics Loss')\n",
        "# plt.plot(history_loaded['MSE Loss'], label='MSE Loss')\n",
        "\n",
        "# x = np.linspace(0, 37, num=38)\n",
        "# y = history_loaded['val_loss']\n",
        "# model2 = np.poly1d(np.polyfit(x, y, 1))\n",
        "# plt.plot(x, model2(polyline), color='red')\n",
        "\n",
        "plt.yscale('log')\n",
        "# plt.title('Loss')\n",
        "plt.ylabel('Loss value')\n",
        "plt.xlabel('No. epoch')\n",
        "plt.legend(loc=\"upper right\")"
      ],
      "execution_count": null,
      "outputs": []
    },
    {
      "cell_type": "code",
      "metadata": {
        "id": "hpPYcsU4TTK1"
      },
      "source": [
        "plt.plot(history_dataframe_FD['loss'], '-', label='L')\n",
        "#plt.plot(history_dataframe_FD['val_loss'], '--',label='Loss for PIS (validation data)')\n",
        "plt.plot(history_dataframe_FD['Physics loss'], '-.', label=\"$L_{PDE}$\")\n",
        "plt.plot(history_dataframe_FD['MSE Loss'], '--', label=\"$L_{MSE}$\")\n",
        "\n",
        "plt.yscale('log')\n",
        "# plt.title('Loss for PIS')\n",
        "plt.ylabel('Loss value')\n",
        "plt.xlabel('No. epoch')\n",
        "plt.legend(loc=\"upper right\")\n",
        "\n"
      ],
      "execution_count": null,
      "outputs": []
    },
    {
      "cell_type": "code",
      "metadata": {
        "id": "AZb2wS8NK49W"
      },
      "source": [
        "from matplotlib.ticker import FormatStrFormatter\n",
        "\n",
        "fig, ax1 = plt.subplots()\n",
        "color = 'tab:red'\n",
        "ax1.set_xlabel('No. epoch')\n",
        "ax1.set_ylabel('RMSE', color=color)\n",
        "ax1.plot(history_dataframe_NoAtt['RMSE'].rolling(window=12).mean(),'--',color=color, label='RMSE - U-Net (test set)')\n",
        "ax1.plot(history_dataframe_ref['RMSE'].rolling(window=12).mean(), color=color, label= 'RMSE - Attention U-Net (test set)')\n",
        "ax1.plot(history_dataframe_NoAtt['val_RMSE'].rolling(window=12).mean(),'--',color='black', label='RMSE - U-Net (validation set)')\n",
        "ax1.plot(history_dataframe_ref['val_RMSE'].rolling(window=12).mean(), color='black', label= 'RMSE - Attention U-Net (validation set)')\n",
        "ax1.set_yscale('log')\n",
        "ax1.yaxis.set_minor_formatter(FormatStrFormatter(\"%.3f\"))\n",
        "ax2 = ax1.twinx()  # instantiate a second axes that shares the same x-axis\n",
        "\n",
        "color = 'tab:blue'\n",
        "ax2.set_ylabel('Coefficient of Determination $R^2$',  color=color)  # we already handled the x-label with ax1\n",
        "ax2.set_ylim([0.8,1])\n",
        "ax2.plot(history_dataframe_NoAtt['coeff_determination'].rolling(window=12).mean(), '-.',color=color, label= '$R^2$ - U-Net (test set)')\n",
        "ax2.plot(history_dataframe_ref['coeff_determination'].rolling(window=12).mean(), ':', color=color, label= '$R^2$ - Attention U-Net (test set)')\n",
        "ax2.plot(history_dataframe_NoAtt['val_coeff_determination'].rolling(window=12).mean(), '-.',color='b', label= '$R^2$ - U-Net (validation set)')\n",
        "ax2.plot(history_dataframe_ref['val_coeff_determination'].rolling(window=12).mean(), ':', color='b', label= '$R^2$ - Attention U-Net (validation set)')\n",
        "ax2.tick_params(axis='y', labelcolor=color)\n",
        "\n",
        "h1, l1 = ax1.get_legend_handles_labels()\n",
        "h2, l2 = ax2.get_legend_handles_labels()\n",
        "ax1.legend(h1+h2, l1+l2, loc=(1.2,0.2))\n",
        "\n",
        "plt.show()\n"
      ],
      "execution_count": null,
      "outputs": []
    },
    {
      "cell_type": "markdown",
      "metadata": {
        "id": "ywJiwK2S-ONw"
      },
      "source": [
        "### Attention coefficient visualization"
      ]
    },
    {
      "cell_type": "code",
      "metadata": {
        "id": "se6OPgly3pte"
      },
      "source": [
        "dictionary_layers = {i: v for i, v in enumerate(model.layers)}\n",
        "# the attention layer is the lambda layer preceeding the multiply layer\n",
        "att_ind = [(key-1) for key, value in dictionary_layers.items() if 'Multiply' in str(value)]\n",
        "# the downsampling layers are the first 6 sequential layers\n",
        "down_ind = [key for key, value in dictionary_layers.items() if 'sequential' in str(value)][:6]\n",
        "# the downsampling layers are the 5 concatenate layers\n",
        "up_ind = [key for key, value in dictionary_layers.items() if 'Concatenate' in str(value)]"
      ],
      "execution_count": null,
      "outputs": []
    },
    {
      "cell_type": "code",
      "metadata": {
        "id": "9qk71bvJmkhr"
      },
      "source": [
        "folder_path = \"/content/gdrive/My Drive/Colaboratory/ED/\"\n",
        "model_25  = tf.keras.models.load_model(os.path.join(folder_path, \"DS_BNdropout_UpperLayers/cp-0012.h5\") , \n",
        "                                    custom_objects=dependencies)\n",
        "model_50  = tf.keras.models.load_model(os.path.join(folder_path, \"DS_BNdropout_UpperLayers/cp-0037.h5\") , \n",
        "                                    custom_objects=dependencies)\n",
        "model_MSE = model_noatt\n",
        "# model_MSE  = tf.keras.models.load_model(os.path.join(folder_path, \"cp-0150.h5\") , \n",
        "#                                     custom_objects=dependencies)"
      ],
      "execution_count": null,
      "outputs": []
    },
    {
      "cell_type": "code",
      "metadata": {
        "id": "b--CN-Fb7mGZ"
      },
      "source": [
        "att_layer_outputs=[]\n",
        "att_layer_outputs_25 = []\n",
        "att_layer_outputs_50 = []\n",
        "att_layer_outputs_MSE = []\n",
        "for ind in att_ind:\n",
        "  layer_name = model.layers[ind].name\n",
        "  att_layer_outputs.append(model.get_layer(layer_name).output)\n",
        "  att_layer_outputs_25.append(model_25.get_layer(layer_name).output)\n",
        "  att_layer_outputs_50.append(model_50.get_layer(layer_name).output)\n",
        "  \n",
        "\n",
        "\n",
        "dictionary_layers = {i: v for i, v in enumerate(model_MSE.layers)}\n",
        "# the attention layer is the lambda layer preceeding the multiply layer\n",
        "att_ind = [(key-1) for key, value in dictionary_layers.items() if 'Multiply' in str(value)]\n",
        "for ind in att_ind:\n",
        "  layer_name = model_MSE.layers[ind].name\n",
        "  att_layer_outputs_MSE.append(model_MSE.get_layer(layer_name).output)\n",
        "# down_layer_outputs=[]\n",
        "# for ind in down_ind:\n",
        "#   layer_name = model.layers[ind].name\n",
        "#   down_layer_outputs.append(model.get_layer(layer_name).get_output_at(0))\n",
        "\n",
        "# up_layer_outputs=[]\n",
        "# for ind in up_ind:\n",
        "#   layer_name = model.layers[ind].name\n",
        "#   up_layer_outputs.append(model.get_layer(layer_name).get_output_at(0))\n",
        "\n",
        "\n",
        "model_att = tf.keras.Model(model.input, outputs=att_layer_outputs)\n",
        "model_att_25 = tf.keras.Model(model_25.input, outputs=att_layer_outputs_25)\n",
        "model_att_50 = tf.keras.Model(model_50.input, outputs=att_layer_outputs_50)\n",
        "model_att_MSE = tf.keras.Model(model_MSE.input, outputs=att_layer_outputs_MSE)\n",
        "\n",
        "# model_down = tf.keras.Model(model.input, outputs=down_layer_outputs)\n",
        "# model_up = tf.keras.Model(model.input, outputs=up_layer_outputs)\n",
        "\n",
        "for example_input, example_target in train_dataset.take(1):\n",
        "    *att_coeff, = model_att(example_input[:,:,:,:], training=True)\n",
        "    *att_coeff_25, = model_att_25(example_input[:,:,:,:], training=True)\n",
        "    *att_coeff_50, = model_att_50(example_input[:,:,:,:], training=True)\n",
        "    *att_coeff_MSE, = model_att_MSE(example_input[:,:,:,:], training=True)\n",
        "    \n",
        "    # *down_features, = model_down(example_input[:,:,:,:], training=True)\n",
        "    # *up_features, = model_up(example_input[:,:,:,:], training=True)\n",
        "    #result = model_loaded.predict(example_input[:,:,:,:], training=True)\n",
        "    result =  model(example_input[:,:,:,:], training=True)\n",
        "    result_MSE =  model_MSE(example_input[:,:,:,:], training=True)\n",
        "\n"
      ],
      "execution_count": null,
      "outputs": []
    },
    {
      "cell_type": "code",
      "metadata": {
        "id": "rvW6Klb-KFzg"
      },
      "source": [
        "import matplotlib.cm as cm\n",
        "for n_sample in range(10):\n",
        "    plt.figure(figsize=(18,15))\n",
        "    display_list = [example_input[n_sample, :, :, 2], example_target[n_sample, :, :, 0], \n",
        "                    att_coeff_25[-1][n_sample, :, :, 0], att_coeff_50[-1][n_sample, :, :, 0], att_coeff[-1][n_sample, :, :, 0]  ]\n",
        "    title = ['Input Material', 'Target', \n",
        "              'Attention #10 epochs', 'Attention #40 epochs', 'Attention #130 epochs']\n",
        "\n",
        "    for i in range(len(display_list)):\n",
        "      plt.subplot(1, 5, i+1)\n",
        "      plt.title(title[i])\n",
        "      if i ==0: \n",
        "        im = plt.imshow(display_list[i])\n",
        "      elif i ==1: \n",
        "        im = plt.imshow(display_list[i], cmap = 'gray')\n",
        "      else:\n",
        "        im = plt.imshow(display_list[i], cmap=cm.jet)\n",
        "      plt.colorbar(im,fraction=0.05, pad=0.1)  \n",
        "      plt.axis('off')"
      ],
      "execution_count": null,
      "outputs": []
    },
    {
      "cell_type": "code",
      "metadata": {
        "id": "o9M4oC5lp1bM"
      },
      "source": [
        "# fig1=plt.figure(figsize=(12, 12))\n",
        "# columns = 8\n",
        "# rows = 8\n",
        "# n_samples = columns * rows # samples in the batch\n",
        "# for i in range(1,64):\n",
        "#     fig1 = plt.subplot(rows, columns, i)\n",
        "#     fig1.set_xticks([])  #Turn off axis\n",
        "#     fig1.set_yticks([])\n",
        "#     plt.imshow(down_features[0][n_sample, :, :, i], cmap='gray') #Show only the filters from 0th channel: all channels have same attention weights\n",
        "# plt.suptitle(\"Convolutional filter outputs after first downsampling layer for one sample\")    \n",
        "# plt.show()    "
      ],
      "execution_count": null,
      "outputs": []
    },
    {
      "cell_type": "code",
      "metadata": {
        "id": "E1eoFoKkxXPc"
      },
      "source": [
        "# fig1=plt.figure(figsize=(12, 12))\n",
        "# columns = 8\n",
        "# rows = 8\n",
        "# n_samples = columns * rows # samples in the batch\n",
        "# for i in range(1,64):\n",
        "#     fig1 = plt.subplot(rows, columns, i)\n",
        "#     fig1.set_xticks([])  #Turn off axis\n",
        "#     fig1.set_yticks([])\n",
        "#     plt.imshow(up_features[-1][n_sample, :, :, i], cmap='gray') #Show only the filters from 0th channel: all channels have same attention weights\n",
        "# plt.suptitle(\"Convolutional filter outputs after last upsampling layer for one sample\")    \n",
        "# plt.show()    "
      ],
      "execution_count": null,
      "outputs": []
    },
    {
      "cell_type": "code",
      "metadata": {
        "id": "eAJJyI7_v5OJ"
      },
      "source": [
        "fig1=plt.figure(figsize=(5, 2))\n",
        "columns = 5\n",
        "rows = 2\n",
        "n_samples = columns * rows # samples in the batch\n",
        "for i in range(1, n_samples +1):\n",
        "    fig1 = plt.subplot(rows, columns, i)\n",
        "    fig1.set_xticks([])  #Turn off axis\n",
        "    fig1.set_yticks([])\n",
        "    plt.imshow(att_coeff[-1][i-1, :, :, 0], cmap='gray', vmin=0, vmax=1) #Show only the filters from 0th channel: all channels have same attention weights\n",
        "plt.suptitle(\"Attention Coefficients for 10 random samples\")    \n",
        "plt.show()    "
      ],
      "execution_count": null,
      "outputs": []
    },
    {
      "cell_type": "code",
      "metadata": {
        "id": "wrQ4o8R_Wik4"
      },
      "source": [
        "from google.colab import files\n",
        "n=10\n",
        "bounds = np.linspace(0.5, 1, 26)\n",
        "norm = colors.BoundaryNorm(boundaries=bounds, ncolors=256)\n",
        "fig, axs = plt.subplots(2+len(att_coeff),n, figsize=(20,12))\n",
        "\n",
        "\n",
        "for i in range(n):\n",
        "  axs[0,i].imshow(example_input[i-1, :, :, 2])\n",
        "  axs[0,i].set_title(\"Input Field\")\n",
        "  axs[0,i].get_xaxis().set_visible(False)\n",
        "  axs[0,i].get_yaxis().set_visible(False)\n",
        "  axs[1,i].imshow(example_target[i-1, :, :, 0])\n",
        "  axs[1,i].set_title(\"Target\")\n",
        "  axs[1,i].get_xaxis().set_visible(False)\n",
        "  axs[1,i].get_yaxis().set_visible(False)\n",
        "  for att_layer in range(2, len(att_coeff)+2):\n",
        "      coeff= att_coeff[att_layer-2][i-1, :, :, 0]\n",
        "      axs[att_layer,i].imshow(coeff, cmap='gray')\n",
        "      axs[att_layer,i].set_title(\"#{}: {}\".format(att_layer, coeff.shape))\n",
        "      axs[att_layer,i].get_xaxis().set_visible(False)\n",
        "      axs[att_layer,i].get_yaxis().set_visible(False)\n",
        "  #fig.tight_layout()\n",
        "  #fig.suptitle('Attention Coefficients for {} samples'.format(n), fontsize=15)\n",
        "# plt.savefig(\"abc.png\")\n",
        "plt.show()\n",
        "\n",
        "# files.download(\"abc.png\") "
      ],
      "execution_count": null,
      "outputs": []
    },
    {
      "cell_type": "code",
      "metadata": {
        "id": "5PHnq27QVnFP"
      },
      "source": [
        "# for example_input, example_target in train_dataset.take(2):\n",
        "#       *att_coeff, = model_att(example_input[:,:,:,:], training=True)\n",
        "#       result =  model(example_input[:,:,:,:], training=True)\n",
        "\n",
        "\n",
        "n=5\n",
        "bounds = np.linspace(0.5, 1, 26)\n",
        "norm = colors.BoundaryNorm(boundaries=bounds, ncolors=256)\n",
        "\n",
        "levels= np.arange(start=0.9 , stop=1.0, step=0.02)\n",
        "fig, axs = plt.subplots(6,n, figsize=(10,12))\n",
        "for i in range(n):\n",
        "  skip = 4\n",
        "  im = axs[0,i].imshow(example_input[i+skip, :, :, 2])\n",
        "  axs[0,i].set_title(\"Input Material\")\n",
        "  axs[0,i].get_xaxis().set_visible(False)\n",
        "  axs[0,i].get_yaxis().set_visible(False)\n",
        "  if i==n-1:\n",
        "    fig.colorbar(im, fraction=0.05, pad=0.03,  ax=axs[0,n-1])\n",
        "\n",
        "  \n",
        "  axs[1,i].spy(example_input[i+skip, :, :, 1], markersize=5, precision=0.1, origin=\"lower\", color = 'firebrick')\n",
        "  axs[1,i].set_title(\"Input Boundaries\", y=0.98)\n",
        "  axs[1,i].get_xaxis().set_visible(False)\n",
        "  axs[1,i].get_yaxis().set_visible(False)\n",
        "  if i==n-1:\n",
        "    # fig.colorbar(im, fraction=0.05, pad=0.03,  ax=axs[1,n-1])\n",
        "    cbar = plt.colorbar(plt.imshow(example_input[i+skip, :, :, 1],cmap = colors.ListedColormap(['white', 'firebrick'])),fraction=0.05,  ax=axs[1,n-1])\n",
        "    cbar.ax.get_yaxis().set_ticks([])\n",
        "    cbar.ax.text(0.8, 0.8, '$fixed$', ha='left', va='center', rotation=270)\n",
        "\n",
        "\n",
        "  im = axs[2,i].imshow(example_target[i+skip, :, :, 0], cmap= 'gray',norm = norm)\n",
        "  axs[2,i].contour(example_target[i+skip, :, :, 0], colors='gray', levels=levels  )\n",
        "  axs[2,i].set_title(\"Target\")\n",
        "  axs[2,i].get_xaxis().set_visible(False)\n",
        "  axs[2,i].get_yaxis().set_visible(False)\n",
        "  if i==n-1:\n",
        "    fig.colorbar(im, fraction=0.05, pad=0.03,  ax=axs[2,n-1])\n",
        "\n",
        "  im = axs[3,i].imshow(result_MSE[i+skip, :, :, 0], cmap= 'gray',norm = norm)\n",
        "  axs[3,i].contour(result_MSE[i+skip, :, :, 0], colors='gray', levels=levels  )\n",
        "  axs[3,i].set_title(\"Prediction U-Net\")\n",
        "  axs[3,i].get_xaxis().set_visible(False)\n",
        "  axs[3,i].get_yaxis().set_visible(False)\n",
        "  if i==n-1:\n",
        "    fig.colorbar(im, fraction=0.05, pad=0.03,  ax=axs[3,n-1])\n",
        "\n",
        "  im = axs[4,i].imshow(result[i+skip, :, :, 0], cmap= 'gray',norm = norm)\n",
        "  axs[4,i].contour(result[i+skip, :, :, 0], colors='gray', levels=levels  )\n",
        "  axs[4,i].set_title(\"Prediction A U-Net\")\n",
        "  axs[4,i].get_xaxis().set_visible(False)\n",
        "  axs[4,i].get_yaxis().set_visible(False)\n",
        "  if i==n-1:\n",
        "    fig.colorbar(im, fraction=0.05, pad=0.03,  ax=axs[4,n-1])\n",
        "\n",
        "\n",
        "  im = axs[5,i].imshow(att_coeff[-1][i+skip, :, :, 0], cmap=cm.jet)\n",
        "  axs[5,i].set_title(\"Att. Coeff.\")\n",
        "  axs[5,i].get_xaxis().set_visible(False)\n",
        "  axs[5,i].get_yaxis().set_visible(False)\n",
        "  if i==n-1:\n",
        "    fig.colorbar(im, fraction=0.05, pad=0.03,  ax=axs[5,n-1])\n",
        "\n",
        "  # fig.suptitle('Attention Coefficients for {} samples'.format(n), fontsize=15)\n",
        "plt.show()"
      ],
      "execution_count": null,
      "outputs": []
    },
    {
      "cell_type": "markdown",
      "metadata": {
        "id": "Ez0Xg0rIQNax"
      },
      "source": [
        "### Prediction error"
      ]
    },
    {
      "cell_type": "code",
      "metadata": {
        "id": "F3Wpo02UUQFe"
      },
      "source": [
        "def fig_training_error(model, test_input, target):\n",
        "  prediction = model(test_input, training=True)\n",
        "  #loss_primal, loss_primal2 = primal_residual( tar[:, :, 0], inp[:, :, 0], inp[:, :, 2])\n",
        "  loss_modflow = custom_loss(test_input[:,:,:,:], prediction[:,:,:,:])\n",
        "\n",
        "  reserr = target[0, :, :, 0]-prediction[0,:,:,0]\n",
        "  # mean absolute error \n",
        "  abs_reserr = tf.math.abs(reserr)\n",
        "  # mean absolute percentage error \n",
        "  ape = 100 * tf.math.abs(reserr / target[0, :, :, 0])\n",
        "  plt.figure(figsize=(15,15))\n",
        "\n",
        "  display_list = [target[0, :, :, 0], \n",
        "                  prediction[0, :, :, 0], \n",
        "                  test_input[0, :, :, 2],\n",
        "                  reserr, ape]\n",
        "  title = ['y', r'$\\hat{y}$', 'Input Field', r'$ y - \\hat{y}$', 'APE: Percentage Error']\n",
        "  bounds = np.linspace(0.5, 1, 26)\n",
        "  norm_h = colors.BoundaryNorm(boundaries=bounds, ncolors=256)\n",
        "  cmap = colors.ListedColormap(['w','moccasin', 'orange', 'orangered', \"r\"])\n",
        "  norm_err = colors.BoundaryNorm([0, 1, 3, 6,10], cmap.N)\n",
        "  divnorm=c.TwoSlopeNorm(vmin=-0.05, vcenter=0, vmax=0.05)\n",
        "  norm_list= [norm_h, norm_h, None, divnorm, norm_err]\n",
        "  cmap_list =['viridis', 'viridis', None, 'RdBu', cmap]\n",
        "\n",
        "  for i in range(len(display_list)):\n",
        "    plt.subplot(1, 5, i+1)\n",
        "    plt.title(title[i])\n",
        "    im = plt.imshow(display_list[i], norm=norm_list[i], cmap=cmap_list[i])\n",
        "    plt.colorbar(im, fraction=0.05, pad=0.03)\n",
        "    plt.axis('off')\n",
        "  plt.tight_layout()\n",
        "  return loss_modflow"
      ],
      "execution_count": null,
      "outputs": []
    },
    {
      "cell_type": "code",
      "metadata": {
        "id": "FWyJ__jhgwGq"
      },
      "source": [
        "for example_input, example_target in test_dataset_original.batch(1).take(3): #test_dataset_original.batch(1).take(3)\n",
        "  print(tf.math.reduce_min(example_input[0,:,:,0]))\n",
        "  fig_training_error(model, example_input[:,:,:,:], example_target)"
      ],
      "execution_count": null,
      "outputs": []
    },
    {
      "cell_type": "code",
      "metadata": {
        "id": "1SJaFXqWE6Yo"
      },
      "source": [
        "from plotly.subplots import make_subplots\n",
        "import plotly.graph_objects as go\n",
        "import plotly.express as px\n",
        "fig = make_subplots(rows=1, cols=2, subplot_titles=(\"Target\", \"Modflow Loss\"))\n",
        "\n",
        "img = px.imshow(example_input[0,:,:,0])\n",
        "fig.add_trace(img.data[0])\n",
        "fig.update_yaxes(autorange=\"reversed\") #y-axis is reversed by default \n",
        "\n",
        "img = px.imshow(example_input[0,:,:,0])\n",
        "fig.add_trace(img.data[0],row=1, col=2)"
      ],
      "execution_count": null,
      "outputs": []
    },
    {
      "cell_type": "markdown",
      "metadata": {
        "id": "TZ_RZh33d3bF"
      },
      "source": [
        "### Worst predictions"
      ]
    },
    {
      "cell_type": "code",
      "metadata": {
        "id": "sqn4xOivd6cN",
        "colab": {
          "base_uri": "https://localhost:8080/",
          "height": 484
        },
        "outputId": "8f202c24-e74f-4cb6-d029-9acf5f70f373"
      },
      "source": [
        "import matplotlib.ticker\n",
        "import matplotlib.colors as colors\n",
        "from matplotlib import colors as c\n",
        "\n",
        "class OOMFormatter(matplotlib.ticker.ScalarFormatter):\n",
        "    def __init__(self, order=0, fformat=\"%1.1f\", offset=False, mathText=True):\n",
        "        self.oom = order\n",
        "        self.fformat = fformat\n",
        "        matplotlib.ticker.ScalarFormatter.__init__(self,useOffset=offset,useMathText=mathText)\n",
        "    def _set_order_of_magnitude(self):\n",
        "        self.orderOfMagnitude = self.oom\n",
        "    def _set_format(self, vmin=None, vmax=None):\n",
        "        self.format = self.fformat\n",
        "        if self._useMathText:\n",
        "             self.format = r'$\\mathdefault{%s}$' % self.format\n",
        "\n",
        "def plot_error(abs_reserr, worst_probs, worst_idxs,k):\n",
        "  figure = plt.figure(figsize=(20,4))\n",
        "  for i, (value, idx) in enumerate(zip(worst_probs, worst_idxs)):\n",
        "    plt.subplot(1, k, i+1)\n",
        "    im = plt.imshow(abs_reserr[idx,:,:] , cmap= 'OrRd')\n",
        "    plt.title(\"MSE = {:.0e}, idx = {}\".format(value, idx))\n",
        "    plt.colorbar(im,fraction=0.05, pad=0.03)\n",
        "    plt.axis('off')\n",
        "  plt.show()\n",
        "  return figure\n",
        "\n",
        "def metrics_evaluation(model, test_input, tar, k=5, plot=True):\n",
        "  prediction = model(test_input, training=True)\n",
        "  reserr = tar[:, :, :, 0] - prediction[:, :, :, 0]\n",
        "  mse = tf.reduce_mean(tf.square(reserr),axis=[1,2]) # mean squared error\n",
        "  mae = tf.reduce_mean(tf.math.abs(reserr),axis=[1,2]) # mean absolute error\n",
        "  mre = tf.reduce_mean(reserr,axis=[1,2]) # mean relative error\n",
        "  mape = tf.reduce_mean(100 * tf.math.abs(reserr / tar[:, :, :, 0]),axis=[1,2]) # mean absolute percentage error \n",
        "\n",
        "  n =5 \n",
        "  worst_probs, worst_idxs = tf.math.top_k(mse, k=n, sorted=True)\n",
        "  top_probs, top_idxs = tf.math.top_k(-mse, k=n, sorted=True)\n",
        "  \n",
        "  if plot==True:\n",
        "    #plot_error(tf.square(tar[:,:,:,0] - prediction[:,:,:,0]), worst_probs, worst_idxs,k)\n",
        "    # print('Top 5 predictions: lowest mean absolute error')\n",
        "    # plot_error(abs_reserr, -top_probs, top_idxs,k)\n",
        "\n",
        "\n",
        "    \n",
        "    for probs, idxs, title in zip([worst_probs,-top_probs], \n",
        "                           [worst_idxs, top_idxs],\n",
        "                           ['Worst 5 predictions: highest MSE', 'Top 5 predictions: lowest MSE']):\n",
        "\n",
        "        fig = plt.figure(figsize=(13, 6))\n",
        "        bounds = np.linspace(0.5, 1, 26)\n",
        "        norm = colors.BoundaryNorm(boundaries=bounds, ncolors=256)\n",
        "        for i, (value, idx) in enumerate(zip(probs, idxs)):\n",
        "\n",
        "            ax = plt.subplot(3, n, i + 1)\n",
        "            im = plt.imshow(tar[idx, :, :, 0], norm =norm, cmap= 'gray')\n",
        "            plt.colorbar(im,fraction=0.05, pad=0.03)\n",
        "            plt.title(\"Target\")\n",
        "            #plt.gray()\n",
        "            ax.get_xaxis().set_visible(False)\n",
        "            ax.get_yaxis().set_visible(False)\n",
        "\n",
        "            # display reconstruction\n",
        "            ax = plt.subplot(3, n, i + 1 + n)\n",
        "            im = plt.imshow(prediction[idx, :, :, 0], norm =norm, cmap= 'gray')\n",
        "            plt.colorbar(im,fraction=0.05, pad=0.03)\n",
        "            plt.title(\"Prediction\")\n",
        "            #plt.gray()\n",
        "            ax.get_xaxis().set_visible(False)\n",
        "            ax.get_yaxis().set_visible(False)\n",
        "\n",
        "            ax = plt.subplot(3, n, i + 1 + n + n)\n",
        "            im = plt.imshow(tf.square(tar[idx,:,:,0] - prediction[idx,:,:,0]), cmap= 'Reds')\n",
        "            plt.colorbar(im,fraction=0.05, pad=0.05, format=OOMFormatter(-4, mathText=False))\n",
        "            plt.title(\"MSE = {:.0e}\".format(value), loc='left')\n",
        "            ax.get_xaxis().set_visible(False)\n",
        "            ax.get_yaxis().set_visible(False)\n",
        "        # fig.suptitle(title, fontsize=15)\n",
        "        plt.show()\n",
        "\n",
        "  return mse.numpy(), mae.numpy(), mape.numpy(), mre.numpy()\n",
        "\n",
        "\n",
        "mse, mae, mape, mre = metrics_evaluation(model = model_att, test_input = test_examples[:100], tar = test_labels[:100])\n"
      ],
      "execution_count": null,
      "outputs": [
        {
          "output_type": "error",
          "ename": "ResourceExhaustedError",
          "evalue": "ignored",
          "traceback": [
            "\u001b[0;31m---------------------------------------------------------------------------\u001b[0m",
            "\u001b[0;31mResourceExhaustedError\u001b[0m                    Traceback (most recent call last)",
            "\u001b[0;32m<ipython-input-67-5ea0c84d65ab>\u001b[0m in \u001b[0;36m<module>\u001b[0;34m()\u001b[0m\n\u001b[1;32m     83\u001b[0m \u001b[0;34m\u001b[0m\u001b[0m\n\u001b[1;32m     84\u001b[0m \u001b[0;34m\u001b[0m\u001b[0m\n\u001b[0;32m---> 85\u001b[0;31m \u001b[0mmse\u001b[0m\u001b[0;34m,\u001b[0m \u001b[0mmae\u001b[0m\u001b[0;34m,\u001b[0m \u001b[0mmape\u001b[0m\u001b[0;34m,\u001b[0m \u001b[0mmre\u001b[0m \u001b[0;34m=\u001b[0m \u001b[0mmetrics_evaluation\u001b[0m\u001b[0;34m(\u001b[0m\u001b[0mmodel\u001b[0m \u001b[0;34m=\u001b[0m \u001b[0mmodel_att\u001b[0m\u001b[0;34m,\u001b[0m \u001b[0mtest_input\u001b[0m \u001b[0;34m=\u001b[0m \u001b[0mtest_examples\u001b[0m\u001b[0;34m[\u001b[0m\u001b[0;34m:\u001b[0m\u001b[0;36m100\u001b[0m\u001b[0;34m]\u001b[0m\u001b[0;34m,\u001b[0m \u001b[0mtar\u001b[0m \u001b[0;34m=\u001b[0m \u001b[0mtest_labels\u001b[0m\u001b[0;34m[\u001b[0m\u001b[0;34m:\u001b[0m\u001b[0;36m100\u001b[0m\u001b[0;34m]\u001b[0m\u001b[0;34m)\u001b[0m\u001b[0;34m\u001b[0m\u001b[0;34m\u001b[0m\u001b[0m\n\u001b[0m",
            "\u001b[0;32m<ipython-input-67-5ea0c84d65ab>\u001b[0m in \u001b[0;36mmetrics_evaluation\u001b[0;34m(model, test_input, tar, k, plot)\u001b[0m\n\u001b[1;32m     27\u001b[0m \u001b[0;34m\u001b[0m\u001b[0m\n\u001b[1;32m     28\u001b[0m \u001b[0;32mdef\u001b[0m \u001b[0mmetrics_evaluation\u001b[0m\u001b[0;34m(\u001b[0m\u001b[0mmodel\u001b[0m\u001b[0;34m,\u001b[0m \u001b[0mtest_input\u001b[0m\u001b[0;34m,\u001b[0m \u001b[0mtar\u001b[0m\u001b[0;34m,\u001b[0m \u001b[0mk\u001b[0m\u001b[0;34m=\u001b[0m\u001b[0;36m5\u001b[0m\u001b[0;34m,\u001b[0m \u001b[0mplot\u001b[0m\u001b[0;34m=\u001b[0m\u001b[0;32mTrue\u001b[0m\u001b[0;34m)\u001b[0m\u001b[0;34m:\u001b[0m\u001b[0;34m\u001b[0m\u001b[0;34m\u001b[0m\u001b[0m\n\u001b[0;32m---> 29\u001b[0;31m   \u001b[0mprediction\u001b[0m \u001b[0;34m=\u001b[0m \u001b[0mmodel\u001b[0m\u001b[0;34m(\u001b[0m\u001b[0mtest_input\u001b[0m\u001b[0;34m,\u001b[0m \u001b[0mtraining\u001b[0m\u001b[0;34m=\u001b[0m\u001b[0;32mTrue\u001b[0m\u001b[0;34m)\u001b[0m\u001b[0;34m\u001b[0m\u001b[0;34m\u001b[0m\u001b[0m\n\u001b[0m\u001b[1;32m     30\u001b[0m   \u001b[0mreserr\u001b[0m \u001b[0;34m=\u001b[0m \u001b[0mtar\u001b[0m\u001b[0;34m[\u001b[0m\u001b[0;34m:\u001b[0m\u001b[0;34m,\u001b[0m \u001b[0;34m:\u001b[0m\u001b[0;34m,\u001b[0m \u001b[0;34m:\u001b[0m\u001b[0;34m,\u001b[0m \u001b[0;36m0\u001b[0m\u001b[0;34m]\u001b[0m \u001b[0;34m-\u001b[0m \u001b[0mprediction\u001b[0m\u001b[0;34m[\u001b[0m\u001b[0;34m:\u001b[0m\u001b[0;34m,\u001b[0m \u001b[0;34m:\u001b[0m\u001b[0;34m,\u001b[0m \u001b[0;34m:\u001b[0m\u001b[0;34m,\u001b[0m \u001b[0;36m0\u001b[0m\u001b[0;34m]\u001b[0m\u001b[0;34m\u001b[0m\u001b[0;34m\u001b[0m\u001b[0m\n\u001b[1;32m     31\u001b[0m   \u001b[0mmse\u001b[0m \u001b[0;34m=\u001b[0m \u001b[0mtf\u001b[0m\u001b[0;34m.\u001b[0m\u001b[0mreduce_mean\u001b[0m\u001b[0;34m(\u001b[0m\u001b[0mtf\u001b[0m\u001b[0;34m.\u001b[0m\u001b[0msquare\u001b[0m\u001b[0;34m(\u001b[0m\u001b[0mreserr\u001b[0m\u001b[0;34m)\u001b[0m\u001b[0;34m,\u001b[0m\u001b[0maxis\u001b[0m\u001b[0;34m=\u001b[0m\u001b[0;34m[\u001b[0m\u001b[0;36m1\u001b[0m\u001b[0;34m,\u001b[0m\u001b[0;36m2\u001b[0m\u001b[0;34m]\u001b[0m\u001b[0;34m)\u001b[0m \u001b[0;31m# mean squared error\u001b[0m\u001b[0;34m\u001b[0m\u001b[0;34m\u001b[0m\u001b[0m\n",
            "\u001b[0;32m/usr/local/lib/python3.7/dist-packages/keras/utils/traceback_utils.py\u001b[0m in \u001b[0;36merror_handler\u001b[0;34m(*args, **kwargs)\u001b[0m\n\u001b[1;32m     65\u001b[0m     \u001b[0;32mexcept\u001b[0m \u001b[0mException\u001b[0m \u001b[0;32mas\u001b[0m \u001b[0me\u001b[0m\u001b[0;34m:\u001b[0m  \u001b[0;31m# pylint: disable=broad-except\u001b[0m\u001b[0;34m\u001b[0m\u001b[0;34m\u001b[0m\u001b[0m\n\u001b[1;32m     66\u001b[0m       \u001b[0mfiltered_tb\u001b[0m \u001b[0;34m=\u001b[0m \u001b[0m_process_traceback_frames\u001b[0m\u001b[0;34m(\u001b[0m\u001b[0me\u001b[0m\u001b[0;34m.\u001b[0m\u001b[0m__traceback__\u001b[0m\u001b[0;34m)\u001b[0m\u001b[0;34m\u001b[0m\u001b[0;34m\u001b[0m\u001b[0m\n\u001b[0;32m---> 67\u001b[0;31m       \u001b[0;32mraise\u001b[0m \u001b[0me\u001b[0m\u001b[0;34m.\u001b[0m\u001b[0mwith_traceback\u001b[0m\u001b[0;34m(\u001b[0m\u001b[0mfiltered_tb\u001b[0m\u001b[0;34m)\u001b[0m \u001b[0;32mfrom\u001b[0m \u001b[0;32mNone\u001b[0m\u001b[0;34m\u001b[0m\u001b[0;34m\u001b[0m\u001b[0m\n\u001b[0m\u001b[1;32m     68\u001b[0m     \u001b[0;32mfinally\u001b[0m\u001b[0;34m:\u001b[0m\u001b[0;34m\u001b[0m\u001b[0;34m\u001b[0m\u001b[0m\n\u001b[1;32m     69\u001b[0m       \u001b[0;32mdel\u001b[0m \u001b[0mfiltered_tb\u001b[0m\u001b[0;34m\u001b[0m\u001b[0;34m\u001b[0m\u001b[0m\n",
            "\u001b[0;32m/usr/local/lib/python3.7/dist-packages/tensorflow/python/framework/ops.py\u001b[0m in \u001b[0;36mraise_from_not_ok_status\u001b[0;34m(e, name)\u001b[0m\n\u001b[1;32m   7105\u001b[0m \u001b[0;32mdef\u001b[0m \u001b[0mraise_from_not_ok_status\u001b[0m\u001b[0;34m(\u001b[0m\u001b[0me\u001b[0m\u001b[0;34m,\u001b[0m \u001b[0mname\u001b[0m\u001b[0;34m)\u001b[0m\u001b[0;34m:\u001b[0m\u001b[0;34m\u001b[0m\u001b[0;34m\u001b[0m\u001b[0m\n\u001b[1;32m   7106\u001b[0m   \u001b[0me\u001b[0m\u001b[0;34m.\u001b[0m\u001b[0mmessage\u001b[0m \u001b[0;34m+=\u001b[0m \u001b[0;34m(\u001b[0m\u001b[0;34m\" name: \"\u001b[0m \u001b[0;34m+\u001b[0m \u001b[0mname\u001b[0m \u001b[0;32mif\u001b[0m \u001b[0mname\u001b[0m \u001b[0;32mis\u001b[0m \u001b[0;32mnot\u001b[0m \u001b[0;32mNone\u001b[0m \u001b[0;32melse\u001b[0m \u001b[0;34m\"\"\u001b[0m\u001b[0;34m)\u001b[0m\u001b[0;34m\u001b[0m\u001b[0;34m\u001b[0m\u001b[0m\n\u001b[0;32m-> 7107\u001b[0;31m   \u001b[0;32mraise\u001b[0m \u001b[0mcore\u001b[0m\u001b[0;34m.\u001b[0m\u001b[0m_status_to_exception\u001b[0m\u001b[0;34m(\u001b[0m\u001b[0me\u001b[0m\u001b[0;34m)\u001b[0m \u001b[0;32mfrom\u001b[0m \u001b[0;32mNone\u001b[0m  \u001b[0;31m# pylint: disable=protected-access\u001b[0m\u001b[0;34m\u001b[0m\u001b[0;34m\u001b[0m\u001b[0m\n\u001b[0m\u001b[1;32m   7108\u001b[0m \u001b[0;34m\u001b[0m\u001b[0m\n\u001b[1;32m   7109\u001b[0m \u001b[0;34m\u001b[0m\u001b[0m\n",
            "\u001b[0;31mResourceExhaustedError\u001b[0m: Exception encountered when calling layer \"conv2d_57\" (type Conv2D).\n\nOOM when allocating tensor with shape[100,256,64,64] and type float on /job:localhost/replica:0/task:0/device:GPU:0 by allocator GPU_0_bfc [Op:Conv2D]\n\nCall arguments received:\n  • inputs=tf.Tensor(shape=(100, 64, 64, 256), dtype=float32)"
          ]
        }
      ]
    },
    {
      "cell_type": "code",
      "metadata": {
        "id": "2z5iudwBxIxU"
      },
      "source": [
        "import os\n",
        "import seaborn as sns\n",
        "import pandas as pd\n",
        "\n",
        "fig, (ax1, ax2,ax3) = plt.subplots(1,3, figsize=(14, 4))\n",
        "\n",
        "sns.histplot(data=mse, color=\"skyblue\", kde=True, ax=ax1)\n",
        "sns.histplot(data=mre, color=\"red\", kde=True, ax=ax2)\n",
        "sns.histplot(data=mape, color=\"olive\", kde=True, ax=ax3)\n",
        "\n",
        "ax1.title.set_text('MSE')\n",
        "ax1.ticklabel_format(axis=\"x\", style='scientific')\n",
        "ax2.title.set_text('Residual Error')\n",
        "ax3.title.set_text('MAPE [%]')\n",
        "\n",
        "plt.ticklabel_format(style='scientific', axis='x',useOffset=False)\n",
        "\n",
        "plt.show()\n"
      ],
      "execution_count": null,
      "outputs": []
    },
    {
      "cell_type": "markdown",
      "metadata": {
        "id": "n0Cr-VF32tZj"
      },
      "source": [
        "## Generalization\n",
        "\n",
        "Check error for random field with two classes instead of 5"
      ]
    },
    {
      "cell_type": "code",
      "metadata": {
        "id": "CfvljW-qtYW5",
        "colab": {
          "base_uri": "https://localhost:8080/"
        },
        "outputId": "62fc321e-fc8c-47d8-8939-e7789a74e76b"
      },
      "source": [
        "!pip install flopy --quiet\n",
        "\n",
        "import sys\n",
        "import os\n",
        "import numpy as np\n",
        "import matplotlib as mpl\n",
        "import matplotlib.pyplot as plt\n",
        "import flopy\n",
        "import math\n",
        "\n",
        "from google.colab import drive\n",
        "drive.mount('/content/gdrive/')\n",
        "sys.path.append('/content/gdrive/MyDrive/Colaboratory/RF')\n",
        "import pyRan2DMod as RF\n",
        "\n",
        "!cp /content/gdrive/My\\ Drive/Colaboratory/Modflow_Exe/mf6 /usr/local/bin\n",
        "!chmod 755 /usr/local/bin/mf6\n"
      ],
      "execution_count": null,
      "outputs": [
        {
          "output_type": "stream",
          "name": "stdout",
          "text": [
            "\u001b[?25l\r\u001b[K     |▎                               | 10 kB 23.8 MB/s eta 0:00:01\r\u001b[K     |▌                               | 20 kB 13.3 MB/s eta 0:00:01\r\u001b[K     |▉                               | 30 kB 10.2 MB/s eta 0:00:01\r\u001b[K     |█                               | 40 kB 6.2 MB/s eta 0:00:01\r\u001b[K     |█▎                              | 51 kB 5.2 MB/s eta 0:00:01\r\u001b[K     |█▋                              | 61 kB 5.9 MB/s eta 0:00:01\r\u001b[K     |█▉                              | 71 kB 5.8 MB/s eta 0:00:01\r\u001b[K     |██▏                             | 81 kB 6.4 MB/s eta 0:00:01\r\u001b[K     |██▍                             | 92 kB 5.9 MB/s eta 0:00:01\r\u001b[K     |██▋                             | 102 kB 5.5 MB/s eta 0:00:01\r\u001b[K     |███                             | 112 kB 5.5 MB/s eta 0:00:01\r\u001b[K     |███▏                            | 122 kB 5.5 MB/s eta 0:00:01\r\u001b[K     |███▌                            | 133 kB 5.5 MB/s eta 0:00:01\r\u001b[K     |███▊                            | 143 kB 5.5 MB/s eta 0:00:01\r\u001b[K     |████                            | 153 kB 5.5 MB/s eta 0:00:01\r\u001b[K     |████▎                           | 163 kB 5.5 MB/s eta 0:00:01\r\u001b[K     |████▌                           | 174 kB 5.5 MB/s eta 0:00:01\r\u001b[K     |████▊                           | 184 kB 5.5 MB/s eta 0:00:01\r\u001b[K     |█████                           | 194 kB 5.5 MB/s eta 0:00:01\r\u001b[K     |█████▎                          | 204 kB 5.5 MB/s eta 0:00:01\r\u001b[K     |█████▋                          | 215 kB 5.5 MB/s eta 0:00:01\r\u001b[K     |█████▉                          | 225 kB 5.5 MB/s eta 0:00:01\r\u001b[K     |██████                          | 235 kB 5.5 MB/s eta 0:00:01\r\u001b[K     |██████▍                         | 245 kB 5.5 MB/s eta 0:00:01\r\u001b[K     |██████▋                         | 256 kB 5.5 MB/s eta 0:00:01\r\u001b[K     |███████                         | 266 kB 5.5 MB/s eta 0:00:01\r\u001b[K     |███████▏                        | 276 kB 5.5 MB/s eta 0:00:01\r\u001b[K     |███████▍                        | 286 kB 5.5 MB/s eta 0:00:01\r\u001b[K     |███████▊                        | 296 kB 5.5 MB/s eta 0:00:01\r\u001b[K     |████████                        | 307 kB 5.5 MB/s eta 0:00:01\r\u001b[K     |████████▏                       | 317 kB 5.5 MB/s eta 0:00:01\r\u001b[K     |████████▌                       | 327 kB 5.5 MB/s eta 0:00:01\r\u001b[K     |████████▊                       | 337 kB 5.5 MB/s eta 0:00:01\r\u001b[K     |█████████                       | 348 kB 5.5 MB/s eta 0:00:01\r\u001b[K     |█████████▎                      | 358 kB 5.5 MB/s eta 0:00:01\r\u001b[K     |█████████▌                      | 368 kB 5.5 MB/s eta 0:00:01\r\u001b[K     |█████████▉                      | 378 kB 5.5 MB/s eta 0:00:01\r\u001b[K     |██████████                      | 389 kB 5.5 MB/s eta 0:00:01\r\u001b[K     |██████████▍                     | 399 kB 5.5 MB/s eta 0:00:01\r\u001b[K     |██████████▋                     | 409 kB 5.5 MB/s eta 0:00:01\r\u001b[K     |██████████▉                     | 419 kB 5.5 MB/s eta 0:00:01\r\u001b[K     |███████████▏                    | 430 kB 5.5 MB/s eta 0:00:01\r\u001b[K     |███████████▍                    | 440 kB 5.5 MB/s eta 0:00:01\r\u001b[K     |███████████▋                    | 450 kB 5.5 MB/s eta 0:00:01\r\u001b[K     |████████████                    | 460 kB 5.5 MB/s eta 0:00:01\r\u001b[K     |████████████▏                   | 471 kB 5.5 MB/s eta 0:00:01\r\u001b[K     |████████████▌                   | 481 kB 5.5 MB/s eta 0:00:01\r\u001b[K     |████████████▊                   | 491 kB 5.5 MB/s eta 0:00:01\r\u001b[K     |█████████████                   | 501 kB 5.5 MB/s eta 0:00:01\r\u001b[K     |█████████████▎                  | 512 kB 5.5 MB/s eta 0:00:01\r\u001b[K     |█████████████▌                  | 522 kB 5.5 MB/s eta 0:00:01\r\u001b[K     |█████████████▉                  | 532 kB 5.5 MB/s eta 0:00:01\r\u001b[K     |██████████████                  | 542 kB 5.5 MB/s eta 0:00:01\r\u001b[K     |██████████████▎                 | 552 kB 5.5 MB/s eta 0:00:01\r\u001b[K     |██████████████▋                 | 563 kB 5.5 MB/s eta 0:00:01\r\u001b[K     |██████████████▉                 | 573 kB 5.5 MB/s eta 0:00:01\r\u001b[K     |███████████████                 | 583 kB 5.5 MB/s eta 0:00:01\r\u001b[K     |███████████████▍                | 593 kB 5.5 MB/s eta 0:00:01\r\u001b[K     |███████████████▋                | 604 kB 5.5 MB/s eta 0:00:01\r\u001b[K     |████████████████                | 614 kB 5.5 MB/s eta 0:00:01\r\u001b[K     |████████████████▏               | 624 kB 5.5 MB/s eta 0:00:01\r\u001b[K     |████████████████▍               | 634 kB 5.5 MB/s eta 0:00:01\r\u001b[K     |████████████████▊               | 645 kB 5.5 MB/s eta 0:00:01\r\u001b[K     |█████████████████               | 655 kB 5.5 MB/s eta 0:00:01\r\u001b[K     |█████████████████▎              | 665 kB 5.5 MB/s eta 0:00:01\r\u001b[K     |█████████████████▌              | 675 kB 5.5 MB/s eta 0:00:01\r\u001b[K     |█████████████████▊              | 686 kB 5.5 MB/s eta 0:00:01\r\u001b[K     |██████████████████              | 696 kB 5.5 MB/s eta 0:00:01\r\u001b[K     |██████████████████▎             | 706 kB 5.5 MB/s eta 0:00:01\r\u001b[K     |██████████████████▌             | 716 kB 5.5 MB/s eta 0:00:01\r\u001b[K     |██████████████████▉             | 727 kB 5.5 MB/s eta 0:00:01\r\u001b[K     |███████████████████             | 737 kB 5.5 MB/s eta 0:00:01\r\u001b[K     |███████████████████▍            | 747 kB 5.5 MB/s eta 0:00:01\r\u001b[K     |███████████████████▋            | 757 kB 5.5 MB/s eta 0:00:01\r\u001b[K     |███████████████████▉            | 768 kB 5.5 MB/s eta 0:00:01\r\u001b[K     |████████████████████▏           | 778 kB 5.5 MB/s eta 0:00:01\r\u001b[K     |████████████████████▍           | 788 kB 5.5 MB/s eta 0:00:01\r\u001b[K     |████████████████████▊           | 798 kB 5.5 MB/s eta 0:00:01\r\u001b[K     |█████████████████████           | 808 kB 5.5 MB/s eta 0:00:01\r\u001b[K     |█████████████████████▏          | 819 kB 5.5 MB/s eta 0:00:01\r\u001b[K     |█████████████████████▌          | 829 kB 5.5 MB/s eta 0:00:01\r\u001b[K     |█████████████████████▊          | 839 kB 5.5 MB/s eta 0:00:01\r\u001b[K     |██████████████████████          | 849 kB 5.5 MB/s eta 0:00:01\r\u001b[K     |██████████████████████▎         | 860 kB 5.5 MB/s eta 0:00:01\r\u001b[K     |██████████████████████▌         | 870 kB 5.5 MB/s eta 0:00:01\r\u001b[K     |██████████████████████▉         | 880 kB 5.5 MB/s eta 0:00:01\r\u001b[K     |███████████████████████         | 890 kB 5.5 MB/s eta 0:00:01\r\u001b[K     |███████████████████████▎        | 901 kB 5.5 MB/s eta 0:00:01\r\u001b[K     |███████████████████████▋        | 911 kB 5.5 MB/s eta 0:00:01\r\u001b[K     |███████████████████████▉        | 921 kB 5.5 MB/s eta 0:00:01\r\u001b[K     |████████████████████████▏       | 931 kB 5.5 MB/s eta 0:00:01\r\u001b[K     |████████████████████████▍       | 942 kB 5.5 MB/s eta 0:00:01\r\u001b[K     |████████████████████████▋       | 952 kB 5.5 MB/s eta 0:00:01\r\u001b[K     |█████████████████████████       | 962 kB 5.5 MB/s eta 0:00:01\r\u001b[K     |█████████████████████████▏      | 972 kB 5.5 MB/s eta 0:00:01\r\u001b[K     |█████████████████████████▌      | 983 kB 5.5 MB/s eta 0:00:01\r\u001b[K     |█████████████████████████▊      | 993 kB 5.5 MB/s eta 0:00:01\r\u001b[K     |██████████████████████████      | 1.0 MB 5.5 MB/s eta 0:00:01\r\u001b[K     |██████████████████████████▎     | 1.0 MB 5.5 MB/s eta 0:00:01\r\u001b[K     |██████████████████████████▌     | 1.0 MB 5.5 MB/s eta 0:00:01\r\u001b[K     |██████████████████████████▊     | 1.0 MB 5.5 MB/s eta 0:00:01\r\u001b[K     |███████████████████████████     | 1.0 MB 5.5 MB/s eta 0:00:01\r\u001b[K     |███████████████████████████▎    | 1.1 MB 5.5 MB/s eta 0:00:01\r\u001b[K     |███████████████████████████▋    | 1.1 MB 5.5 MB/s eta 0:00:01\r\u001b[K     |███████████████████████████▉    | 1.1 MB 5.5 MB/s eta 0:00:01\r\u001b[K     |████████████████████████████    | 1.1 MB 5.5 MB/s eta 0:00:01\r\u001b[K     |████████████████████████████▍   | 1.1 MB 5.5 MB/s eta 0:00:01\r\u001b[K     |████████████████████████████▋   | 1.1 MB 5.5 MB/s eta 0:00:01\r\u001b[K     |█████████████████████████████   | 1.1 MB 5.5 MB/s eta 0:00:01\r\u001b[K     |█████████████████████████████▏  | 1.1 MB 5.5 MB/s eta 0:00:01\r\u001b[K     |█████████████████████████████▍  | 1.1 MB 5.5 MB/s eta 0:00:01\r\u001b[K     |█████████████████████████████▊  | 1.1 MB 5.5 MB/s eta 0:00:01\r\u001b[K     |██████████████████████████████  | 1.2 MB 5.5 MB/s eta 0:00:01\r\u001b[K     |██████████████████████████████▏ | 1.2 MB 5.5 MB/s eta 0:00:01\r\u001b[K     |██████████████████████████████▌ | 1.2 MB 5.5 MB/s eta 0:00:01\r\u001b[K     |██████████████████████████████▊ | 1.2 MB 5.5 MB/s eta 0:00:01\r\u001b[K     |███████████████████████████████ | 1.2 MB 5.5 MB/s eta 0:00:01\r\u001b[K     |███████████████████████████████▎| 1.2 MB 5.5 MB/s eta 0:00:01\r\u001b[K     |███████████████████████████████▌| 1.2 MB 5.5 MB/s eta 0:00:01\r\u001b[K     |███████████████████████████████▉| 1.2 MB 5.5 MB/s eta 0:00:01\r\u001b[K     |████████████████████████████████| 1.2 MB 5.5 MB/s \n",
            "\u001b[?25h  Building wheel for flopy (setup.py) ... \u001b[?25l\u001b[?25hdone\n",
            "Drive already mounted at /content/gdrive/; to attempt to forcibly remount, call drive.mount(\"/content/gdrive/\", force_remount=True).\n"
          ]
        }
      ]
    },
    {
      "cell_type": "code",
      "metadata": {
        "id": "EmfXJ4jyznlT"
      },
      "source": [
        "import time\n",
        "import itertools"
      ],
      "execution_count": null,
      "outputs": []
    },
    {
      "cell_type": "code",
      "metadata": {
        "id": "w5iyav-h1PwL"
      },
      "source": [
        "def split_intervals(k, minK, maxK,n_intervals):\n",
        "    k = np.interp(k, (k.min(), k.max()), (minK, maxK))\n",
        "    intervals = np.linspace(start=minK, stop=maxK, num=n_intervals+1)\n",
        "    k = np.where(k >= intervals[-2], maxK, k)\n",
        "    k = np.where(k <= intervals[1], minK, k)\n",
        "    for index, interval in enumerate(intervals[1:-1]):\n",
        "        k = np.where((k >= intervals[index]) & (k <= intervals[index+1]), intervals[index], k)\n",
        "    k = np.around(k,1)\n",
        "    return k\n",
        "\n",
        "\n",
        "class modflow6:\n",
        "\n",
        "    def __init__(self, name, h_boundary, N, L, minK=None, maxK=None, n_intervals=2 , k=None, h_wells=None, wells_pos=None, n_wells=4):\n",
        "\n",
        "        # print(sys.version)\n",
        "        # print('numpy version: {}'.format(np.__version__))\n",
        "        # print('matplotlib version: {}'.format(mpl.__version__))\n",
        "        # print('flopy version: {}'.format(flopy.__version__))\n",
        "\n",
        "        # For this example, we will set up a model workspace.\n",
        "        # Model input files and output files will reside here.\n",
        "        self.workspace = os.path.join('data', name)\n",
        "        self.name = name\n",
        "\n",
        "        self.h_boundary = h_boundary\n",
        "\n",
        "        self.setUpWells = self.setupRandWells(h_wells, wells_pos, n_wells)\n",
        "\n",
        "        self.N = N\n",
        "        self.L = L\n",
        "\n",
        "        self.minK = minK\n",
        "        self.maxK = maxK\n",
        "        self.n_intervals = n_intervals\n",
        "        self.RF = None\n",
        "\n",
        "        if k is None:\n",
        "            self.randK = True\n",
        "            self.setup_RF(32.0, -26021981)\n",
        "        else:\n",
        "            self.randK = False\n",
        "            self.k = k\n",
        "\n",
        "        if not os.path.exists(self.workspace):\n",
        "            os.makedirs(self.workspace)\n",
        "\n",
        "    def setupRandWells(self, h_wells, wells_pos, n_wells):\n",
        "        all_coords = [[x, y] for x in range(1, self.N-1) for y in range(1, self.N-1)]\n",
        "        if h_wells is None and wells_pos is None:\n",
        "            randWells = True\n",
        "        else:\n",
        "            randWells = False\n",
        "\n",
        "        while True:\n",
        "            if randWells:\n",
        "                noWells = np.random.randint(n_wells-1, n_wells)\n",
        "                h_wells = []\n",
        "                for i in range(noWells):\n",
        "                    h_wells.append(np.random.uniform(0.5, 1) * self.h_boundary)\n",
        "                wells_pos_ind = np.random.choice(len(all_coords), noWells, replace=False)\n",
        "                wells_pos = [all_coords[i] for i in wells_pos_ind]\n",
        "            else:\n",
        "                h_wells = h_wells\n",
        "                wells_pos = wells_pos\n",
        "\n",
        "            yield h_wells, wells_pos\n",
        "\n",
        "    def setup_RF(self, theta, seed):\n",
        "        max_lvl = int(math.log(self.N)/math.log(2))+1\n",
        "        # print(\"Max Level: {}\".format(max_lvl))\n",
        "        self.RF = RF.rand2d(1, max_lvl, self.L / (self.N - 1), theta, self.N, self.N, seed, 0.0, 1.0, False, 1)\n",
        "\n",
        "\n",
        "    def run(self):\n",
        "        \"\"\" Runs a simple 2D domain with wells and boundaries in Modflow 6 producing output files\"\"\"\n",
        "\n",
        "        while True:\n",
        "\n",
        "            if self.randK:\n",
        "                input_arr = np.zeros((self.N, self.N, 3), dtype=float)\n",
        "            else:\n",
        "                input_arr = np.zeros((self.N, self.N, 2), dtype=float)\n",
        "\n",
        "            output_arr = np.zeros((self.N, self.N, 1), dtype=float)\n",
        "\n",
        "            if self.randK:\n",
        "                self.k = next(self.RF)\n",
        "                self.k = np.array(self.k)\n",
        "                if self.n_intervals==2:\n",
        "                    self.k = np.where(self.k >= 0, self.maxK, self.minK)\n",
        "                else:\n",
        "                    self.k = split_intervals(self.k, self.minK, self.maxK, self.n_intervals)\n",
        "                    \n",
        "                \n",
        "                input_arr[:, :, 2] = self.k[0]\n",
        "\n",
        "            start_time = time.time()\n",
        "            h_wells, wells_pos = next(self.setUpWells)\n",
        "            \n",
        "            \n",
        "            # Create the Flopy simulation object\n",
        "            sim = flopy.mf6.MFSimulation(sim_name=self.name, exe_name='mf6',\n",
        "                                         version='mf6', sim_ws=self.workspace,\n",
        "                                         verbosity_level=0)\n",
        "\n",
        "            # Create the Flopy temporal discretization object\n",
        "            tdis = flopy.mf6.modflow.mftdis.ModflowTdis(sim, pname='tdis', time_units='DAYS', nper=1,\n",
        "                                                        perioddata=[(1.0, 1, 1.0)])\n",
        "\n",
        "            # Create the Flopy groundwater flow (gwf) model object\n",
        "            model_nam_file = '{}.nam'.format(self.name)\n",
        "            gwf = flopy.mf6.ModflowGwf(sim, modelname=self.name, \n",
        "                                       model_nam_file=model_nam_file, save_flows=True)\n",
        "\n",
        "            # Create the Flopy iterative model solver (ims) Package object\n",
        "            ims = flopy.mf6.modflow.mfims.ModflowIms(sim, pname='ims', complexity='SIMPLE')\n",
        "\n",
        "            # Create the discretization package\n",
        "            #delrow = delcol = self.L / (self.N - 1)\n",
        "            delrow = delcol = 1 # width of every row and column\n",
        "            dis = flopy.mf6.modflow.mfgwfdis.ModflowGwfdis(gwf, pname='dis', nrow=self.N, ncol=self.N, delr=delrow, delc=delcol)\n",
        "\n",
        "            # Create the initial conditions package\n",
        "            start = h1 * np.ones((1, self.N, self.N))  # Head constant over domain at 1\n",
        "            ic = flopy.mf6.modflow.mfgwfic.ModflowGwfic(gwf, pname='ic', strt=start)\n",
        "\n",
        "            # Create the node property flow package\n",
        "            npf = flopy.mf6.modflow.mfgwfnpf.ModflowGwfnpf(gwf, pname='npf', icelltype=1, k=self.k,\n",
        "                                                           save_flows=True)\n",
        "\n",
        "            # Create the constant head package.\n",
        "            # List information is created a bit differently for\n",
        "            # MODFLOW 6 than for other MODFLOW versions.  The\n",
        "            # cellid (layer, row, column, for a regular grid)\n",
        "            # must be entered as a tuple as the first entry.\n",
        "            # Remember that these must be zero-based indices!\n",
        "\n",
        "            # Well Head Position\n",
        "            chd_rec = []\n",
        "           \n",
        "            try:\n",
        "              for well_head, pos in zip(itertools.repeat(float(h_wells),len(wells_pos)), wells_pos):\n",
        "                  chd_rec.append(((0, pos[0], pos[1]), well_head))\n",
        "            except TypeError:\n",
        "               for pos, well_head in zip(wells_pos, h_wells):\n",
        "                 chd_rec.append(((0, pos[0], pos[1]), well_head))\n",
        "\n",
        "            # Boundary Head\n",
        "            for row_col in range(0, N):\n",
        "                chd_rec.append(((0, row_col, 0), self.h_boundary))\n",
        "                chd_rec.append(((0, row_col, self.N - 1), self.h_boundary))\n",
        "                if row_col != 0 and row_col != self.N - 1:\n",
        "                    chd_rec.append(((0, 0, row_col), self.h_boundary))\n",
        "                    chd_rec.append(((0, self.N - 1, row_col), self.h_boundary))\n",
        "\n",
        "            chd = flopy.mf6.modflow.mfgwfchd.ModflowGwfchd(gwf, pname='chd', maxbound=len(chd_rec),\n",
        "                                                           stress_period_data=chd_rec, save_flows=True)\n",
        "\n",
        "            # The chd package stored the constant heads in a structured\n",
        "            # array, also called a recarray.  We can get a pointer to the\n",
        "            # recarray for the first stress period (iper = 0) as follows.\n",
        "            iper = 0\n",
        "            ra = chd.stress_period_data.get_data(key=iper)\n",
        "\n",
        "            # We can make a quick plot to show where our constant\n",
        "            # heads are located by creating an integer array\n",
        "            # that starts with ones everywhere, but is assigned\n",
        "            # a -1 where chds are located\n",
        "            ibd = np.zeros((1, self.N, self.N), dtype=int)\n",
        "            ihd = h1 * np.ones((1, self.N, self.N))\n",
        "            for [k, i, j], head in zip(ra['cellid'], ra['head']):\n",
        "                ibd[k, i, j] = 1\n",
        "                ihd[k, i, j] = head\n",
        "\n",
        "            ilay = 0\n",
        "\n",
        "            input_arr[:, :, 0] = ihd[ilay, :, :]\n",
        "            input_arr[:, :, 1] = ibd[ilay, :, :]\n",
        "\n",
        "            # Create the output control package\n",
        "            headfile = '{}.hds'.format(self.name)\n",
        "            head_filerecord = [headfile]\n",
        "            budgetfile = '{}.cbc'.format(self.name)\n",
        "            budget_filerecord = [budgetfile]\n",
        "            saverecord = [('HEAD', 'ALL'),\n",
        "                          ('BUDGET', 'ALL')]\n",
        "            printrecord = [('HEAD', 'LAST')]\n",
        "            oc = flopy.mf6.modflow.mfgwfoc.ModflowGwfoc(gwf, pname='oc', saverecord=saverecord,\n",
        "                                                        head_filerecord=head_filerecord,\n",
        "                                                        budget_filerecord=budget_filerecord,\n",
        "                                                        printrecord=printrecord)\n",
        "            \n",
        "            # Note that help can always be found for a package\n",
        "            # using either forms of the following syntax\n",
        "            #help(oc)\n",
        "            #help(flopy.mf6.modflow.mfgwfoc.ModflowGwfoc)\n",
        "            \n",
        "            \n",
        "            # Write the datasets\n",
        "            sim.write_simulation()\n",
        "\n",
        "            # Run the simulation\n",
        "            success, buff = sim.run_simulation()\n",
        "\n",
        "\n",
        "            if success:\n",
        "                # Read the binary head file and plot the results\n",
        "                # We can use the existing Flopy HeadFile class because\n",
        "                # the format of the headfile for MODFLOW 6 is the same\n",
        "                # as for previous MODFLOW verions\n",
        "                fname = os.path.join(self.workspace, name + \".hds\")\n",
        "                hds = flopy.utils.binaryfile.HeadFile(fname)\n",
        "                output_arr[:, :, 0] = hds.get_data(kstpkper=(0, 0))[0]\n",
        "                end_time = time.time()\n",
        "                # print(\"The time taken is \",end_time - start_time)\n",
        "                yield input_arr, output_arr\n",
        "\n",
        "            else:\n",
        "                raise RuntimeError(\"Modflow failed to run\")\n",
        "\n",
        "\n"
      ],
      "execution_count": null,
      "outputs": []
    },
    {
      "cell_type": "code",
      "metadata": {
        "id": "L-K4l4HP5n1-",
        "colab": {
          "base_uri": "https://localhost:8080/",
          "height": 491
        },
        "outputId": "6367ef10-c9b2-4f56-e5be-24d87c2d6110"
      },
      "source": [
        "def plot_IO(input, output, fixed,resize, show_Unet=True, UQ = False):\n",
        "\n",
        "    if not fixed:\n",
        "      if UQ:\n",
        "        no = 6\n",
        "        title = ['Input Boundary','Input Material','Target','Mean A. U-Net', 'Std A. U-Net']\n",
        "      else:\n",
        "        no = 6\n",
        "        title = ['Input Boundary','Input Material','Target', 'Prediction A. U-Net', 'Error']\n",
        "    else:\n",
        "        no = 3\n",
        "    \n",
        "    bounds = np.linspace(0.5, 1, 26)\n",
        "    norm = colors.BoundaryNorm(boundaries=bounds, ncolors=256)\n",
        "    plt.figure(figsize=(20,15))\n",
        "    count = 1\n",
        "    ax2 = plt.subplot(1, no, count)\n",
        "    im = ax2.spy(input[:, :, 1], markersize=5, precision=0.1, origin=\"lower\", color = 'firebrick')\n",
        "    plt.title(title[count-1], y=0.98)\n",
        "    plt.axis('off')\n",
        "    count += 1\n",
        "    if not fixed:\n",
        "        ax3 = plt.subplot(1, no, count)\n",
        "        plt.title(title[count-1])\n",
        "        im = ax3.imshow(input[:, :, 2])\n",
        "        plt.axis('off')\n",
        "        plt.colorbar(im,fraction=0.05, pad=0.03)\n",
        "        count += 1\n",
        "\n",
        "    ax4 = plt.subplot(1, no, count)\n",
        "    plt.title(title[count-1])\n",
        "    im = ax4.imshow(output[:, :, 0], norm=norm,cmap= 'gray')\n",
        "    plt.axis('off')\n",
        "    plt.colorbar(im,fraction=0.05, pad=0.03)\n",
        "\n",
        "    if show_Unet:\n",
        "      count += 1\n",
        "      ax5 = plt.subplot(1, no, count)\n",
        "      plt.title(title[count-1])\n",
        "      if resize:\n",
        "        image = input[tf.newaxis, ...]\n",
        "        image_resized = tf.image.resize(image[0], [64,64])\n",
        "        start = time.time()\n",
        "        prediction = model(image_resized[None,:,:,:]).numpy()\n",
        "        end = time.time()\n",
        "        # print(\"The time taken for A-Unet is \",end - start)\n",
        "        prediction_resized = tf.image.resize(prediction[0], [image.shape[1],image.shape[2]])\n",
        "        im = ax5.imshow(prediction[0,:,:,0], norm=norm, cmap= 'gray')\n",
        "        plt.axis('off')\n",
        "        plt.colorbar(im,fraction=0.05, pad=0.03)\n",
        "\n",
        "      elif UQ:\n",
        "        UQ_runs= [] \n",
        "        for i in range(1000):\n",
        "          prediction = model(input[None,:,:,:], training = True).numpy()\n",
        "          UQ_runs.append(prediction[0,:,:,:])   \n",
        "        mean_modflow = np.mean(UQ_runs, axis = 0)\n",
        "        std_modflow = np.std(UQ_runs, axis = 0)\n",
        "        bounds = np.linspace(0, 0.014, 8)\n",
        "        norm_std = colors.BoundaryNorm(boundaries=bounds, ncolors=256)\n",
        "\n",
        "        im = ax5.imshow(mean_modflow[:,:,0], norm=norm, cmap= 'gray')\n",
        "        plt.axis('off')\n",
        "        plt.colorbar(im,fraction=0.05, pad=0.03)\n",
        "        count += 1\n",
        "        ax6 = plt.subplot(1, no, count)\n",
        "        plt.title(title[count-1])\n",
        "        im = ax6.imshow(std_modflow[:,:,0], cmap=cm.jet)\n",
        "        plt.axis('off')\n",
        "        plt.colorbar(im,fraction=0.05, pad=0.03)\n",
        "\n",
        "      else:\n",
        "        start = time.time()\n",
        "        prediction = model(input[None,:,:,:]).numpy()\n",
        "        end = time.time()\n",
        "        # print(\"The time taken for A-Unet is \",end - start)\n",
        "        im = ax5.imshow(prediction[0,:,:,0], norm=norm, cmap= 'gray')\n",
        "        plt.axis('off')\n",
        "        plt.colorbar(im,fraction=0.05, pad=0.03)\n",
        "        \n",
        "        count += 1\n",
        "\n",
        "        \n",
        "        ax5 = plt.subplot(1, no, count)\n",
        "        reserr = output[:, :, 0] - prediction[0,:,:,0]\n",
        "        mse = tf.reduce_mean(tf.square(reserr))\n",
        "        im = ax5.imshow(tf.square(reserr), cmap= 'Reds')\n",
        "        plt.colorbar(im,fraction=0.05, pad=0.03)\n",
        "        plt.axis('off')\n",
        "        plt.title(\"MSE = {:.0e}\".format(mse))\n",
        "        # plt.title(title[count-1])\n",
        "\n",
        "    plt.axis('scaled')\n",
        "    plt.show()\n",
        "    return \n",
        "\n",
        "name = 'mf6ai'\n",
        "h1 = 1\n",
        "N = 64\n",
        "L = 64.0\n",
        "minK = 0.1\n",
        "maxK = 1\n",
        "n_intervals = 5\n",
        "fixed = False\n",
        "k = None\n",
        "if N==64:\n",
        "  resize = False\n",
        "else:\n",
        "  resize = True\n",
        "\n",
        "mf6 = modflow6(name, h1, N, L, k=k, minK=0.1, maxK=1, n_intervals= n_intervals, n_wells=5) # h_wells = [0.7], wells_pos=[[32,32]], n_wells=1 \n",
        "\n",
        "folder = [[], [], []]\n",
        "for iter in range(3):\n",
        "    data = mf6.run()\n",
        "    input_arr, output_arr = next(data)\n",
        "    start = time.time()\n",
        "    prediction = model(input_arr[None,:,:,:]).numpy()\n",
        "    end = time.time()\n",
        "    # print(\"The time taken for A-Unet is \",end - start)\n",
        "    \n",
        "    folder[0].append(input_arr)\n",
        "    folder[1].append(output_arr)\n",
        "    folder[2].append(prediction[0,:,:,:])   \n",
        "\n",
        "    plot_IO(input_arr, output_arr, fixed, resize, show_Unet=True, UQ= False)"
      ],
      "execution_count": null,
      "outputs": [
        {
          "output_type": "display_data",
          "data": {
            "image/png": "[encoded data removed]",
            "text/plain": [
              "<Figure size 2000x1500 with 9 Axes>"
            ]
          },
          "metadata": {}
        },
        {
          "output_type": "display_data",
          "data": {
            "image/png": "[encoded data removed]",
            "text/plain": [
              "<Figure size 2000x1500 with 9 Axes>"
            ]
          },
          "metadata": {}
        },
        {
          "output_type": "display_data",
          "data": {
            "image/png": "[encoded data removed]",
            "text/plain": [
              "<Figure size 2000x1500 with 9 Axes>"
            ]
          },
          "metadata": {}
        }
      ]
    },
    {
      "cell_type": "code",
      "metadata": {
        "colab": {
          "base_uri": "https://localhost:8080/"
        },
        "id": "7rJHRf0BQGd5",
        "outputId": "5fd48a97-9244-4f95-8a3c-4f36f3a9e432"
      },
      "source": [
        "input_arr.shape"
      ],
      "execution_count": null,
      "outputs": [
        {
          "output_type": "execute_result",
          "data": {
            "text/plain": [
              "(64, 64, 3)"
            ]
          },
          "metadata": {},
          "execution_count": 34
        }
      ]
    },
    {
      "cell_type": "code",
      "metadata": {
        "colab": {
          "base_uri": "https://localhost:8080/"
        },
        "id": "8mOR8hFSPhcz",
        "outputId": "4f929221-f04a-4293-d776-45c09036409f"
      },
      "source": [
        "gen = ['base' ,'3interv', '10interv', '4wells', '10wells']\n",
        "evaluation = [] \n",
        "evaluation_noatt = []\n",
        "for filename in (gen):\n",
        "    if filename == 'base':\n",
        "      data_name = \"40000_samples.npz\"\n",
        "    else:\n",
        "      data_name = \"{}_generalization.npz\".format(filename)\n",
        "\n",
        "    with np.load(os.path.join(path, data_name)) as data:\n",
        "        test_examples = tf.cast(data['x_test'], tf.float32)\n",
        "        test_labels = tf.cast(data['y_test'], tf.float32)\n",
        "        evaluation.append([filename] + model.evaluate(test_examples, test_labels)) #, verbose=1\n",
        "        evaluation_noatt.append([filename] + model_noatt.evaluate(test_examples, test_labels))\n",
        "\n",
        "df = pd.DataFrame(evaluation, columns=['scenario','loss','RMSE','coeff_determination','MSE Loss','custom_max'])\n",
        "df_noatt = pd.DataFrame(evaluation_noatt, columns=['scenario','loss','RMSE','coeff_determination','MSE Loss','custom_max'])\n",
        "\n",
        "df['scenario'] = ['base case' , '3 intervals', '10 intervals', '4 wells', '10 wells']\n",
        "df_noatt['scenario'] = ['base case', '3 intervals', '10 intervals', '4 wells', '10 wells']"
      ],
      "execution_count": null,
      "outputs": [
        {
          "output_type": "stream",
          "name": "stdout",
          "text": [
            "125/125 [==============================] - 10s 73ms/step - loss: 6.5670e-05 - RMSE: 0.0081 - coeff_determination: 0.9389 - MSE Loss: 6.5670e-05 - custom_max: 0.0683\n",
            "125/125 [==============================] - 7s 54ms/step - loss: 6.2595e-06 - RMSE: 0.0025 - coeff_determination: 0.9941 - MSE Loss: 6.2595e-06 - custom_max: 0.0698\n",
            "32/32 [==============================] - 2s 76ms/step - loss: 7.2960e-05 - RMSE: 0.0085 - coeff_determination: 0.9358 - MSE Loss: 7.2960e-05 - custom_max: 0.0778\n",
            "32/32 [==============================] - 2s 54ms/step - loss: 1.6401e-05 - RMSE: 0.0040 - coeff_determination: 0.9854 - MSE Loss: 1.6401e-05 - custom_max: 0.0889\n",
            "32/32 [==============================] - 2s 72ms/step - loss: 6.1473e-05 - RMSE: 0.0078 - coeff_determination: 0.9411 - MSE Loss: 6.1473e-05 - custom_max: 0.0666\n",
            "32/32 [==============================] - 2s 54ms/step - loss: 4.7294e-06 - RMSE: 0.0022 - coeff_determination: 0.9954 - MSE Loss: 4.7294e-06 - custom_max: 0.0609\n",
            "32/32 [==============================] - 2s 73ms/step - loss: 2.1046e-04 - RMSE: 0.0145 - coeff_determination: 0.8916 - MSE Loss: 2.1046e-04 - custom_max: 0.0874\n",
            "32/32 [==============================] - 2s 54ms/step - loss: 1.8361e-05 - RMSE: 0.0043 - coeff_determination: 0.9906 - MSE Loss: 1.8361e-05 - custom_max: 0.0975\n",
            "32/32 [==============================] - 2s 72ms/step - loss: 8.3466e-04 - RMSE: 0.0289 - coeff_determination: 0.8055 - MSE Loss: 8.3466e-04 - custom_max: 0.1374\n",
            "32/32 [==============================] - 2s 54ms/step - loss: 1.5260e-04 - RMSE: 0.0124 - coeff_determination: 0.9648 - MSE Loss: 1.5260e-04 - custom_max: 0.1421\n"
          ]
        }
      ]
    },
    {
      "cell_type": "code",
      "metadata": {
        "id": "QCS4EXLu0FdZ"
      },
      "source": [
        "df['scenario'] = ['3 intervals', '10 intervals', '4 wells', '10 wells']\n",
        "df_noatt['scenario'] = ['3 intervals', '10 intervals', '4 wells', '10 wells']"
      ],
      "execution_count": null,
      "outputs": []
    },
    {
      "cell_type": "code",
      "metadata": {
        "colab": {
          "base_uri": "https://localhost:8080/"
        },
        "id": "2ITxriCU0GQV",
        "outputId": "72198a68-39f7-46ca-835e-92381b41de12"
      },
      "source": [
        "pd.set_option('display.float_format', lambda x: '%.1e' % x)\n",
        "print(df['MSE Loss'])"
      ],
      "execution_count": null,
      "outputs": [
        {
          "output_type": "stream",
          "name": "stdout",
          "text": [
            "0   6.6e-05\n",
            "1   7.3e-05\n",
            "2   6.1e-05\n",
            "3   2.1e-04\n",
            "4   8.3e-04\n",
            "Name: MSE Loss, dtype: float64\n"
          ]
        }
      ]
    },
    {
      "cell_type": "code",
      "metadata": {
        "colab": {
          "base_uri": "https://localhost:8080/",
          "height": 445
        },
        "id": "mFLHCoYHzS6u",
        "outputId": "c9dc4ebf-cf97-43aa-cc0b-6c8696dcbef7"
      },
      "source": [
        "import matplotlib.ticker as mtick\n",
        "width = 0.4\n",
        "ax = df.plot.bar(x='scenario', y='MSE Loss', rot=0, position=1, width = width, label='Attention U-Net')\n",
        "df_noatt.plot.bar(x='scenario', y='MSE Loss', rot=0, ax=ax, color='red', position=0, width= width, label='U-Net')\n",
        "ax.set_ylabel('MSE')\n",
        "ax.set_xlabel('')\n",
        "# ax.yaxis.set_major_formatter(mtick.FormatStrFormatter('%.0e'))\n",
        "ax.yaxis.set_major_formatter(OOMFormatter(-4, mathText=False))"
      ],
      "execution_count": null,
      "outputs": [
        {
          "output_type": "display_data",
          "data": {
            "image/png": "[encoded data removed]",
            "text/plain": [
              "<Figure size 640x480 with 1 Axes>"
            ]
          },
          "metadata": {}
        }
      ]
    },
    {
      "cell_type": "code",
      "metadata": {
        "colab": {
          "base_uri": "https://localhost:8080/",
          "height": 445
        },
        "id": "sFe7Enlv3MwX",
        "outputId": "38223e4c-f37a-4b6a-d93e-0e7c851b0144"
      },
      "source": [
        "import matplotlib.ticker as mtick\n",
        "width = 0.4\n",
        "ax = df.iloc[1: , :].plot.bar(x='scenario', y='MSE Loss', rot=0, position=1, width = width, label='Attention U-Net')\n",
        "# df_noatt.plot.bar(x='scenario', y='MSE Loss', rot=0, ax=ax, color='red', position=0, width= width, label='U-Net')\n",
        "ax.set_ylabel('MSE')\n",
        "ax.set_xlabel('')\n",
        "ax.get_legend().remove()\n",
        "\n",
        "# ax.yaxis.set_major_formatter(mtick.FormatStrFormatter('%.0e'))\n",
        "ax.yaxis.set_major_formatter(OOMFormatter(-4, mathText=False))"
      ],
      "execution_count": null,
      "outputs": [
        {
          "output_type": "display_data",
          "data": {
            "image/png": "[encoded data removed]",
            "text/plain": [
              "<Figure size 640x480 with 1 Axes>"
            ]
          },
          "metadata": {}
        }
      ]
    },
    {
      "cell_type": "code",
      "metadata": {
        "colab": {
          "base_uri": "https://localhost:8080/",
          "height": 17
        },
        "id": "pMt2HdoAyXO5",
        "outputId": "0e1ef43e-16e1-4097-ff27-0dfcb0ebe8cf"
      },
      "source": [
        "# df.to_csv('gener_att.csv')\n",
        "# from google.colab import files\n",
        "# files.download(\"gener_att.csv\")\n",
        "# df_noatt.to_csv('gener_noatt.csv')\n",
        "# files.download(\"gener_noatt.csv\")"
      ],
      "execution_count": null,
      "outputs": [
        {
          "output_type": "display_data",
          "data": {
            "application/javascript": [
              "\n",
              "    async function download(id, filename, size) {\n",
              "      if (!google.colab.kernel.accessAllowed) {\n",
              "        return;\n",
              "      }\n",
              "      const div = document.createElement('div');\n",
              "      const label = document.createElement('label');\n",
              "      label.textContent = `Downloading \"${filename}\": `;\n",
              "      div.appendChild(label);\n",
              "      const progress = document.createElement('progress');\n",
              "      progress.max = size;\n",
              "      div.appendChild(progress);\n",
              "      document.body.appendChild(div);\n",
              "\n",
              "      const buffers = [];\n",
              "      let downloaded = 0;\n",
              "\n",
              "      const channel = await google.colab.kernel.comms.open(id);\n",
              "      // Send a message to notify the kernel that we're ready.\n",
              "      channel.send({})\n",
              "\n",
              "      for await (const message of channel.messages) {\n",
              "        // Send a message to notify the kernel that we're ready.\n",
              "        channel.send({})\n",
              "        if (message.buffers) {\n",
              "          for (const buffer of message.buffers) {\n",
              "            buffers.push(buffer);\n",
              "            downloaded += buffer.byteLength;\n",
              "            progress.value = downloaded;\n",
              "          }\n",
              "        }\n",
              "      }\n",
              "      const blob = new Blob(buffers, {type: 'application/binary'});\n",
              "      const a = document.createElement('a');\n",
              "      a.href = window.URL.createObjectURL(blob);\n",
              "      a.download = filename;\n",
              "      div.appendChild(a);\n",
              "      a.click();\n",
              "      div.remove();\n",
              "    }\n",
              "  "
            ],
            "text/plain": [
              "<IPython.core.display.Javascript object>"
            ]
          },
          "metadata": {}
        },
        {
          "output_type": "display_data",
          "data": {
            "application/javascript": [
              "download(\"download_24c5fb92-f995-4730-bce8-c9f78d13a16e\", \"gener_att.csv\", 511)"
            ],
            "text/plain": [
              "<IPython.core.display.Javascript object>"
            ]
          },
          "metadata": {}
        }
      ]
    },
    {
      "cell_type": "code",
      "metadata": {
        "id": "H2ZPDkyKzL2N"
      },
      "source": [
        "def plot_IO(input, output, fixed,resize, show_Unet=True, UQ = False):\n",
        "\n",
        "    if not fixed:\n",
        "      if UQ:\n",
        "        no = 8\n",
        "        title = ['Input Boundary','Input Material','Target','Mean U-Net', 'Std U-Net', 'Mean A. U-Net', 'Std A. U-Net']\n",
        "      else:\n",
        "        no = 5\n",
        "        title = ['Input Boundary','Input Field','Target', 'Prediction']\n",
        "    else:\n",
        "        no = 3\n",
        "    \n",
        "    bounds = np.linspace(0.5, 1, 26)\n",
        "    norm = colors.BoundaryNorm(boundaries=bounds, ncolors=256)\n",
        "    plt.figure(figsize=(34,15))\n",
        "    count = 1\n",
        "    ax2 = plt.subplot(1, no, count)\n",
        "    im = ax2.spy(input[:, :, 1], markersize=5, precision=0.1, origin=\"lower\", color = 'firebrick')\n",
        "    plt.title(title[count-1], y=0.98)\n",
        "    plt.axis('off')\n",
        "    count += 1\n",
        "    if not fixed:\n",
        "        ax3 = plt.subplot(1, no, count)\n",
        "        plt.title(title[count-1])\n",
        "        im = ax3.imshow(input[:, :, 2])\n",
        "        plt.axis('off')\n",
        "        plt.colorbar(im,fraction=0.05, pad=0.03)\n",
        "        count += 1\n",
        "\n",
        "    ax4 = plt.subplot(1, no, count)\n",
        "    plt.title(title[count-1])\n",
        "    im = ax4.imshow(output[:, :, 0], norm=norm, cmap = 'gray')\n",
        "    plt.axis('off')\n",
        "    plt.colorbar(im,fraction=0.05, pad=0.03)\n",
        "\n",
        "    if show_Unet:\n",
        "      count += 1\n",
        "      ax5 = plt.subplot(1, no, count)\n",
        "      plt.title(title[count-1])\n",
        "      if resize:\n",
        "        image = input[tf.newaxis, ...]\n",
        "        image_resized = tf.image.resize(image[0], [64,64])\n",
        "        start = time.time()\n",
        "        prediction = model(image_resized[None,:,:,:]).numpy()\n",
        "        end = time.time()\n",
        "        # print(\"The time taken for A-Unet is \",end - start)\n",
        "        prediction_resized = tf.image.resize(prediction[0], [image.shape[1],image.shape[2]])\n",
        "        im = ax5.imshow(prediction[0,:,:,0], norm=norm)\n",
        "        plt.axis('off')\n",
        "        plt.colorbar(im,fraction=0.05, pad=0.03)\n",
        "\n",
        "      elif UQ:\n",
        "        UQ_runs= [] \n",
        "        UQ_runs_noatt= [] \n",
        "        for i in range(1000):\n",
        "          prediction = model(input[None,:,:,:], training = True).numpy()\n",
        "          UQ_runs.append(prediction[0,:,:,:])   \n",
        "          prediction_noatt = model_noatt(input[None,:,:,:], training = True).numpy()\n",
        "          UQ_runs_noatt.append(prediction_noatt[0,:,:,:])   \n",
        "        mean_aunet = np.mean(UQ_runs, axis = 0)\n",
        "        mean_noatt = np.mean(UQ_runs_noatt, axis = 0)\n",
        "        std_aunet = np.std(UQ_runs, axis = 0)\n",
        "        std_noatt = np.std(UQ_runs_noatt, axis = 0)\n",
        "        bounds = np.linspace(0, 0.014, 8)\n",
        "        norm_std = colors.BoundaryNorm(boundaries=bounds, ncolors=256)\n",
        "\n",
        "        im = ax5.imshow(mean_noatt[:,:,0], norm=norm, cmap = 'gray')\n",
        "        plt.axis('off')\n",
        "        plt.colorbar(im,fraction=0.05, pad=0.03)\n",
        "        count += 1\n",
        "        ax6 = plt.subplot(1, no, count)\n",
        "        plt.title(title[count-1])\n",
        "        im = ax6.imshow(std_noatt[:,:,0], cmap=cm.jet, norm = norm_std)\n",
        "        plt.axis('off')\n",
        "        plt.colorbar(im,fraction=0.05, pad=0.03)\n",
        "\n",
        "        count += 1\n",
        "        ax7 = plt.subplot(1, no, count)\n",
        "        plt.title(title[count-1])\n",
        "\n",
        "        im = ax7.imshow(mean_aunet[:,:,0], norm=norm, cmap = 'gray')\n",
        "        plt.axis('off')\n",
        "        plt.colorbar(im,fraction=0.05, pad=0.03)\n",
        "        count += 1\n",
        "        ax8 = plt.subplot(1, no, count)\n",
        "        plt.title(title[count-1])\n",
        "        im = ax8.imshow(std_aunet[:,:,0], cmap=cm.jet, norm = norm_std)\n",
        "        plt.axis('off')\n",
        "        plt.colorbar(im,fraction=0.05, pad=0.03)\n",
        "\n",
        "      else:\n",
        "        start = time.time()\n",
        "        prediction = model(input[None,:,:,:]).numpy()\n",
        "        end = time.time()\n",
        "        # print(\"The time taken for A-Unet is \",end - start)\n",
        "        im = ax5.imshow(prediction[0,:,:,0], norm=norm)\n",
        "        plt.axis('off')\n",
        "        plt.colorbar(im,fraction=0.05, pad=0.03)\n",
        "    plt.axis('scaled')\n",
        "    plt.show()\n",
        "    return \n",
        "\n",
        "name = 'mf6ai'\n",
        "h1 = 1\n",
        "N = 64\n",
        "L = 64.0\n",
        "minK = 0.1\n",
        "maxK = 1\n",
        "n_intervals = 5\n",
        "fixed = False\n",
        "k = None\n",
        "if N==64:\n",
        "  resize = False\n",
        "else:\n",
        "  resize = True\n",
        "\n",
        "mf6 = modflow6(name, h1, N, L, k=k, minK=0.1, maxK=1, n_intervals= n_intervals) # h_wells = [0.7], wells_pos=[[32,32]], n_wells=1 \n",
        "\n",
        "folder = [[], [], []]\n",
        "for iter in range(5):\n",
        "    data = mf6.run()\n",
        "    input_arr, output_arr = next(data)\n",
        "    start = time.time()\n",
        "    prediction = model(input_arr[None,:,:,:]).numpy()\n",
        "    end = time.time()\n",
        "    # print(\"The time taken for A-Unet is \",end - start)\n",
        "    \n",
        "    folder[0].append(input_arr)\n",
        "    folder[1].append(output_arr)\n",
        "    folder[2].append(prediction[0,:,:,:])   \n",
        "\n",
        "    plot_IO(input_arr, output_arr, fixed, resize, show_Unet=True, UQ= True)"
      ],
      "execution_count": null,
      "outputs": []
    },
    {
      "cell_type": "code",
      "metadata": {
        "id": "Hrif2d3-tG_q"
      },
      "source": [
        "import os\n",
        "import seaborn as sns\n",
        "import pandas as pd\n",
        "\n",
        "x = 32\n",
        "y= 10\n",
        "val_moflow = []\n",
        "val_aunet = []\n",
        "for i in range(1000):\n",
        "    val_moflow.append(folder[1][i][x,y,0])\n",
        "    val_aunet.append(folder[2][i][x,y,0])\n",
        "\n",
        "\n",
        "# sns.histplot(data=val_moflow, color=\"skyblue\", kde=True)\n",
        "# sns.histplot(data=val_aunet, kde=True)\n",
        "\n",
        "ax = sns.kdeplot(val_moflow, color=\"skyblue\", label = 'Modflow')\n",
        "ax.lines[0].set_linestyle(\"--\")\n",
        "sns.kdeplot(val_aunet, color=\"r\", label = 'Attention U-Net')\n",
        "plt.legend()"
      ],
      "execution_count": null,
      "outputs": []
    }
  ]
}